{
 "cells": [
  {
   "cell_type": "code",
   "execution_count": 1,
   "metadata": {},
   "outputs": [],
   "source": [
    "import pandas as pd\n",
    "from funtions import *"
   ]
  },
  {
   "cell_type": "code",
   "execution_count": 2,
   "metadata": {},
   "outputs": [],
   "source": [
    "df = pd.read_csv(\"./Dataset/5.2.df_clean_target.csv\")"
   ]
  },
  {
   "cell_type": "code",
   "execution_count": 5,
   "metadata": {},
   "outputs": [
    {
     "data": {
      "text/html": [
       "<div>\n",
       "<style scoped>\n",
       "    .dataframe tbody tr th:only-of-type {\n",
       "        vertical-align: middle;\n",
       "    }\n",
       "\n",
       "    .dataframe tbody tr th {\n",
       "        vertical-align: top;\n",
       "    }\n",
       "\n",
       "    .dataframe thead th {\n",
       "        text-align: right;\n",
       "    }\n",
       "</style>\n",
       "<table border=\"1\" class=\"dataframe\">\n",
       "  <thead>\n",
       "    <tr style=\"text-align: right;\">\n",
       "      <th></th>\n",
       "      <th>Week</th>\n",
       "      <th>SalesUnitWeek</th>\n",
       "      <th>SalesPesosWeek</th>\n",
       "      <th>ReturnsUnitNextWeek</th>\n",
       "      <th>RetrunsPesosNestWeek</th>\n",
       "      <th>AjustedDemand</th>\n",
       "      <th>Latitude</th>\n",
       "      <th>Longitude</th>\n",
       "      <th>typeClient</th>\n",
       "      <th>desc</th>\n",
       "      <th>g</th>\n",
       "      <th>brand</th>\n",
       "      <th>Ruta_SAK_counts</th>\n",
       "      <th>target</th>\n",
       "    </tr>\n",
       "  </thead>\n",
       "  <tbody>\n",
       "    <tr>\n",
       "      <th>0</th>\n",
       "      <td>5</td>\n",
       "      <td>60</td>\n",
       "      <td>270.00</td>\n",
       "      <td>0</td>\n",
       "      <td>0.0</td>\n",
       "      <td>60</td>\n",
       "      <td>21.122129</td>\n",
       "      <td>-101.60347</td>\n",
       "      <td>Small Franchise</td>\n",
       "      <td>Nito</td>\n",
       "      <td>62.0</td>\n",
       "      <td>BIM</td>\n",
       "      <td>2008</td>\n",
       "      <td>1</td>\n",
       "    </tr>\n",
       "    <tr>\n",
       "      <th>1</th>\n",
       "      <td>8</td>\n",
       "      <td>20</td>\n",
       "      <td>90.00</td>\n",
       "      <td>0</td>\n",
       "      <td>0.0</td>\n",
       "      <td>20</td>\n",
       "      <td>21.122129</td>\n",
       "      <td>-101.60347</td>\n",
       "      <td>Individual</td>\n",
       "      <td>Nito</td>\n",
       "      <td>62.0</td>\n",
       "      <td>BIM</td>\n",
       "      <td>2008</td>\n",
       "      <td>1</td>\n",
       "    </tr>\n",
       "    <tr>\n",
       "      <th>2</th>\n",
       "      <td>6</td>\n",
       "      <td>10</td>\n",
       "      <td>45.00</td>\n",
       "      <td>0</td>\n",
       "      <td>0.0</td>\n",
       "      <td>10</td>\n",
       "      <td>21.122129</td>\n",
       "      <td>-101.60347</td>\n",
       "      <td>NO IDENTIFICADO</td>\n",
       "      <td>Nito</td>\n",
       "      <td>62.0</td>\n",
       "      <td>BIM</td>\n",
       "      <td>2008</td>\n",
       "      <td>1</td>\n",
       "    </tr>\n",
       "    <tr>\n",
       "      <th>3</th>\n",
       "      <td>7</td>\n",
       "      <td>25</td>\n",
       "      <td>112.50</td>\n",
       "      <td>0</td>\n",
       "      <td>0.0</td>\n",
       "      <td>25</td>\n",
       "      <td>21.122129</td>\n",
       "      <td>-101.60347</td>\n",
       "      <td>Small Franchise</td>\n",
       "      <td>Nito</td>\n",
       "      <td>62.0</td>\n",
       "      <td>BIM</td>\n",
       "      <td>2008</td>\n",
       "      <td>1</td>\n",
       "    </tr>\n",
       "    <tr>\n",
       "      <th>4</th>\n",
       "      <td>9</td>\n",
       "      <td>23</td>\n",
       "      <td>103.50</td>\n",
       "      <td>0</td>\n",
       "      <td>0.0</td>\n",
       "      <td>23</td>\n",
       "      <td>21.122129</td>\n",
       "      <td>-101.60347</td>\n",
       "      <td>Small Franchise</td>\n",
       "      <td>Nito</td>\n",
       "      <td>62.0</td>\n",
       "      <td>BIM</td>\n",
       "      <td>2008</td>\n",
       "      <td>1</td>\n",
       "    </tr>\n",
       "    <tr>\n",
       "      <th>...</th>\n",
       "      <td>...</td>\n",
       "      <td>...</td>\n",
       "      <td>...</td>\n",
       "      <td>...</td>\n",
       "      <td>...</td>\n",
       "      <td>...</td>\n",
       "      <td>...</td>\n",
       "      <td>...</td>\n",
       "      <td>...</td>\n",
       "      <td>...</td>\n",
       "      <td>...</td>\n",
       "      <td>...</td>\n",
       "      <td>...</td>\n",
       "      <td>...</td>\n",
       "    </tr>\n",
       "    <tr>\n",
       "      <th>964343</th>\n",
       "      <td>5</td>\n",
       "      <td>60</td>\n",
       "      <td>1062.60</td>\n",
       "      <td>0</td>\n",
       "      <td>0.0</td>\n",
       "      <td>60</td>\n",
       "      <td>18.994450</td>\n",
       "      <td>-98.19185</td>\n",
       "      <td>Supermarket</td>\n",
       "      <td>Tostada Briobalance</td>\n",
       "      <td>240.0</td>\n",
       "      <td>SAN</td>\n",
       "      <td>1</td>\n",
       "      <td>1</td>\n",
       "    </tr>\n",
       "    <tr>\n",
       "      <th>964344</th>\n",
       "      <td>8</td>\n",
       "      <td>192</td>\n",
       "      <td>14962.56</td>\n",
       "      <td>0</td>\n",
       "      <td>0.0</td>\n",
       "      <td>192</td>\n",
       "      <td>25.767190</td>\n",
       "      <td>-108.99228</td>\n",
       "      <td>Walmart</td>\n",
       "      <td>Principe Mix</td>\n",
       "      <td>1724.0</td>\n",
       "      <td>MLA</td>\n",
       "      <td>1</td>\n",
       "      <td>1</td>\n",
       "    </tr>\n",
       "    <tr>\n",
       "      <th>964345</th>\n",
       "      <td>8</td>\n",
       "      <td>192</td>\n",
       "      <td>14213.76</td>\n",
       "      <td>0</td>\n",
       "      <td>0.0</td>\n",
       "      <td>192</td>\n",
       "      <td>19.432680</td>\n",
       "      <td>-99.13421</td>\n",
       "      <td>Walmart</td>\n",
       "      <td>Principe Mix</td>\n",
       "      <td>1724.0</td>\n",
       "      <td>MLA</td>\n",
       "      <td>1</td>\n",
       "      <td>1</td>\n",
       "    </tr>\n",
       "    <tr>\n",
       "      <th>964346</th>\n",
       "      <td>8</td>\n",
       "      <td>245</td>\n",
       "      <td>12078.50</td>\n",
       "      <td>0</td>\n",
       "      <td>0.0</td>\n",
       "      <td>245</td>\n",
       "      <td>19.432680</td>\n",
       "      <td>-99.13421</td>\n",
       "      <td>Walmart</td>\n",
       "      <td>BranFrut Fresa</td>\n",
       "      <td>NaN</td>\n",
       "      <td>BIM</td>\n",
       "      <td>1</td>\n",
       "      <td>1</td>\n",
       "    </tr>\n",
       "    <tr>\n",
       "      <th>964347</th>\n",
       "      <td>7</td>\n",
       "      <td>192</td>\n",
       "      <td>13386.24</td>\n",
       "      <td>0</td>\n",
       "      <td>0.0</td>\n",
       "      <td>192</td>\n",
       "      <td>18.994450</td>\n",
       "      <td>-98.19185</td>\n",
       "      <td>Costco Store</td>\n",
       "      <td>Mix Snacks</td>\n",
       "      <td>1368.0</td>\n",
       "      <td>MLA</td>\n",
       "      <td>1</td>\n",
       "      <td>1</td>\n",
       "    </tr>\n",
       "  </tbody>\n",
       "</table>\n",
       "<p>964348 rows × 14 columns</p>\n",
       "</div>"
      ],
      "text/plain": [
       "        Week  SalesUnitWeek  SalesPesosWeek  ReturnsUnitNextWeek  \\\n",
       "0          5             60          270.00                    0   \n",
       "1          8             20           90.00                    0   \n",
       "2          6             10           45.00                    0   \n",
       "3          7             25          112.50                    0   \n",
       "4          9             23          103.50                    0   \n",
       "...      ...            ...             ...                  ...   \n",
       "964343     5             60         1062.60                    0   \n",
       "964344     8            192        14962.56                    0   \n",
       "964345     8            192        14213.76                    0   \n",
       "964346     8            245        12078.50                    0   \n",
       "964347     7            192        13386.24                    0   \n",
       "\n",
       "        RetrunsPesosNestWeek  AjustedDemand   Latitude  Longitude  \\\n",
       "0                        0.0             60  21.122129 -101.60347   \n",
       "1                        0.0             20  21.122129 -101.60347   \n",
       "2                        0.0             10  21.122129 -101.60347   \n",
       "3                        0.0             25  21.122129 -101.60347   \n",
       "4                        0.0             23  21.122129 -101.60347   \n",
       "...                      ...            ...        ...        ...   \n",
       "964343                   0.0             60  18.994450  -98.19185   \n",
       "964344                   0.0            192  25.767190 -108.99228   \n",
       "964345                   0.0            192  19.432680  -99.13421   \n",
       "964346                   0.0            245  19.432680  -99.13421   \n",
       "964347                   0.0            192  18.994450  -98.19185   \n",
       "\n",
       "             typeClient                  desc       g brand  Ruta_SAK_counts  \\\n",
       "0       Small Franchise                 Nito     62.0   BIM             2008   \n",
       "1            Individual                 Nito     62.0   BIM             2008   \n",
       "2       NO IDENTIFICADO                 Nito     62.0   BIM             2008   \n",
       "3       Small Franchise                 Nito     62.0   BIM             2008   \n",
       "4       Small Franchise                 Nito     62.0   BIM             2008   \n",
       "...                 ...                   ...     ...   ...              ...   \n",
       "964343      Supermarket  Tostada Briobalance    240.0   SAN                1   \n",
       "964344          Walmart         Principe Mix   1724.0   MLA                1   \n",
       "964345          Walmart         Principe Mix   1724.0   MLA                1   \n",
       "964346          Walmart       BranFrut Fresa      NaN   BIM                1   \n",
       "964347     Costco Store           Mix Snacks   1368.0   MLA                1   \n",
       "\n",
       "        target  \n",
       "0            1  \n",
       "1            1  \n",
       "2            1  \n",
       "3            1  \n",
       "4            1  \n",
       "...        ...  \n",
       "964343       1  \n",
       "964344       1  \n",
       "964345       1  \n",
       "964346       1  \n",
       "964347       1  \n",
       "\n",
       "[964348 rows x 14 columns]"
      ]
     },
     "execution_count": 5,
     "metadata": {},
     "output_type": "execute_result"
    }
   ],
   "source": [
    "df"
   ]
  },
  {
   "cell_type": "code",
   "execution_count": 6,
   "metadata": {},
   "outputs": [
    {
     "data": {
      "text/plain": [
       "0         5\n",
       "1         8\n",
       "2         6\n",
       "3         7\n",
       "4         9\n",
       "         ..\n",
       "964343    5\n",
       "964344    8\n",
       "964345    8\n",
       "964346    8\n",
       "964347    7\n",
       "Name: Week, Length: 964348, dtype: int64"
      ]
     },
     "execution_count": 6,
     "metadata": {},
     "output_type": "execute_result"
    }
   ],
   "source": [
    "df.Week"
   ]
  },
  {
   "cell_type": "code",
   "execution_count": 71,
   "metadata": {},
   "outputs": [],
   "source": [
    "ruta = pd.DataFrame(df[\"Ruta_SAK_counts\"].unique(), columns=[\"Ruta_SAK_counts\"])"
   ]
  },
  {
   "cell_type": "code",
   "execution_count": 132,
   "metadata": {},
   "outputs": [
    {
     "data": {
      "text/html": [
       "<div>\n",
       "<style scoped>\n",
       "    .dataframe tbody tr th:only-of-type {\n",
       "        vertical-align: middle;\n",
       "    }\n",
       "\n",
       "    .dataframe tbody tr th {\n",
       "        vertical-align: top;\n",
       "    }\n",
       "\n",
       "    .dataframe thead th {\n",
       "        text-align: right;\n",
       "    }\n",
       "</style>\n",
       "<table border=\"1\" class=\"dataframe\">\n",
       "  <thead>\n",
       "    <tr style=\"text-align: right;\">\n",
       "      <th></th>\n",
       "      <th>Ruta_SAK_counts</th>\n",
       "    </tr>\n",
       "  </thead>\n",
       "  <tbody>\n",
       "    <tr>\n",
       "      <th>count</th>\n",
       "      <td>841.000000</td>\n",
       "    </tr>\n",
       "    <tr>\n",
       "      <th>mean</th>\n",
       "      <td>970.482759</td>\n",
       "    </tr>\n",
       "    <tr>\n",
       "      <th>std</th>\n",
       "      <td>1039.387878</td>\n",
       "    </tr>\n",
       "    <tr>\n",
       "      <th>min</th>\n",
       "      <td>1.000000</td>\n",
       "    </tr>\n",
       "    <tr>\n",
       "      <th>25%</th>\n",
       "      <td>228.000000</td>\n",
       "    </tr>\n",
       "    <tr>\n",
       "      <th>50%</th>\n",
       "      <td>598.000000</td>\n",
       "    </tr>\n",
       "    <tr>\n",
       "      <th>75%</th>\n",
       "      <td>1385.000000</td>\n",
       "    </tr>\n",
       "    <tr>\n",
       "      <th>max</th>\n",
       "      <td>6021.000000</td>\n",
       "    </tr>\n",
       "  </tbody>\n",
       "</table>\n",
       "</div>"
      ],
      "text/plain": [
       "       Ruta_SAK_counts\n",
       "count       841.000000\n",
       "mean        970.482759\n",
       "std        1039.387878\n",
       "min           1.000000\n",
       "25%         228.000000\n",
       "50%         598.000000\n",
       "75%        1385.000000\n",
       "max        6021.000000"
      ]
     },
     "execution_count": 132,
     "metadata": {},
     "output_type": "execute_result"
    }
   ],
   "source": [
    "ruta.describe()"
   ]
  },
  {
   "cell_type": "code",
   "execution_count": 72,
   "metadata": {},
   "outputs": [
    {
     "data": {
      "text/plain": [
       "301"
      ]
     },
     "execution_count": 72,
     "metadata": {},
     "output_type": "execute_result"
    }
   ],
   "source": [
    "ruta[ruta[\"Ruta_SAK_counts\"]>970].size"
   ]
  },
  {
   "cell_type": "code",
   "execution_count": 73,
   "metadata": {},
   "outputs": [],
   "source": [
    "ruta[\"salesDepot\"] = ruta[\"Ruta_SAK_counts\"].apply(lambda x: 1 if x>1200 else 0)"
   ]
  },
  {
   "cell_type": "code",
   "execution_count": 74,
   "metadata": {},
   "outputs": [],
   "source": [
    "df = pd.merge(df, ruta, on=\"Ruta_SAK_counts\")"
   ]
  },
  {
   "cell_type": "markdown",
   "metadata": {},
   "source": [
    "# Week End"
   ]
  },
  {
   "cell_type": "code",
   "execution_count": 138,
   "metadata": {},
   "outputs": [
    {
     "data": {
      "text/plain": [
       "array([5, 8, 6, 7, 9, 4, 3], dtype=int64)"
      ]
     },
     "execution_count": 138,
     "metadata": {},
     "output_type": "execute_result"
    }
   ],
   "source": [
    "df[\"Week\"].unique()"
   ]
  },
  {
   "cell_type": "markdown",
   "metadata": {},
   "source": [
    "</br>3 - thursday\n",
    "</br>9 - wendnesday\n",
    "</br>\n",
    "</br>7-9 => 0-2 (Monday-Wendnesday)"
   ]
  },
  {
   "cell_type": "code",
   "execution_count": 75,
   "metadata": {},
   "outputs": [],
   "source": [
    "df[\"Week\"] = df[\"Week\"].replace([7, 8, 9], [0,1,2])"
   ]
  },
  {
   "cell_type": "code",
   "execution_count": 27,
   "metadata": {},
   "outputs": [
    {
     "data": {
      "text/plain": [
       "array([5, 1, 6, 0, 2, 4, 3], dtype=int64)"
      ]
     },
     "execution_count": 27,
     "metadata": {},
     "output_type": "execute_result"
    }
   ],
   "source": [
    "df[\"Week\"].unique()"
   ]
  },
  {
   "cell_type": "code",
   "execution_count": 28,
   "metadata": {},
   "outputs": [
    {
     "name": "stdout",
     "output_type": "stream",
     "text": [
      "Dataset Shape: (964348, 15)\n"
     ]
    },
    {
     "data": {
      "text/html": [
       "<div>\n",
       "<style scoped>\n",
       "    .dataframe tbody tr th:only-of-type {\n",
       "        vertical-align: middle;\n",
       "    }\n",
       "\n",
       "    .dataframe tbody tr th {\n",
       "        vertical-align: top;\n",
       "    }\n",
       "\n",
       "    .dataframe thead th {\n",
       "        text-align: right;\n",
       "    }\n",
       "</style>\n",
       "<table border=\"1\" class=\"dataframe\">\n",
       "  <thead>\n",
       "    <tr style=\"text-align: right;\">\n",
       "      <th></th>\n",
       "      <th>Name</th>\n",
       "      <th>dtypes</th>\n",
       "      <th>Uniques</th>\n",
       "      <th>Duplicated</th>\n",
       "      <th>First Value</th>\n",
       "      <th>Second Value</th>\n",
       "      <th>Max</th>\n",
       "      <th>Min</th>\n",
       "      <th>Null</th>\n",
       "      <th>Entropy</th>\n",
       "    </tr>\n",
       "  </thead>\n",
       "  <tbody>\n",
       "    <tr>\n",
       "      <th>0</th>\n",
       "      <td>Week</td>\n",
       "      <td>int64</td>\n",
       "      <td>7</td>\n",
       "      <td>964341</td>\n",
       "      <td>5</td>\n",
       "      <td>1</td>\n",
       "      <td>6</td>\n",
       "      <td>0</td>\n",
       "      <td>0</td>\n",
       "      <td>2.81</td>\n",
       "    </tr>\n",
       "    <tr>\n",
       "      <th>1</th>\n",
       "      <td>SalesUnitWeek</td>\n",
       "      <td>int64</td>\n",
       "      <td>614</td>\n",
       "      <td>963734</td>\n",
       "      <td>60</td>\n",
       "      <td>20</td>\n",
       "      <td>5000</td>\n",
       "      <td>0</td>\n",
       "      <td>0</td>\n",
       "      <td>3.86</td>\n",
       "    </tr>\n",
       "    <tr>\n",
       "      <th>2</th>\n",
       "      <td>SalesPesosWeek</td>\n",
       "      <td>float64</td>\n",
       "      <td>13671</td>\n",
       "      <td>950677</td>\n",
       "      <td>270.0</td>\n",
       "      <td>90.0</td>\n",
       "      <td>50353.22</td>\n",
       "      <td>0.0</td>\n",
       "      <td>0</td>\n",
       "      <td>9.36</td>\n",
       "    </tr>\n",
       "    <tr>\n",
       "      <th>3</th>\n",
       "      <td>ReturnsUnitNextWeek</td>\n",
       "      <td>int64</td>\n",
       "      <td>134</td>\n",
       "      <td>964214</td>\n",
       "      <td>0</td>\n",
       "      <td>0</td>\n",
       "      <td>1241</td>\n",
       "      <td>0</td>\n",
       "      <td>0</td>\n",
       "      <td>0.31</td>\n",
       "    </tr>\n",
       "    <tr>\n",
       "      <th>4</th>\n",
       "      <td>RetrunsPesosNestWeek</td>\n",
       "      <td>float64</td>\n",
       "      <td>2515</td>\n",
       "      <td>961833</td>\n",
       "      <td>0.0</td>\n",
       "      <td>0.0</td>\n",
       "      <td>49500.0</td>\n",
       "      <td>0.0</td>\n",
       "      <td>0</td>\n",
       "      <td>0.50</td>\n",
       "    </tr>\n",
       "    <tr>\n",
       "      <th>5</th>\n",
       "      <td>AjustedDemand</td>\n",
       "      <td>int64</td>\n",
       "      <td>613</td>\n",
       "      <td>963735</td>\n",
       "      <td>60</td>\n",
       "      <td>20</td>\n",
       "      <td>5000</td>\n",
       "      <td>0</td>\n",
       "      <td>0</td>\n",
       "      <td>3.91</td>\n",
       "    </tr>\n",
       "    <tr>\n",
       "      <th>6</th>\n",
       "      <td>Latitude</td>\n",
       "      <td>float64</td>\n",
       "      <td>257</td>\n",
       "      <td>964091</td>\n",
       "      <td>21.122129</td>\n",
       "      <td>21.122129</td>\n",
       "      <td>32.60554</td>\n",
       "      <td>14.91107</td>\n",
       "      <td>0</td>\n",
       "      <td>7.67</td>\n",
       "    </tr>\n",
       "    <tr>\n",
       "      <th>7</th>\n",
       "      <td>Longitude</td>\n",
       "      <td>float64</td>\n",
       "      <td>257</td>\n",
       "      <td>964091</td>\n",
       "      <td>-101.60347</td>\n",
       "      <td>-101.60347</td>\n",
       "      <td>-86.82003</td>\n",
       "      <td>-117.12303</td>\n",
       "      <td>0</td>\n",
       "      <td>7.67</td>\n",
       "    </tr>\n",
       "    <tr>\n",
       "      <th>8</th>\n",
       "      <td>typeClient</td>\n",
       "      <td>object</td>\n",
       "      <td>18</td>\n",
       "      <td>964330</td>\n",
       "      <td>Small Franchise</td>\n",
       "      <td>Individual</td>\n",
       "      <td>Walmart Store</td>\n",
       "      <td>Bimbo Store</td>\n",
       "      <td>0</td>\n",
       "      <td>2.33</td>\n",
       "    </tr>\n",
       "    <tr>\n",
       "      <th>9</th>\n",
       "      <td>desc</td>\n",
       "      <td>object</td>\n",
       "      <td>531</td>\n",
       "      <td>963817</td>\n",
       "      <td>Nito</td>\n",
       "      <td>Nito</td>\n",
       "      <td>pct Whole Wheat</td>\n",
       "      <td>Granos</td>\n",
       "      <td>0</td>\n",
       "      <td>6.42</td>\n",
       "    </tr>\n",
       "    <tr>\n",
       "      <th>10</th>\n",
       "      <td>g</td>\n",
       "      <td>float64</td>\n",
       "      <td>239</td>\n",
       "      <td>964108</td>\n",
       "      <td>62.0</td>\n",
       "      <td>62.0</td>\n",
       "      <td>31000.0</td>\n",
       "      <td>5.0</td>\n",
       "      <td>2935</td>\n",
       "      <td>5.67</td>\n",
       "    </tr>\n",
       "    <tr>\n",
       "      <th>11</th>\n",
       "      <td>brand</td>\n",
       "      <td>object</td>\n",
       "      <td>25</td>\n",
       "      <td>964323</td>\n",
       "      <td>BIM</td>\n",
       "      <td>BIM</td>\n",
       "      <td>WON</td>\n",
       "      <td>BAR</td>\n",
       "      <td>0</td>\n",
       "      <td>1.76</td>\n",
       "    </tr>\n",
       "    <tr>\n",
       "      <th>12</th>\n",
       "      <td>Ruta_SAK_counts</td>\n",
       "      <td>int64</td>\n",
       "      <td>841</td>\n",
       "      <td>963507</td>\n",
       "      <td>2008</td>\n",
       "      <td>2008</td>\n",
       "      <td>6021</td>\n",
       "      <td>1</td>\n",
       "      <td>0</td>\n",
       "      <td>9.22</td>\n",
       "    </tr>\n",
       "    <tr>\n",
       "      <th>13</th>\n",
       "      <td>target</td>\n",
       "      <td>int64</td>\n",
       "      <td>2</td>\n",
       "      <td>964346</td>\n",
       "      <td>1</td>\n",
       "      <td>1</td>\n",
       "      <td>1</td>\n",
       "      <td>0</td>\n",
       "      <td>0</td>\n",
       "      <td>1.00</td>\n",
       "    </tr>\n",
       "    <tr>\n",
       "      <th>14</th>\n",
       "      <td>salesDepot</td>\n",
       "      <td>int64</td>\n",
       "      <td>2</td>\n",
       "      <td>964346</td>\n",
       "      <td>1</td>\n",
       "      <td>1</td>\n",
       "      <td>1</td>\n",
       "      <td>0</td>\n",
       "      <td>0</td>\n",
       "      <td>0.97</td>\n",
       "    </tr>\n",
       "  </tbody>\n",
       "</table>\n",
       "</div>"
      ],
      "text/plain": [
       "                    Name   dtypes  Uniques  Duplicated      First Value  \\\n",
       "0                   Week    int64        7      964341                5   \n",
       "1          SalesUnitWeek    int64      614      963734               60   \n",
       "2         SalesPesosWeek  float64    13671      950677            270.0   \n",
       "3    ReturnsUnitNextWeek    int64      134      964214                0   \n",
       "4   RetrunsPesosNestWeek  float64     2515      961833              0.0   \n",
       "5          AjustedDemand    int64      613      963735               60   \n",
       "6               Latitude  float64      257      964091        21.122129   \n",
       "7              Longitude  float64      257      964091       -101.60347   \n",
       "8             typeClient   object       18      964330  Small Franchise   \n",
       "9                   desc   object      531      963817            Nito    \n",
       "10                     g  float64      239      964108             62.0   \n",
       "11                 brand   object       25      964323              BIM   \n",
       "12       Ruta_SAK_counts    int64      841      963507             2008   \n",
       "13                target    int64        2      964346                1   \n",
       "14            salesDepot    int64        2      964346                1   \n",
       "\n",
       "   Second Value               Max          Min  Null  Entropy  \n",
       "0             1                 6            0     0     2.81  \n",
       "1            20              5000            0     0     3.86  \n",
       "2          90.0          50353.22          0.0     0     9.36  \n",
       "3             0              1241            0     0     0.31  \n",
       "4           0.0           49500.0          0.0     0     0.50  \n",
       "5            20              5000            0     0     3.91  \n",
       "6     21.122129          32.60554     14.91107     0     7.67  \n",
       "7    -101.60347         -86.82003   -117.12303     0     7.67  \n",
       "8    Individual     Walmart Store  Bimbo Store     0     2.33  \n",
       "9         Nito   pct Whole Wheat       Granos      0     6.42  \n",
       "10         62.0           31000.0          5.0  2935     5.67  \n",
       "11          BIM               WON          BAR     0     1.76  \n",
       "12         2008              6021            1     0     9.22  \n",
       "13            1                 1            0     0     1.00  \n",
       "14            1                 1            0     0     0.97  "
      ]
     },
     "execution_count": 28,
     "metadata": {},
     "output_type": "execute_result"
    }
   ],
   "source": [
    "resume(df)"
   ]
  },
  {
   "cell_type": "markdown",
   "metadata": {},
   "source": [
    "# Corr Matrix"
   ]
  },
  {
   "cell_type": "code",
   "execution_count": 29,
   "metadata": {},
   "outputs": [
    {
     "data": {
      "text/plain": [
       "AjustedDemand           1.000000\n",
       "SalesUnitWeek           0.996357\n",
       "SalesPesosWeek          0.792039\n",
       "target                  0.265031\n",
       "ReturnsUnitNextWeek     0.043717\n",
       "RetrunsPesosNestWeek    0.025588\n",
       "Latitude                0.011582\n",
       "g                       0.001343\n",
       "Week                   -0.001500\n",
       "Longitude              -0.003175\n",
       "salesDepot             -0.076361\n",
       "Ruta_SAK_counts        -0.082319\n",
       "Name: AjustedDemand, dtype: float64"
      ]
     },
     "execution_count": 29,
     "metadata": {},
     "output_type": "execute_result"
    }
   ],
   "source": [
    "corr_matrix = df.corr()\n",
    "corr_matrix[\"AjustedDemand\"].sort_values(ascending=False)"
   ]
  },
  {
   "cell_type": "code",
   "execution_count": 30,
   "metadata": {},
   "outputs": [
    {
     "data": {
      "text/plain": [
       "target                  1.000000\n",
       "AjustedDemand           0.265031\n",
       "SalesUnitWeek           0.262159\n",
       "SalesPesosWeek          0.172192\n",
       "Latitude                0.020015\n",
       "Week                    0.001347\n",
       "RetrunsPesosNestWeek   -0.007559\n",
       "Longitude              -0.010470\n",
       "ReturnsUnitNextWeek    -0.018341\n",
       "salesDepot             -0.068755\n",
       "Ruta_SAK_counts        -0.088658\n",
       "g                      -0.106496\n",
       "Name: target, dtype: float64"
      ]
     },
     "execution_count": 30,
     "metadata": {},
     "output_type": "execute_result"
    }
   ],
   "source": [
    "\n",
    "corr_matrix[\"target\"].sort_values(ascending=False)"
   ]
  },
  {
   "cell_type": "code",
   "execution_count": 69,
   "metadata": {},
   "outputs": [
    {
     "data": {
      "image/png": "[encoded data removed]",
      "text/plain": [
       "<Figure size 792x648 with 2 Axes>"
      ]
     },
     "metadata": {
      "needs_background": "light"
     },
     "output_type": "display_data"
    }
   ],
   "source": [
    "corr_matrix = df.corr()\n",
    "\n",
    "mask = np.triu(np.ones_like(corr_matrix, dtype=bool))\n",
    "f, ax = plt.subplots(figsize=(11, 9))\n",
    "cmap = sns.diverging_palette(230, 20, as_cmap=True)\n",
    "sns.heatmap(corr_matrix, mask=mask, cmap=cmap, vmax=.3, center=0,\n",
    "            square=True, linewidths=.5, cbar_kws={\"shrink\": .5});"
   ]
  },
  {
   "cell_type": "markdown",
   "metadata": {},
   "source": [
    "# Map"
   ]
  },
  {
   "cell_type": "code",
   "execution_count": 31,
   "metadata": {},
   "outputs": [
    {
     "data": {
      "text/plain": [
       "<AxesSubplot:xlabel='Longitude', ylabel='Latitude'>"
      ]
     },
     "execution_count": 31,
     "metadata": {},
     "output_type": "execute_result"
    },
    {
     "data": {
      "image/png": "[encoded data removed]",
      "text/plain": [
       "<Figure size 432x288 with 1 Axes>"
      ]
     },
     "metadata": {
      "needs_background": "light"
     },
     "output_type": "display_data"
    }
   ],
   "source": [
    "df.plot(kind=\"scatter\", x=\"Longitude\", y=\"Latitude\")"
   ]
  },
  {
   "cell_type": "code",
   "execution_count": 32,
   "metadata": {},
   "outputs": [],
   "source": [
    "df['SalesUnitWeek_log10'] = df['SalesUnitWeek'].apply(lambda x: 0 if x==0 else np.log10(x))"
   ]
  },
  {
   "cell_type": "code",
   "execution_count": 41,
   "metadata": {},
   "outputs": [],
   "source": [
    "df['AjustedDemand_log10'] = df['AjustedDemand'].apply(lambda x: 0 if x==0 else np.log10(x))"
   ]
  },
  {
   "cell_type": "code",
   "execution_count": 39,
   "metadata": {},
   "outputs": [],
   "source": [
    "df['AjustedDemand_log2'] = df['AjustedDemand'].apply(lambda x: 0 if x==0 else np.log2(x))"
   ]
  },
  {
   "cell_type": "code",
   "execution_count": 35,
   "metadata": {},
   "outputs": [
    {
     "data": {
      "image/png": "[encoded data removed]",
      "text/plain": [
       "<Figure size 720x504 with 2 Axes>"
      ]
     },
     "metadata": {
      "needs_background": "light"
     },
     "output_type": "display_data"
    }
   ],
   "source": [
    "df.plot(kind=\"scatter\", x=\"Longitude\", y=\"Latitude\", alpha=0.2,\n",
    "             s=df[\"AjustedDemand_log2\"]*20, label=\"AjustedDemand_log2\", figsize=(10,7),\n",
    "             c=\"SalesUnitWeek_log10\", cmap=plt.get_cmap(\"jet\"), colorbar=True,\n",
    "             sharex=False)\n",
    "plt.legend()\n",
    "plt.show()"
   ]
  },
  {
   "cell_type": "code",
   "execution_count": 155,
   "metadata": {},
   "outputs": [
    {
     "data": {
      "image/png": "[encoded data removed]",
      "text/plain": [
       "<Figure size 720x504 with 2 Axes>"
      ]
     },
     "metadata": {
      "needs_background": "light"
     },
     "output_type": "display_data"
    }
   ],
   "source": [
    "df.plot(kind=\"scatter\", x=\"Longitude\", y=\"Latitude\", alpha=0.4,\n",
    "             s=df[\"AjustedDemand_log10\"]*50, label=\"AjustedDemand_log10\", figsize=(10,7),\n",
    "             c=\"SalesUnitWeek_log10\", cmap=plt.get_cmap(\"jet\"), colorbar=True,\n",
    "             sharex=False)\n",
    "plt.legend()\n",
    "plt.show()"
   ]
  },
  {
   "cell_type": "code",
   "execution_count": 150,
   "metadata": {},
   "outputs": [
    {
     "data": {
      "image/png": "[encoded data removed]",
      "text/plain": [
       "<Figure size 720x504 with 2 Axes>"
      ]
     },
     "metadata": {
      "needs_background": "light"
     },
     "output_type": "display_data"
    }
   ],
   "source": [
    "df.plot(kind=\"scatter\", x=\"Longitude\", y=\"Latitude\", alpha=0.2,\n",
    "             s=df[\"target\"]*50, label=\"target\", figsize=(10,7),\n",
    "             c=\"SalesUnitWeek_log10\", cmap=plt.get_cmap(\"jet\"), colorbar=True,\n",
    "             sharex=False)\n",
    "plt.legend()\n",
    "plt.show()"
   ]
  },
  {
   "cell_type": "code",
   "execution_count": 40,
   "metadata": {},
   "outputs": [
    {
     "data": {
      "text/plain": [
       "Index(['Week', 'SalesUnitWeek', 'SalesPesosWeek', 'ReturnsUnitNextWeek',\n",
       "       'RetrunsPesosNestWeek', 'AjustedDemand', 'Latitude', 'Longitude',\n",
       "       'typeClient', 'desc', 'g', 'brand', 'Ruta_SAK_counts', 'target',\n",
       "       'salesDepot', 'SalesUnitWeek_log10', 'AjustedDemand_log2'],\n",
       "      dtype='object')"
      ]
     },
     "execution_count": 40,
     "metadata": {},
     "output_type": "execute_result"
    }
   ],
   "source": [
    "df.columns"
   ]
  },
  {
   "cell_type": "code",
   "execution_count": 42,
   "metadata": {},
   "outputs": [],
   "source": [
    "columns = [\"AjustedDemand_log2\", \"AjustedDemand_log10\", \"SalesUnitWeek_log10\", \"AjustedDemand\"]\n",
    "df.drop(columns, axis=1, inplace=True)"
   ]
  },
  {
   "cell_type": "markdown",
   "metadata": {},
   "source": [
    "\n",
    "# Save Dataset"
   ]
  },
  {
   "cell_type": "code",
   "execution_count": 76,
   "metadata": {},
   "outputs": [],
   "source": [
    "df1 = pd.read_csv(\"./Dataset/3.2.address_filtered.csv\")"
   ]
  },
  {
   "cell_type": "code",
   "execution_count": 77,
   "metadata": {},
   "outputs": [],
   "source": [
    "df = pd.merge(df,df1,on=\"Latitude\",how=\"inner\")"
   ]
  },
  {
   "cell_type": "code",
   "execution_count": 79,
   "metadata": {},
   "outputs": [],
   "source": [
    "df.drop([\"Longitude_y\"], axis=1, inplace=True)"
   ]
  },
  {
   "cell_type": "code",
   "execution_count": 84,
   "metadata": {},
   "outputs": [],
   "source": [
    "df.rename(columns={\"Longitude_x\":\"Longitude\"}, inplace=True)"
   ]
  },
  {
   "cell_type": "code",
   "execution_count": 85,
   "metadata": {},
   "outputs": [
    {
     "data": {
      "text/plain": [
       "Index(['Week', 'SalesUnitWeek', 'SalesPesosWeek', 'ReturnsUnitNextWeek',\n",
       "       'RetrunsPesosNestWeek', 'AjustedDemand', 'Latitude', 'Longitude',\n",
       "       'typeClient', 'desc', 'g', 'brand', 'Ruta_SAK_counts', 'target',\n",
       "       'salesDepot', 'Address'],\n",
       "      dtype='object')"
      ]
     },
     "execution_count": 85,
     "metadata": {},
     "output_type": "execute_result"
    }
   ],
   "source": [
    "\n",
    "df.columns"
   ]
  },
  {
   "cell_type": "code",
   "execution_count": 86,
   "metadata": {},
   "outputs": [
    {
     "name": "stdout",
     "output_type": "stream",
     "text": [
      "Dataset Shape: (964348, 16)\n"
     ]
    },
    {
     "data": {
      "text/html": [
       "<div>\n",
       "<style scoped>\n",
       "    .dataframe tbody tr th:only-of-type {\n",
       "        vertical-align: middle;\n",
       "    }\n",
       "\n",
       "    .dataframe tbody tr th {\n",
       "        vertical-align: top;\n",
       "    }\n",
       "\n",
       "    .dataframe thead th {\n",
       "        text-align: right;\n",
       "    }\n",
       "</style>\n",
       "<table border=\"1\" class=\"dataframe\">\n",
       "  <thead>\n",
       "    <tr style=\"text-align: right;\">\n",
       "      <th></th>\n",
       "      <th>Name</th>\n",
       "      <th>dtypes</th>\n",
       "      <th>Uniques</th>\n",
       "      <th>Duplicated</th>\n",
       "      <th>First Value</th>\n",
       "      <th>Second Value</th>\n",
       "      <th>Max</th>\n",
       "      <th>Min</th>\n",
       "      <th>Null</th>\n",
       "      <th>Entropy</th>\n",
       "    </tr>\n",
       "  </thead>\n",
       "  <tbody>\n",
       "    <tr>\n",
       "      <th>0</th>\n",
       "      <td>Week</td>\n",
       "      <td>int64</td>\n",
       "      <td>7</td>\n",
       "      <td>964341</td>\n",
       "      <td>5</td>\n",
       "      <td>1</td>\n",
       "      <td>6</td>\n",
       "      <td>0</td>\n",
       "      <td>0</td>\n",
       "      <td>2.81</td>\n",
       "    </tr>\n",
       "    <tr>\n",
       "      <th>1</th>\n",
       "      <td>SalesUnitWeek</td>\n",
       "      <td>int64</td>\n",
       "      <td>614</td>\n",
       "      <td>963734</td>\n",
       "      <td>60</td>\n",
       "      <td>20</td>\n",
       "      <td>5000</td>\n",
       "      <td>0</td>\n",
       "      <td>0</td>\n",
       "      <td>3.86</td>\n",
       "    </tr>\n",
       "    <tr>\n",
       "      <th>2</th>\n",
       "      <td>SalesPesosWeek</td>\n",
       "      <td>float64</td>\n",
       "      <td>13671</td>\n",
       "      <td>950677</td>\n",
       "      <td>270.0</td>\n",
       "      <td>90.0</td>\n",
       "      <td>50353.22</td>\n",
       "      <td>0.0</td>\n",
       "      <td>0</td>\n",
       "      <td>9.36</td>\n",
       "    </tr>\n",
       "    <tr>\n",
       "      <th>3</th>\n",
       "      <td>ReturnsUnitNextWeek</td>\n",
       "      <td>int64</td>\n",
       "      <td>134</td>\n",
       "      <td>964214</td>\n",
       "      <td>0</td>\n",
       "      <td>0</td>\n",
       "      <td>1241</td>\n",
       "      <td>0</td>\n",
       "      <td>0</td>\n",
       "      <td>0.31</td>\n",
       "    </tr>\n",
       "    <tr>\n",
       "      <th>4</th>\n",
       "      <td>RetrunsPesosNestWeek</td>\n",
       "      <td>float64</td>\n",
       "      <td>2515</td>\n",
       "      <td>961833</td>\n",
       "      <td>0.0</td>\n",
       "      <td>0.0</td>\n",
       "      <td>49500.0</td>\n",
       "      <td>0.0</td>\n",
       "      <td>0</td>\n",
       "      <td>0.50</td>\n",
       "    </tr>\n",
       "    <tr>\n",
       "      <th>5</th>\n",
       "      <td>AjustedDemand</td>\n",
       "      <td>int64</td>\n",
       "      <td>613</td>\n",
       "      <td>963735</td>\n",
       "      <td>60</td>\n",
       "      <td>20</td>\n",
       "      <td>5000</td>\n",
       "      <td>0</td>\n",
       "      <td>0</td>\n",
       "      <td>3.91</td>\n",
       "    </tr>\n",
       "    <tr>\n",
       "      <th>6</th>\n",
       "      <td>Latitude</td>\n",
       "      <td>float64</td>\n",
       "      <td>257</td>\n",
       "      <td>964091</td>\n",
       "      <td>21.122129</td>\n",
       "      <td>21.122129</td>\n",
       "      <td>32.60554</td>\n",
       "      <td>14.91107</td>\n",
       "      <td>0</td>\n",
       "      <td>7.67</td>\n",
       "    </tr>\n",
       "    <tr>\n",
       "      <th>7</th>\n",
       "      <td>Longitude</td>\n",
       "      <td>float64</td>\n",
       "      <td>257</td>\n",
       "      <td>964091</td>\n",
       "      <td>-101.60347</td>\n",
       "      <td>-101.60347</td>\n",
       "      <td>-86.82003</td>\n",
       "      <td>-117.12303</td>\n",
       "      <td>0</td>\n",
       "      <td>7.67</td>\n",
       "    </tr>\n",
       "    <tr>\n",
       "      <th>8</th>\n",
       "      <td>typeClient</td>\n",
       "      <td>object</td>\n",
       "      <td>18</td>\n",
       "      <td>964330</td>\n",
       "      <td>Small Franchise</td>\n",
       "      <td>Individual</td>\n",
       "      <td>Walmart Store</td>\n",
       "      <td>Bimbo Store</td>\n",
       "      <td>0</td>\n",
       "      <td>2.33</td>\n",
       "    </tr>\n",
       "    <tr>\n",
       "      <th>9</th>\n",
       "      <td>desc</td>\n",
       "      <td>object</td>\n",
       "      <td>531</td>\n",
       "      <td>963817</td>\n",
       "      <td>Nito</td>\n",
       "      <td>Nito</td>\n",
       "      <td>pct Whole Wheat</td>\n",
       "      <td>Granos</td>\n",
       "      <td>0</td>\n",
       "      <td>6.42</td>\n",
       "    </tr>\n",
       "    <tr>\n",
       "      <th>10</th>\n",
       "      <td>g</td>\n",
       "      <td>float64</td>\n",
       "      <td>239</td>\n",
       "      <td>964108</td>\n",
       "      <td>62.0</td>\n",
       "      <td>62.0</td>\n",
       "      <td>31000.0</td>\n",
       "      <td>5.0</td>\n",
       "      <td>2935</td>\n",
       "      <td>5.67</td>\n",
       "    </tr>\n",
       "    <tr>\n",
       "      <th>11</th>\n",
       "      <td>brand</td>\n",
       "      <td>object</td>\n",
       "      <td>25</td>\n",
       "      <td>964323</td>\n",
       "      <td>BIM</td>\n",
       "      <td>BIM</td>\n",
       "      <td>WON</td>\n",
       "      <td>BAR</td>\n",
       "      <td>0</td>\n",
       "      <td>1.76</td>\n",
       "    </tr>\n",
       "    <tr>\n",
       "      <th>12</th>\n",
       "      <td>Ruta_SAK_counts</td>\n",
       "      <td>int64</td>\n",
       "      <td>841</td>\n",
       "      <td>963507</td>\n",
       "      <td>2008</td>\n",
       "      <td>2008</td>\n",
       "      <td>6021</td>\n",
       "      <td>1</td>\n",
       "      <td>0</td>\n",
       "      <td>9.22</td>\n",
       "    </tr>\n",
       "    <tr>\n",
       "      <th>13</th>\n",
       "      <td>target</td>\n",
       "      <td>int64</td>\n",
       "      <td>2</td>\n",
       "      <td>964346</td>\n",
       "      <td>1</td>\n",
       "      <td>1</td>\n",
       "      <td>1</td>\n",
       "      <td>0</td>\n",
       "      <td>0</td>\n",
       "      <td>1.00</td>\n",
       "    </tr>\n",
       "    <tr>\n",
       "      <th>14</th>\n",
       "      <td>salesDepot</td>\n",
       "      <td>int64</td>\n",
       "      <td>2</td>\n",
       "      <td>964346</td>\n",
       "      <td>1</td>\n",
       "      <td>1</td>\n",
       "      <td>1</td>\n",
       "      <td>0</td>\n",
       "      <td>0</td>\n",
       "      <td>0.97</td>\n",
       "    </tr>\n",
       "    <tr>\n",
       "      <th>15</th>\n",
       "      <td>Address</td>\n",
       "      <td>object</td>\n",
       "      <td>257</td>\n",
       "      <td>964091</td>\n",
       "      <td>GUANAJUATO, 2300 LEON MILENIUM</td>\n",
       "      <td>GUANAJUATO, 2300 LEON MILENIUM</td>\n",
       "      <td>ZACATECAS, 2321 ZACATECAS MARINELA</td>\n",
       "      <td>AGUASCALIENTES, 2251 AGUASCALIENTES NORTE</td>\n",
       "      <td>0</td>\n",
       "      <td>7.67</td>\n",
       "    </tr>\n",
       "  </tbody>\n",
       "</table>\n",
       "</div>"
      ],
      "text/plain": [
       "                    Name   dtypes  Uniques  Duplicated  \\\n",
       "0                   Week    int64        7      964341   \n",
       "1          SalesUnitWeek    int64      614      963734   \n",
       "2         SalesPesosWeek  float64    13671      950677   \n",
       "3    ReturnsUnitNextWeek    int64      134      964214   \n",
       "4   RetrunsPesosNestWeek  float64     2515      961833   \n",
       "5          AjustedDemand    int64      613      963735   \n",
       "6               Latitude  float64      257      964091   \n",
       "7              Longitude  float64      257      964091   \n",
       "8             typeClient   object       18      964330   \n",
       "9                   desc   object      531      963817   \n",
       "10                     g  float64      239      964108   \n",
       "11                 brand   object       25      964323   \n",
       "12       Ruta_SAK_counts    int64      841      963507   \n",
       "13                target    int64        2      964346   \n",
       "14            salesDepot    int64        2      964346   \n",
       "15               Address   object      257      964091   \n",
       "\n",
       "                       First Value                    Second Value  \\\n",
       "0                                5                               1   \n",
       "1                               60                              20   \n",
       "2                            270.0                            90.0   \n",
       "3                                0                               0   \n",
       "4                              0.0                             0.0   \n",
       "5                               60                              20   \n",
       "6                        21.122129                       21.122129   \n",
       "7                       -101.60347                      -101.60347   \n",
       "8                  Small Franchise                      Individual   \n",
       "9                            Nito                            Nito    \n",
       "10                            62.0                            62.0   \n",
       "11                             BIM                             BIM   \n",
       "12                            2008                            2008   \n",
       "13                               1                               1   \n",
       "14                               1                               1   \n",
       "15  GUANAJUATO, 2300 LEON MILENIUM  GUANAJUATO, 2300 LEON MILENIUM   \n",
       "\n",
       "                                   Max  \\\n",
       "0                                    6   \n",
       "1                                 5000   \n",
       "2                             50353.22   \n",
       "3                                 1241   \n",
       "4                              49500.0   \n",
       "5                                 5000   \n",
       "6                             32.60554   \n",
       "7                            -86.82003   \n",
       "8                        Walmart Store   \n",
       "9                     pct Whole Wheat    \n",
       "10                             31000.0   \n",
       "11                                 WON   \n",
       "12                                6021   \n",
       "13                                   1   \n",
       "14                                   1   \n",
       "15  ZACATECAS, 2321 ZACATECAS MARINELA   \n",
       "\n",
       "                                          Min  Null  Entropy  \n",
       "0                                           0     0     2.81  \n",
       "1                                           0     0     3.86  \n",
       "2                                         0.0     0     9.36  \n",
       "3                                           0     0     0.31  \n",
       "4                                         0.0     0     0.50  \n",
       "5                                           0     0     3.91  \n",
       "6                                    14.91107     0     7.67  \n",
       "7                                  -117.12303     0     7.67  \n",
       "8                                 Bimbo Store     0     2.33  \n",
       "9                                     Granos      0     6.42  \n",
       "10                                        5.0  2935     5.67  \n",
       "11                                        BAR     0     1.76  \n",
       "12                                          1     0     9.22  \n",
       "13                                          0     0     1.00  \n",
       "14                                          0     0     0.97  \n",
       "15  AGUASCALIENTES, 2251 AGUASCALIENTES NORTE     0     7.67  "
      ]
     },
     "execution_count": 86,
     "metadata": {},
     "output_type": "execute_result"
    }
   ],
   "source": [
    "resume(df)"
   ]
  },
  {
   "cell_type": "code",
   "execution_count": 87,
   "metadata": {},
   "outputs": [],
   "source": [
    "df.to_csv(\"./Dataset/6.final_df.csv\", index=False)"
   ]
  },
  {
   "cell_type": "code",
   "execution_count": null,
   "metadata": {},
   "outputs": [],
   "source": []
  },
  {
   "cell_type": "code",
   "execution_count": 88,
   "metadata": {},
   "outputs": [
    {
     "data": {
      "text/plain": [
       "257"
      ]
     },
     "execution_count": 88,
     "metadata": {},
     "output_type": "execute_result"
    }
   ],
   "source": [
    "df[\"Address\"].unique().size"
   ]
  },
  {
   "cell_type": "code",
   "execution_count": null,
   "metadata": {},
   "outputs": [],
   "source": []
  },
  {
   "cell_type": "code",
   "execution_count": 17,
   "metadata": {},
   "outputs": [
    {
     "name": "stdout",
     "output_type": "stream",
     "text": [
      "Dataset Shape: (935362, 2)\n",
      "Saving table client\n",
      "Saving figure Cliente_ID\n",
      "Saving figure NombreCliente\n"
     ]
    },
    {
     "data": {
      "image/png": "[encoded data removed]",
      "text/plain": [
       "<Figure size 576x360 with 1 Axes>"
      ]
     },
     "metadata": {
      "needs_background": "light"
     },
     "output_type": "display_data"
    },
    {
     "data": {
      "image/png": "[encoded data removed]",
      "text/plain": [
       "<Figure size 576x360 with 1 Axes>"
      ]
     },
     "metadata": {
      "needs_background": "light"
     },
     "output_type": "display_data"
    }
   ],
   "source": [
    "save_all_countplot(df, \"client\")"
   ]
  },
  {
   "cell_type": "markdown",
   "metadata": {},
   "source": [
    "# Obter a tabela"
   ]
  },
  {
   "cell_type": "code",
   "execution_count": 3,
   "metadata": {},
   "outputs": [
    {
     "name": "stdout",
     "output_type": "stream",
     "text": [
      "Dataset Shape: (964348, 11)\n"
     ]
    }
   ],
   "source": [
    "a = resume(df)"
   ]
  },
  {
   "cell_type": "code",
   "execution_count": 4,
   "metadata": {},
   "outputs": [],
   "source": [
    "dfi.export(a, 'df_styled.png')"
   ]
  },
  {
   "cell_type": "markdown",
   "metadata": {},
   "source": [
    "# Obter as diretorias para os ficheiros"
   ]
  },
  {
   "cell_type": "code",
   "execution_count": 16,
   "metadata": {},
   "outputs": [
    {
     "name": "stdout",
     "output_type": "stream",
     "text": [
      "Semana\n",
      "Agencia_ID\n",
      "Canal_ID\n",
      "Ruta_SAK\n",
      "Cliente_ID\n",
      "Producto_ID\n",
      "Venta_uni_hoy\n",
      "Venta_hoy\n",
      "Dev_uni_proxima\n",
      "Dev_proxima\n",
      "Demanda_uni_equil\n"
     ]
    }
   ],
   "source": [
    "columns = df.columns\n",
    "for column in columns:\n",
    "    print(column)"
   ]
  },
  {
   "cell_type": "code",
   "execution_count": null,
   "metadata": {},
   "outputs": [],
   "source": [
    "def countplot(df, color=\"royalblue\"):\n",
    "    plt.figure(figsize=(8,5))\n",
    "    g = sns.barplot(y=df.iloc[:,0], x=df.iloc[:,1], orient=\"h\", color=color)\n",
    "    plt.title(\"Top 5\")"
   ]
  },
  {
   "cell_type": "code",
   "execution_count": null,
   "metadata": {},
   "outputs": [],
   "source": [
    "def save_all_countplot(df, TABLE_ID, tight_layout=True, fig_extension=\"png\", resolution=300): \n",
    "    PROJECT_ROOT_DIR = \".\"\n",
    "    IMAGES_PATH = os.path.join(PROJECT_ROOT_DIR, \"images\", TABLE_ID)\n",
    "    os.makedirs(IMAGES_PATH, exist_ok=True)\n",
    "    \n",
    "    table_df = resume(df)\n",
    "    print(\"Saving table\", TABLE_ID)\n",
    "    dfi.export(table_df, TABLE_ID + '_table.' + fig_extension)\n",
    "    \n",
    "    columns = df.columns\n",
    "    for column in columns:\n",
    "        df_column = df[column].value_counts().rename_axis(column).reset_index(name='Counts').iloc[:5]\n",
    "        countplot(df_column)\n",
    "        \n",
    "        \n",
    "        path = os.path.join(IMAGES_PATH, column + \"_count.\" + fig_extension)\n",
    "        print(\"Saving figure\", column)\n",
    "        if tight_layout:\n",
    "            plt.tight_layout()\n",
    "        plt.savefig(path, format=fig_extension, dpi=resolution)\n",
    "    \n",
    "# PROJECT_ROOT_DIR = \".\"\n",
    "# CHAPTER_ID = \"end_to_end_project\"\n",
    "# IMAGES_PATH = os.path.join(PROJECT_ROOT_DIR, \"images\", CHAPTER_ID)\n",
    "# os.makedirs(IMAGES_PATH, exist_ok=True)\n",
    "\n",
    "# def save_fig(fig_id, tight_layout=True, fig_extension=\"png\", resolution=300):\n",
    "#     path = os.path.join(IMAGES_PATH, fig_id + \".\" + fig_extension)\n",
    "#     print(\"Saving figure\", fig_id)\n",
    "#     if tight_layout:\n",
    "#         plt.tight_layout()\n",
    "#     plt.savefig(path, format=fig_extension, dpi=resolution)"
   ]
  },
  {
   "cell_type": "code",
   "execution_count": 17,
   "metadata": {},
   "outputs": [],
   "source": [
    "test = df[\"Semana\"].value_counts().rename_axis('Semana').reset_index(name='Counts').iloc[:5]"
   ]
  },
  {
   "cell_type": "code",
   "execution_count": 18,
   "metadata": {},
   "outputs": [
    {
     "data": {
      "text/html": [
       "<div>\n",
       "<style scoped>\n",
       "    .dataframe tbody tr th:only-of-type {\n",
       "        vertical-align: middle;\n",
       "    }\n",
       "\n",
       "    .dataframe tbody tr th {\n",
       "        vertical-align: top;\n",
       "    }\n",
       "\n",
       "    .dataframe thead th {\n",
       "        text-align: right;\n",
       "    }\n",
       "</style>\n",
       "<table border=\"1\" class=\"dataframe\">\n",
       "  <thead>\n",
       "    <tr style=\"text-align: right;\">\n",
       "      <th></th>\n",
       "      <th>Semana</th>\n",
       "      <th>Counts</th>\n",
       "    </tr>\n",
       "  </thead>\n",
       "  <tbody>\n",
       "    <tr>\n",
       "      <th>0</th>\n",
       "      <td>3</td>\n",
       "      <td>144941</td>\n",
       "    </tr>\n",
       "    <tr>\n",
       "      <th>1</th>\n",
       "      <td>4</td>\n",
       "      <td>143700</td>\n",
       "    </tr>\n",
       "    <tr>\n",
       "      <th>2</th>\n",
       "      <td>5</td>\n",
       "      <td>137738</td>\n",
       "    </tr>\n",
       "    <tr>\n",
       "      <th>3</th>\n",
       "      <td>8</td>\n",
       "      <td>135380</td>\n",
       "    </tr>\n",
       "    <tr>\n",
       "      <th>4</th>\n",
       "      <td>9</td>\n",
       "      <td>135114</td>\n",
       "    </tr>\n",
       "  </tbody>\n",
       "</table>\n",
       "</div>"
      ],
      "text/plain": [
       "   Semana  Counts\n",
       "0       3  144941\n",
       "1       4  143700\n",
       "2       5  137738\n",
       "3       8  135380\n",
       "4       9  135114"
      ]
     },
     "execution_count": 18,
     "metadata": {},
     "output_type": "execute_result"
    }
   ],
   "source": [
    "test"
   ]
  },
  {
   "cell_type": "code",
   "execution_count": null,
   "metadata": {},
   "outputs": [],
   "source": [
    "\n",
    "    "
   ]
  },
  {
   "cell_type": "code",
   "execution_count": 21,
   "metadata": {},
   "outputs": [
    {
     "data": {
      "text/plain": [
       "0    144941\n",
       "1    143700\n",
       "2    137738\n",
       "3    135380\n",
       "4    135114\n",
       "Name: Counts, dtype: int64"
      ]
     },
     "execution_count": 21,
     "metadata": {},
     "output_type": "execute_result"
    }
   ],
   "source": []
  },
  {
   "cell_type": "code",
   "execution_count": 22,
   "metadata": {},
   "outputs": [
    {
     "data": {
      "image/png": "[encoded data removed]",
      "text/plain": [
       "<Figure size 576x360 with 1 Axes>"
      ]
     },
     "metadata": {
      "needs_background": "light"
     },
     "output_type": "display_data"
    }
   ],
   "source": [
    "\n",
    "plt.figure(figsize=(8,5))\n",
    "g = sns.barplot(y=test.iloc[:,0], x=test.iloc[:,1], orient=\"h\", color=\"royalblue\")\n",
    "plt.title(\"Top 5\")\n",
    "plt.show()\n"
   ]
  },
  {
   "cell_type": "code",
   "execution_count": 10,
   "metadata": {},
   "outputs": [
    {
     "data": {
      "text/plain": [
       "Index(['Semana', 'Agencia_ID', 'Canal_ID', 'Ruta_SAK', 'Cliente_ID',\n",
       "       'Producto_ID', 'Venta_uni_hoy', 'Venta_hoy', 'Dev_uni_proxima',\n",
       "       'Dev_proxima', 'Demanda_uni_equil'],\n",
       "      dtype='object')"
      ]
     },
     "execution_count": 10,
     "metadata": {},
     "output_type": "execute_result"
    }
   ],
   "source": [
    "df.columns"
   ]
  },
  {
   "cell_type": "code",
   "execution_count": 4,
   "metadata": {},
   "outputs": [
    {
     "data": {
      "text/plain": [
       "2015152015"
      ]
     },
     "execution_count": 4,
     "metadata": {},
     "output_type": "execute_result"
    }
   ],
   "source": [
    "df.Cliente_ID.max()"
   ]
  },
  {
   "cell_type": "code",
   "execution_count": 11,
   "metadata": {},
   "outputs": [
    {
     "data": {
      "text/plain": [
       "0"
      ]
     },
     "execution_count": 11,
     "metadata": {},
     "output_type": "execute_result"
    }
   ],
   "source": [
    "df.Cliente_ID.min()"
   ]
  },
  {
   "cell_type": "code",
   "execution_count": 15,
   "metadata": {},
   "outputs": [
    {
     "data": {
      "text/plain": [
       "4862"
      ]
     },
     "execution_count": 15,
     "metadata": {},
     "output_type": "execute_result"
    }
   ],
   "source": [
    "df[\"Cliente_ID\"].duplicated().sum()"
   ]
  },
  {
   "cell_type": "code",
   "execution_count": 14,
   "metadata": {},
   "outputs": [
    {
     "data": {
      "text/plain": [
       "Cliente_ID       0\n",
       "NombreCliente    0\n",
       "dtype: int64"
      ]
     },
     "execution_count": 14,
     "metadata": {},
     "output_type": "execute_result"
    }
   ],
   "source": [
    "df[\"Cliente_ID\"].isna().sum()"
   ]
  },
  {
   "cell_type": "code",
   "execution_count": 16,
   "metadata": {},
   "outputs": [
    {
     "data": {
      "text/plain": [
       "930500"
      ]
     },
     "execution_count": 16,
     "metadata": {},
     "output_type": "execute_result"
    }
   ],
   "source": [
    "df[\"Cliente_ID\"].nunique()"
   ]
  },
  {
   "cell_type": "code",
   "execution_count": null,
   "metadata": {},
   "outputs": [],
   "source": []
  }
 ],
 "metadata": {
  "kernelspec": {
   "display_name": "Python 3.7.12 ('tf2')",
   "language": "python",
   "name": "python3"
  },
  "language_info": {
   "codemirror_mode": {
    "name": "ipython",
    "version": 3
   },
   "file_extension": ".py",
   "mimetype": "text/x-python",
   "name": "python",
   "nbconvert_exporter": "python",
   "pygments_lexer": "ipython3",
   "version": "3.7.12 | packaged by conda-forge | (default, Oct 26 2021, 05:37:49) [MSC v.1916 64 bit (AMD64)]"
  },
  "orig_nbformat": 4,
  "vscode": {
   "interpreter": {
    "hash": "3e568cfb56bddac644a3ea7076937df63d869203b6023fb7f694d16682a81349"
   }
  }
 },
 "nbformat": 4,
 "nbformat_minor": 2
}
