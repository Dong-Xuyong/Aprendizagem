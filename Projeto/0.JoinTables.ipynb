{
 "cells": [
  {
   "cell_type": "code",
   "execution_count": 1,
   "metadata": {},
   "outputs": [],
   "source": [
    "import pandas as pd"
   ]
  },
  {
   "cell_type": "code",
   "execution_count": 2,
   "metadata": {},
   "outputs": [],
   "source": [
    "df_final = pd.read_csv(\"./Dataset/0.df_final.csv\")\n",
    "df_cliente = pd.read_csv(\"./Dataset/1.cliente_tabla.csv\")\n",
    "df_state = pd.read_csv(\"./Dataset/3.town_state.csv\")\n",
    "df_produto = pd.read_csv(\"./Dataset/2.producto_tabla.csv\")"
   ]
  },
  {
   "cell_type": "code",
   "execution_count": 3,
   "metadata": {},
   "outputs": [],
   "source": [
    "df_cliente[\"Cliente_ID\"].drop_duplicates(inplace=True)"
   ]
  },
  {
   "cell_type": "code",
   "execution_count": 6,
   "metadata": {},
   "outputs": [],
   "source": [
    "df = pd.merge(df_final, df_cliente, on=\"Cliente_ID\", how=\"inner\")"
   ]
  },
  {
   "cell_type": "code",
   "execution_count": 7,
   "metadata": {},
   "outputs": [],
   "source": [
    "df = pd.merge(df, df_state, on=\"Agencia_ID\", how=\"inner\")"
   ]
  },
  {
   "cell_type": "code",
   "execution_count": null,
   "metadata": {},
   "outputs": [],
   "source": [
    "df_produto[\"Producto_ID\"]"
   ]
  },
  {
   "cell_type": "code",
   "execution_count": 8,
   "metadata": {},
   "outputs": [],
   "source": [
    "df = pd.merge(df, df_produto, on=\"Producto_ID\", how=\"inner\")"
   ]
  },
  {
   "cell_type": "code",
   "execution_count": 9,
   "metadata": {},
   "outputs": [
    {
     "data": {
      "text/plain": [
       "Index(['Semana', 'Agencia_ID', 'Canal_ID', 'Ruta_SAK', 'Cliente_ID',\n",
       "       'Producto_ID', 'Venta_uni_hoy', 'Venta_hoy', 'Dev_uni_proxima',\n",
       "       'Dev_proxima', 'Demanda_uni_equil', 'NombreCliente', 'Town', 'State',\n",
       "       'NombreProducto'],\n",
       "      dtype='object')"
      ]
     },
     "execution_count": 9,
     "metadata": {},
     "output_type": "execute_result"
    }
   ],
   "source": [
    "df.columns"
   ]
  },
  {
   "cell_type": "code",
   "execution_count": 10,
   "metadata": {},
   "outputs": [
    {
     "data": {
      "text/html": [
       "<div>\n",
       "<style scoped>\n",
       "    .dataframe tbody tr th:only-of-type {\n",
       "        vertical-align: middle;\n",
       "    }\n",
       "\n",
       "    .dataframe tbody tr th {\n",
       "        vertical-align: top;\n",
       "    }\n",
       "\n",
       "    .dataframe thead th {\n",
       "        text-align: right;\n",
       "    }\n",
       "</style>\n",
       "<table border=\"1\" class=\"dataframe\">\n",
       "  <thead>\n",
       "    <tr style=\"text-align: right;\">\n",
       "      <th></th>\n",
       "      <th>Semana</th>\n",
       "      <th>Agencia_ID</th>\n",
       "      <th>Canal_ID</th>\n",
       "      <th>Ruta_SAK</th>\n",
       "      <th>Cliente_ID</th>\n",
       "      <th>Producto_ID</th>\n",
       "      <th>Venta_uni_hoy</th>\n",
       "      <th>Venta_hoy</th>\n",
       "      <th>Dev_uni_proxima</th>\n",
       "      <th>Dev_proxima</th>\n",
       "      <th>Demanda_uni_equil</th>\n",
       "      <th>NombreCliente</th>\n",
       "      <th>Town</th>\n",
       "      <th>State</th>\n",
       "      <th>NombreProducto</th>\n",
       "    </tr>\n",
       "  </thead>\n",
       "  <tbody>\n",
       "    <tr>\n",
       "      <th>0</th>\n",
       "      <td>5</td>\n",
       "      <td>1936</td>\n",
       "      <td>1</td>\n",
       "      <td>1158</td>\n",
       "      <td>1575677</td>\n",
       "      <td>2425</td>\n",
       "      <td>60</td>\n",
       "      <td>270.0</td>\n",
       "      <td>0</td>\n",
       "      <td>0.0</td>\n",
       "      <td>60</td>\n",
       "      <td>JUAN CARLOS GOMEZ GOMEZ</td>\n",
       "      <td>2300 LEON MILENIUM</td>\n",
       "      <td>GUANAJUATO</td>\n",
       "      <td>Nito 1p 62g Central BIM 2425</td>\n",
       "    </tr>\n",
       "    <tr>\n",
       "      <th>1</th>\n",
       "      <td>3</td>\n",
       "      <td>1936</td>\n",
       "      <td>1</td>\n",
       "      <td>1164</td>\n",
       "      <td>4511404</td>\n",
       "      <td>2425</td>\n",
       "      <td>60</td>\n",
       "      <td>270.0</td>\n",
       "      <td>0</td>\n",
       "      <td>0.0</td>\n",
       "      <td>60</td>\n",
       "      <td>NO IDENTIFICADO</td>\n",
       "      <td>2300 LEON MILENIUM</td>\n",
       "      <td>GUANAJUATO</td>\n",
       "      <td>Nito 1p 62g Central BIM 2425</td>\n",
       "    </tr>\n",
       "    <tr>\n",
       "      <th>2</th>\n",
       "      <td>4</td>\n",
       "      <td>1936</td>\n",
       "      <td>1</td>\n",
       "      <td>1161</td>\n",
       "      <td>66167</td>\n",
       "      <td>2425</td>\n",
       "      <td>24</td>\n",
       "      <td>108.0</td>\n",
       "      <td>0</td>\n",
       "      <td>0.0</td>\n",
       "      <td>24</td>\n",
       "      <td>TERISUR</td>\n",
       "      <td>2300 LEON MILENIUM</td>\n",
       "      <td>GUANAJUATO</td>\n",
       "      <td>Nito 1p 62g Central BIM 2425</td>\n",
       "    </tr>\n",
       "    <tr>\n",
       "      <th>3</th>\n",
       "      <td>4</td>\n",
       "      <td>1936</td>\n",
       "      <td>1</td>\n",
       "      <td>1164</td>\n",
       "      <td>948201</td>\n",
       "      <td>2425</td>\n",
       "      <td>1</td>\n",
       "      <td>4.5</td>\n",
       "      <td>2</td>\n",
       "      <td>9.0</td>\n",
       "      <td>0</td>\n",
       "      <td>JORGE ALEJANDRO TRUJILLO</td>\n",
       "      <td>2300 LEON MILENIUM</td>\n",
       "      <td>GUANAJUATO</td>\n",
       "      <td>Nito 1p 62g Central BIM 2425</td>\n",
       "    </tr>\n",
       "    <tr>\n",
       "      <th>4</th>\n",
       "      <td>3</td>\n",
       "      <td>1936</td>\n",
       "      <td>1</td>\n",
       "      <td>1156</td>\n",
       "      <td>877954</td>\n",
       "      <td>2425</td>\n",
       "      <td>55</td>\n",
       "      <td>247.5</td>\n",
       "      <td>0</td>\n",
       "      <td>0.0</td>\n",
       "      <td>55</td>\n",
       "      <td>SILVIA RAMIREZ CASTRO</td>\n",
       "      <td>2300 LEON MILENIUM</td>\n",
       "      <td>GUANAJUATO</td>\n",
       "      <td>Nito 1p 62g Central BIM 2425</td>\n",
       "    </tr>\n",
       "  </tbody>\n",
       "</table>\n",
       "</div>"
      ],
      "text/plain": [
       "   Semana  Agencia_ID  Canal_ID  Ruta_SAK  Cliente_ID  Producto_ID  \\\n",
       "0       5        1936         1      1158     1575677         2425   \n",
       "1       3        1936         1      1164     4511404         2425   \n",
       "2       4        1936         1      1161       66167         2425   \n",
       "3       4        1936         1      1164      948201         2425   \n",
       "4       3        1936         1      1156      877954         2425   \n",
       "\n",
       "   Venta_uni_hoy  Venta_hoy  Dev_uni_proxima  Dev_proxima  Demanda_uni_equil  \\\n",
       "0             60      270.0                0          0.0                 60   \n",
       "1             60      270.0                0          0.0                 60   \n",
       "2             24      108.0                0          0.0                 24   \n",
       "3              1        4.5                2          9.0                  0   \n",
       "4             55      247.5                0          0.0                 55   \n",
       "\n",
       "              NombreCliente                Town       State  \\\n",
       "0   JUAN CARLOS GOMEZ GOMEZ  2300 LEON MILENIUM  GUANAJUATO   \n",
       "1           NO IDENTIFICADO  2300 LEON MILENIUM  GUANAJUATO   \n",
       "2                   TERISUR  2300 LEON MILENIUM  GUANAJUATO   \n",
       "3  JORGE ALEJANDRO TRUJILLO  2300 LEON MILENIUM  GUANAJUATO   \n",
       "4     SILVIA RAMIREZ CASTRO  2300 LEON MILENIUM  GUANAJUATO   \n",
       "\n",
       "                 NombreProducto  \n",
       "0  Nito 1p 62g Central BIM 2425  \n",
       "1  Nito 1p 62g Central BIM 2425  \n",
       "2  Nito 1p 62g Central BIM 2425  \n",
       "3  Nito 1p 62g Central BIM 2425  \n",
       "4  Nito 1p 62g Central BIM 2425  "
      ]
     },
     "execution_count": 10,
     "metadata": {},
     "output_type": "execute_result"
    }
   ],
   "source": [
    "df.head()"
   ]
  },
  {
   "cell_type": "code",
   "execution_count": 11,
   "metadata": {},
   "outputs": [],
   "source": [
    "df.to_csv(\"./Dataset/join_table.csv\", index=False)"
   ]
  },
  {
   "cell_type": "code",
   "execution_count": null,
   "metadata": {},
   "outputs": [],
   "source": []
  }
 ],
 "metadata": {
  "kernelspec": {
   "display_name": "Python 3.7.12 ('tf2')",
   "language": "python",
   "name": "python3"
  },
  "language_info": {
   "codemirror_mode": {
    "name": "ipython",
    "version": 3
   },
   "file_extension": ".py",
   "mimetype": "text/x-python",
   "name": "python",
   "nbconvert_exporter": "python",
   "pygments_lexer": "ipython3",
   "version": "3.7.12"
  },
  "orig_nbformat": 4,
  "vscode": {
   "interpreter": {
    "hash": "3e568cfb56bddac644a3ea7076937df63d869203b6023fb7f694d16682a81349"
   }
  }
 },
 "nbformat": 4,
 "nbformat_minor": 2
}
