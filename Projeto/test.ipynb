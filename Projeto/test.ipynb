{
 "cells": [
  {
   "cell_type": "code",
   "execution_count": 1,
   "metadata": {},
   "outputs": [],
   "source": [
    "import pandas as pd\n",
    "from Models.funtions import *"
   ]
  },
  {
   "cell_type": "code",
   "execution_count": null,
   "metadata": {},
   "outputs": [],
   "source": []
  },
  {
   "cell_type": "code",
   "execution_count": 5,
   "metadata": {},
   "outputs": [],
   "source": [
    "df = pd.read_csv(\"./Dataset/join_table.csv\")"
   ]
  },
  {
   "cell_type": "code",
   "execution_count": 6,
   "metadata": {},
   "outputs": [
    {
     "name": "stdout",
     "output_type": "stream",
     "text": [
      "<class 'pandas.core.frame.DataFrame'>\n",
      "RangeIndex: 971976 entries, 0 to 971975\n",
      "Data columns (total 15 columns):\n",
      " #   Column             Non-Null Count   Dtype  \n",
      "---  ------             --------------   -----  \n",
      " 0   Semana             971976 non-null  int64  \n",
      " 1   Agencia_ID         971976 non-null  int64  \n",
      " 2   Canal_ID           971976 non-null  int64  \n",
      " 3   Ruta_SAK           971976 non-null  int64  \n",
      " 4   Cliente_ID         971976 non-null  int64  \n",
      " 5   Producto_ID        971976 non-null  int64  \n",
      " 6   Venta_uni_hoy      971976 non-null  int64  \n",
      " 7   Venta_hoy          971976 non-null  float64\n",
      " 8   Dev_uni_proxima    971976 non-null  int64  \n",
      " 9   Dev_proxima        971976 non-null  float64\n",
      " 10  Demanda_uni_equil  971976 non-null  int64  \n",
      " 11  NombreCliente      971976 non-null  object \n",
      " 12  Town               971976 non-null  object \n",
      " 13  State              971976 non-null  object \n",
      " 14  NombreProducto     971976 non-null  object \n",
      "dtypes: float64(2), int64(9), object(4)\n",
      "memory usage: 111.2+ MB\n"
     ]
    }
   ],
   "source": [
    "df.info()"
   ]
  },
  {
   "cell_type": "code",
   "execution_count": 7,
   "metadata": {},
   "outputs": [],
   "source": [
    "df1 = pd.read_csv(\"./Dataset/0.df_final.csv\")"
   ]
  },
  {
   "cell_type": "code",
   "execution_count": 8,
   "metadata": {},
   "outputs": [
    {
     "name": "stdout",
     "output_type": "stream",
     "text": [
      "<class 'pandas.core.frame.DataFrame'>\n",
      "RangeIndex: 964348 entries, 0 to 964347\n",
      "Data columns (total 11 columns):\n",
      " #   Column             Non-Null Count   Dtype  \n",
      "---  ------             --------------   -----  \n",
      " 0   Semana             964348 non-null  int64  \n",
      " 1   Agencia_ID         964348 non-null  int64  \n",
      " 2   Canal_ID           964348 non-null  int64  \n",
      " 3   Ruta_SAK           964348 non-null  int64  \n",
      " 4   Cliente_ID         964348 non-null  int64  \n",
      " 5   Producto_ID        964348 non-null  int64  \n",
      " 6   Venta_uni_hoy      964348 non-null  int64  \n",
      " 7   Venta_hoy          964348 non-null  float64\n",
      " 8   Dev_uni_proxima    964348 non-null  int64  \n",
      " 9   Dev_proxima        964348 non-null  float64\n",
      " 10  Demanda_uni_equil  964348 non-null  int64  \n",
      "dtypes: float64(2), int64(9)\n",
      "memory usage: 80.9 MB\n"
     ]
    }
   ],
   "source": [
    "df1.info()"
   ]
  },
  {
   "cell_type": "code",
   "execution_count": 3,
   "metadata": {},
   "outputs": [
    {
     "data": {
      "text/plain": [
       "Index(['Semana', 'Agencia_ID', 'Canal_ID', 'Ruta_SAK', 'Cliente_ID',\n",
       "       'Producto_ID', 'Venta_uni_hoy', 'Venta_hoy', 'Dev_uni_proxima',\n",
       "       'Dev_proxima', 'Demanda_uni_equil', 'NombreCliente', 'Town', 'State',\n",
       "       'NombreProducto'],\n",
       "      dtype='object')"
      ]
     },
     "execution_count": 3,
     "metadata": {},
     "output_type": "execute_result"
    }
   ],
   "source": [
    "df.columns"
   ]
  },
  {
   "cell_type": "code",
   "execution_count": 4,
   "metadata": {},
   "outputs": [
    {
     "data": {
      "text/html": [
       "<div>\n",
       "<style scoped>\n",
       "    .dataframe tbody tr th:only-of-type {\n",
       "        vertical-align: middle;\n",
       "    }\n",
       "\n",
       "    .dataframe tbody tr th {\n",
       "        vertical-align: top;\n",
       "    }\n",
       "\n",
       "    .dataframe thead th {\n",
       "        text-align: right;\n",
       "    }\n",
       "</style>\n",
       "<table border=\"1\" class=\"dataframe\">\n",
       "  <thead>\n",
       "    <tr style=\"text-align: right;\">\n",
       "      <th></th>\n",
       "      <th>Semana</th>\n",
       "      <th>Agencia_ID</th>\n",
       "      <th>Canal_ID</th>\n",
       "      <th>Ruta_SAK</th>\n",
       "      <th>Cliente_ID</th>\n",
       "      <th>Producto_ID</th>\n",
       "      <th>Venta_uni_hoy</th>\n",
       "      <th>Venta_hoy</th>\n",
       "      <th>Dev_uni_proxima</th>\n",
       "      <th>Dev_proxima</th>\n",
       "      <th>Demanda_uni_equil</th>\n",
       "      <th>NombreCliente</th>\n",
       "      <th>Town</th>\n",
       "      <th>State</th>\n",
       "      <th>NombreProducto</th>\n",
       "    </tr>\n",
       "  </thead>\n",
       "  <tbody>\n",
       "    <tr>\n",
       "      <th>0</th>\n",
       "      <td>5</td>\n",
       "      <td>1936</td>\n",
       "      <td>1</td>\n",
       "      <td>1158</td>\n",
       "      <td>1575677</td>\n",
       "      <td>2425</td>\n",
       "      <td>60</td>\n",
       "      <td>270.0</td>\n",
       "      <td>0</td>\n",
       "      <td>0.0</td>\n",
       "      <td>60</td>\n",
       "      <td>JUAN CARLOS GOMEZ GOMEZ</td>\n",
       "      <td>2300 LEON MILENIUM</td>\n",
       "      <td>GUANAJUATO</td>\n",
       "      <td>Nito 1p 62g Central BIM 2425</td>\n",
       "    </tr>\n",
       "    <tr>\n",
       "      <th>1</th>\n",
       "      <td>3</td>\n",
       "      <td>1936</td>\n",
       "      <td>1</td>\n",
       "      <td>1164</td>\n",
       "      <td>4511404</td>\n",
       "      <td>2425</td>\n",
       "      <td>60</td>\n",
       "      <td>270.0</td>\n",
       "      <td>0</td>\n",
       "      <td>0.0</td>\n",
       "      <td>60</td>\n",
       "      <td>NO IDENTIFICADO</td>\n",
       "      <td>2300 LEON MILENIUM</td>\n",
       "      <td>GUANAJUATO</td>\n",
       "      <td>Nito 1p 62g Central BIM 2425</td>\n",
       "    </tr>\n",
       "    <tr>\n",
       "      <th>2</th>\n",
       "      <td>4</td>\n",
       "      <td>1936</td>\n",
       "      <td>1</td>\n",
       "      <td>1161</td>\n",
       "      <td>66167</td>\n",
       "      <td>2425</td>\n",
       "      <td>24</td>\n",
       "      <td>108.0</td>\n",
       "      <td>0</td>\n",
       "      <td>0.0</td>\n",
       "      <td>24</td>\n",
       "      <td>TERISUR</td>\n",
       "      <td>2300 LEON MILENIUM</td>\n",
       "      <td>GUANAJUATO</td>\n",
       "      <td>Nito 1p 62g Central BIM 2425</td>\n",
       "    </tr>\n",
       "    <tr>\n",
       "      <th>3</th>\n",
       "      <td>4</td>\n",
       "      <td>1936</td>\n",
       "      <td>1</td>\n",
       "      <td>1164</td>\n",
       "      <td>948201</td>\n",
       "      <td>2425</td>\n",
       "      <td>1</td>\n",
       "      <td>4.5</td>\n",
       "      <td>2</td>\n",
       "      <td>9.0</td>\n",
       "      <td>0</td>\n",
       "      <td>JORGE ALEJANDRO TRUJILLO</td>\n",
       "      <td>2300 LEON MILENIUM</td>\n",
       "      <td>GUANAJUATO</td>\n",
       "      <td>Nito 1p 62g Central BIM 2425</td>\n",
       "    </tr>\n",
       "    <tr>\n",
       "      <th>4</th>\n",
       "      <td>3</td>\n",
       "      <td>1936</td>\n",
       "      <td>1</td>\n",
       "      <td>1156</td>\n",
       "      <td>877954</td>\n",
       "      <td>2425</td>\n",
       "      <td>55</td>\n",
       "      <td>247.5</td>\n",
       "      <td>0</td>\n",
       "      <td>0.0</td>\n",
       "      <td>55</td>\n",
       "      <td>SILVIA RAMIREZ CASTRO</td>\n",
       "      <td>2300 LEON MILENIUM</td>\n",
       "      <td>GUANAJUATO</td>\n",
       "      <td>Nito 1p 62g Central BIM 2425</td>\n",
       "    </tr>\n",
       "  </tbody>\n",
       "</table>\n",
       "</div>"
      ],
      "text/plain": [
       "   Semana  Agencia_ID  Canal_ID  Ruta_SAK  Cliente_ID  Producto_ID  \\\n",
       "0       5        1936         1      1158     1575677         2425   \n",
       "1       3        1936         1      1164     4511404         2425   \n",
       "2       4        1936         1      1161       66167         2425   \n",
       "3       4        1936         1      1164      948201         2425   \n",
       "4       3        1936         1      1156      877954         2425   \n",
       "\n",
       "   Venta_uni_hoy  Venta_hoy  Dev_uni_proxima  Dev_proxima  Demanda_uni_equil  \\\n",
       "0             60      270.0                0          0.0                 60   \n",
       "1             60      270.0                0          0.0                 60   \n",
       "2             24      108.0                0          0.0                 24   \n",
       "3              1        4.5                2          9.0                  0   \n",
       "4             55      247.5                0          0.0                 55   \n",
       "\n",
       "              NombreCliente                Town       State  \\\n",
       "0   JUAN CARLOS GOMEZ GOMEZ  2300 LEON MILENIUM  GUANAJUATO   \n",
       "1           NO IDENTIFICADO  2300 LEON MILENIUM  GUANAJUATO   \n",
       "2                   TERISUR  2300 LEON MILENIUM  GUANAJUATO   \n",
       "3  JORGE ALEJANDRO TRUJILLO  2300 LEON MILENIUM  GUANAJUATO   \n",
       "4     SILVIA RAMIREZ CASTRO  2300 LEON MILENIUM  GUANAJUATO   \n",
       "\n",
       "                 NombreProducto  \n",
       "0  Nito 1p 62g Central BIM 2425  \n",
       "1  Nito 1p 62g Central BIM 2425  \n",
       "2  Nito 1p 62g Central BIM 2425  \n",
       "3  Nito 1p 62g Central BIM 2425  \n",
       "4  Nito 1p 62g Central BIM 2425  "
      ]
     },
     "execution_count": 4,
     "metadata": {},
     "output_type": "execute_result"
    }
   ],
   "source": [
    "df.head()"
   ]
  },
  {
   "cell_type": "code",
   "execution_count": 5,
   "metadata": {},
   "outputs": [],
   "source": [
    "df[\"Dev_missing\"] = df[\"Venta_uni_hoy\"] - df[\"Dev_uni_proxima\"]\n"
   ]
  },
  {
   "cell_type": "code",
   "execution_count": 11,
   "metadata": {},
   "outputs": [],
   "source": [
    "df[\"Dev_pesos_missing\"] = df[\"Venta_hoy\"] - df[\"Dev_proxima\"]"
   ]
  },
  {
   "cell_type": "code",
   "execution_count": 6,
   "metadata": {},
   "outputs": [],
   "source": [
    "test = df[[\"Dev_missing\",\"Demanda_uni_equil\"]]"
   ]
  },
  {
   "cell_type": "code",
   "execution_count": 13,
   "metadata": {},
   "outputs": [],
   "source": [
    "df[\"Dev_pesos_unit_missing\"] = df[\"Dev_pesos_missing\"] /df[\"Dev_missing\"]"
   ]
  },
  {
   "cell_type": "code",
   "execution_count": 7,
   "metadata": {},
   "outputs": [
    {
     "data": {
      "text/plain": [
       "38667"
      ]
     },
     "execution_count": 7,
     "metadata": {},
     "output_type": "execute_result"
    }
   ],
   "source": [
    "sum(test[\"Demanda_uni_equil\"]) - sum(test[\"Dev_missing\"])"
   ]
  },
  {
   "cell_type": "code",
   "execution_count": 14,
   "metadata": {},
   "outputs": [
    {
     "data": {
      "text/plain": [
       "Demanda_uni_equil         1.000000\n",
       "Dev_missing               0.997907\n",
       "Venta_uni_hoy             0.996402\n",
       "Venta_hoy                 0.792991\n",
       "Dev_pesos_missing         0.781626\n",
       "Canal_ID                  0.133306\n",
       "Ruta_SAK                  0.053599\n",
       "Producto_ID               0.046859\n",
       "Dev_uni_proxima           0.043321\n",
       "Dev_proxima               0.025421\n",
       "Semana                    0.003484\n",
       "Agencia_ID               -0.006390\n",
       "Cliente_ID               -0.015822\n",
       "Dev_pesos_unit_missing   -0.040626\n",
       "Name: Demanda_uni_equil, dtype: float64"
      ]
     },
     "execution_count": 14,
     "metadata": {},
     "output_type": "execute_result"
    }
   ],
   "source": [
    "corr = df.corr()\n",
    "corr[\"Demanda_uni_equil\"].sort_values(ascending=False)"
   ]
  },
  {
   "cell_type": "code",
   "execution_count": 7,
   "metadata": {},
   "outputs": [
    {
     "name": "stdout",
     "output_type": "stream",
     "text": [
      "Dataset Shape: (971976, 15)\n"
     ]
    },
    {
     "data": {
      "text/html": [
       "<div>\n",
       "<style scoped>\n",
       "    .dataframe tbody tr th:only-of-type {\n",
       "        vertical-align: middle;\n",
       "    }\n",
       "\n",
       "    .dataframe tbody tr th {\n",
       "        vertical-align: top;\n",
       "    }\n",
       "\n",
       "    .dataframe thead th {\n",
       "        text-align: right;\n",
       "    }\n",
       "</style>\n",
       "<table border=\"1\" class=\"dataframe\">\n",
       "  <thead>\n",
       "    <tr style=\"text-align: right;\">\n",
       "      <th></th>\n",
       "      <th>Name</th>\n",
       "      <th>dtypes</th>\n",
       "      <th>Uniques</th>\n",
       "      <th>Duplicated</th>\n",
       "      <th>Min</th>\n",
       "      <th>Max</th>\n",
       "      <th>Null</th>\n",
       "      <th>Entropy</th>\n",
       "      <th>First Value</th>\n",
       "      <th>Second Value</th>\n",
       "    </tr>\n",
       "  </thead>\n",
       "  <tbody>\n",
       "    <tr>\n",
       "      <th>0</th>\n",
       "      <td>Semana</td>\n",
       "      <td>int64</td>\n",
       "      <td>7</td>\n",
       "      <td>971969</td>\n",
       "      <td>3</td>\n",
       "      <td>9</td>\n",
       "      <td>0</td>\n",
       "      <td>2.81</td>\n",
       "      <td>5</td>\n",
       "      <td>3</td>\n",
       "    </tr>\n",
       "    <tr>\n",
       "      <th>1</th>\n",
       "      <td>Agencia_ID</td>\n",
       "      <td>int64</td>\n",
       "      <td>551</td>\n",
       "      <td>971425</td>\n",
       "      <td>1110</td>\n",
       "      <td>25759</td>\n",
       "      <td>0</td>\n",
       "      <td>8.09</td>\n",
       "      <td>1936</td>\n",
       "      <td>1936</td>\n",
       "    </tr>\n",
       "    <tr>\n",
       "      <th>2</th>\n",
       "      <td>Canal_ID</td>\n",
       "      <td>int64</td>\n",
       "      <td>9</td>\n",
       "      <td>971967</td>\n",
       "      <td>1</td>\n",
       "      <td>11</td>\n",
       "      <td>0</td>\n",
       "      <td>0.62</td>\n",
       "      <td>1</td>\n",
       "      <td>1</td>\n",
       "    </tr>\n",
       "    <tr>\n",
       "      <th>3</th>\n",
       "      <td>Ruta_SAK</td>\n",
       "      <td>int64</td>\n",
       "      <td>2264</td>\n",
       "      <td>969712</td>\n",
       "      <td>1</td>\n",
       "      <td>9930</td>\n",
       "      <td>0</td>\n",
       "      <td>9.60</td>\n",
       "      <td>1158</td>\n",
       "      <td>1164</td>\n",
       "    </tr>\n",
       "    <tr>\n",
       "      <th>4</th>\n",
       "      <td>Cliente_ID</td>\n",
       "      <td>int64</td>\n",
       "      <td>450788</td>\n",
       "      <td>521188</td>\n",
       "      <td>26</td>\n",
       "      <td>19988629</td>\n",
       "      <td>0</td>\n",
       "      <td>18.46</td>\n",
       "      <td>1575677</td>\n",
       "      <td>4511404</td>\n",
       "    </tr>\n",
       "    <tr>\n",
       "      <th>5</th>\n",
       "      <td>Producto_ID</td>\n",
       "      <td>int64</td>\n",
       "      <td>1308</td>\n",
       "      <td>970668</td>\n",
       "      <td>41</td>\n",
       "      <td>49997</td>\n",
       "      <td>0</td>\n",
       "      <td>7.46</td>\n",
       "      <td>2425</td>\n",
       "      <td>2425</td>\n",
       "    </tr>\n",
       "    <tr>\n",
       "      <th>6</th>\n",
       "      <td>Venta_uni_hoy</td>\n",
       "      <td>int64</td>\n",
       "      <td>614</td>\n",
       "      <td>971362</td>\n",
       "      <td>0</td>\n",
       "      <td>5000</td>\n",
       "      <td>0</td>\n",
       "      <td>3.87</td>\n",
       "      <td>60</td>\n",
       "      <td>60</td>\n",
       "    </tr>\n",
       "    <tr>\n",
       "      <th>7</th>\n",
       "      <td>Venta_hoy</td>\n",
       "      <td>float64</td>\n",
       "      <td>13671</td>\n",
       "      <td>958305</td>\n",
       "      <td>0.0</td>\n",
       "      <td>50353.22</td>\n",
       "      <td>0</td>\n",
       "      <td>9.37</td>\n",
       "      <td>270.0</td>\n",
       "      <td>270.0</td>\n",
       "    </tr>\n",
       "    <tr>\n",
       "      <th>8</th>\n",
       "      <td>Dev_uni_proxima</td>\n",
       "      <td>int64</td>\n",
       "      <td>134</td>\n",
       "      <td>971842</td>\n",
       "      <td>0</td>\n",
       "      <td>1241</td>\n",
       "      <td>0</td>\n",
       "      <td>0.31</td>\n",
       "      <td>0</td>\n",
       "      <td>0</td>\n",
       "    </tr>\n",
       "    <tr>\n",
       "      <th>9</th>\n",
       "      <td>Dev_proxima</td>\n",
       "      <td>float64</td>\n",
       "      <td>2515</td>\n",
       "      <td>969461</td>\n",
       "      <td>0.0</td>\n",
       "      <td>49500.0</td>\n",
       "      <td>0</td>\n",
       "      <td>0.50</td>\n",
       "      <td>0.0</td>\n",
       "      <td>0.0</td>\n",
       "    </tr>\n",
       "    <tr>\n",
       "      <th>10</th>\n",
       "      <td>Demanda_uni_equil</td>\n",
       "      <td>int64</td>\n",
       "      <td>613</td>\n",
       "      <td>971363</td>\n",
       "      <td>0</td>\n",
       "      <td>5000</td>\n",
       "      <td>0</td>\n",
       "      <td>3.91</td>\n",
       "      <td>60</td>\n",
       "      <td>60</td>\n",
       "    </tr>\n",
       "    <tr>\n",
       "      <th>11</th>\n",
       "      <td>NombreCliente</td>\n",
       "      <td>object</td>\n",
       "      <td>176072</td>\n",
       "      <td>795904</td>\n",
       "      <td>007</td>\n",
       "      <td>ÑOÑO</td>\n",
       "      <td>0</td>\n",
       "      <td>13.29</td>\n",
       "      <td>JUAN CARLOS GOMEZ GOMEZ</td>\n",
       "      <td>NO IDENTIFICADO</td>\n",
       "    </tr>\n",
       "    <tr>\n",
       "      <th>12</th>\n",
       "      <td>Town</td>\n",
       "      <td>object</td>\n",
       "      <td>256</td>\n",
       "      <td>971720</td>\n",
       "      <td>2001 AG. ATIZAPAN</td>\n",
       "      <td>3216 NUEVO LAREDO</td>\n",
       "      <td>0</td>\n",
       "      <td>7.67</td>\n",
       "      <td>2300 LEON MILENIUM</td>\n",
       "      <td>2300 LEON MILENIUM</td>\n",
       "    </tr>\n",
       "    <tr>\n",
       "      <th>13</th>\n",
       "      <td>State</td>\n",
       "      <td>object</td>\n",
       "      <td>33</td>\n",
       "      <td>971943</td>\n",
       "      <td>AGUASCALIENTES</td>\n",
       "      <td>ZACATECAS</td>\n",
       "      <td>0</td>\n",
       "      <td>4.49</td>\n",
       "      <td>GUANAJUATO</td>\n",
       "      <td>GUANAJUATO</td>\n",
       "    </tr>\n",
       "    <tr>\n",
       "      <th>14</th>\n",
       "      <td>NombreProducto</td>\n",
       "      <td>object</td>\n",
       "      <td>1308</td>\n",
       "      <td>970668</td>\n",
       "      <td>100pct Whole Wheat 680g MTA ORO 43111</td>\n",
       "      <td>Wonder 100pct mediano 475g WON 106</td>\n",
       "      <td>0</td>\n",
       "      <td>7.46</td>\n",
       "      <td>Nito 1p 62g Central BIM 2425</td>\n",
       "      <td>Nito 1p 62g Central BIM 2425</td>\n",
       "    </tr>\n",
       "  </tbody>\n",
       "</table>\n",
       "</div>"
      ],
      "text/plain": [
       "                 Name   dtypes  Uniques  Duplicated  \\\n",
       "0              Semana    int64        7      971969   \n",
       "1          Agencia_ID    int64      551      971425   \n",
       "2            Canal_ID    int64        9      971967   \n",
       "3            Ruta_SAK    int64     2264      969712   \n",
       "4          Cliente_ID    int64   450788      521188   \n",
       "5         Producto_ID    int64     1308      970668   \n",
       "6       Venta_uni_hoy    int64      614      971362   \n",
       "7           Venta_hoy  float64    13671      958305   \n",
       "8     Dev_uni_proxima    int64      134      971842   \n",
       "9         Dev_proxima  float64     2515      969461   \n",
       "10  Demanda_uni_equil    int64      613      971363   \n",
       "11      NombreCliente   object   176072      795904   \n",
       "12               Town   object      256      971720   \n",
       "13              State   object       33      971943   \n",
       "14     NombreProducto   object     1308      970668   \n",
       "\n",
       "                                      Min                                 Max  \\\n",
       "0                                       3                                   9   \n",
       "1                                    1110                               25759   \n",
       "2                                       1                                  11   \n",
       "3                                       1                                9930   \n",
       "4                                      26                            19988629   \n",
       "5                                      41                               49997   \n",
       "6                                       0                                5000   \n",
       "7                                     0.0                            50353.22   \n",
       "8                                       0                                1241   \n",
       "9                                     0.0                             49500.0   \n",
       "10                                      0                                5000   \n",
       "11                                    007                                ÑOÑO   \n",
       "12                      2001 AG. ATIZAPAN                   3216 NUEVO LAREDO   \n",
       "13                         AGUASCALIENTES                           ZACATECAS   \n",
       "14  100pct Whole Wheat 680g MTA ORO 43111  Wonder 100pct mediano 475g WON 106   \n",
       "\n",
       "   Null  Entropy                   First Value                  Second Value  \n",
       "0     0     2.81                             5                             3  \n",
       "1     0     8.09                          1936                          1936  \n",
       "2     0     0.62                             1                             1  \n",
       "3     0     9.60                          1158                          1164  \n",
       "4     0    18.46                       1575677                       4511404  \n",
       "5     0     7.46                          2425                          2425  \n",
       "6     0     3.87                            60                            60  \n",
       "7     0     9.37                         270.0                         270.0  \n",
       "8     0     0.31                             0                             0  \n",
       "9     0     0.50                           0.0                           0.0  \n",
       "10    0     3.91                            60                            60  \n",
       "11    0    13.29       JUAN CARLOS GOMEZ GOMEZ               NO IDENTIFICADO  \n",
       "12    0     7.67            2300 LEON MILENIUM            2300 LEON MILENIUM  \n",
       "13    0     4.49                    GUANAJUATO                    GUANAJUATO  \n",
       "14    0     7.46  Nito 1p 62g Central BIM 2425  Nito 1p 62g Central BIM 2425  "
      ]
     },
     "execution_count": 7,
     "metadata": {},
     "output_type": "execute_result"
    }
   ],
   "source": [
    "resume(df)"
   ]
  },
  {
   "cell_type": "code",
   "execution_count": 9,
   "metadata": {},
   "outputs": [
    {
     "name": "stdout",
     "output_type": "stream",
     "text": [
      "Dataset Shape: (971976, 15)\n",
      "Saving table final_table\n",
      "Saving figure Semana\n",
      "Saving figure Agencia_ID\n",
      "Saving figure Canal_ID\n",
      "Saving figure Ruta_SAK\n",
      "Saving figure Cliente_ID\n",
      "Saving figure Producto_ID\n",
      "Saving figure Venta_uni_hoy\n",
      "Saving figure Venta_hoy\n",
      "Saving figure Dev_uni_proxima\n",
      "Saving figure Dev_proxima\n",
      "Saving figure Demanda_uni_equil\n",
      "Saving figure NombreCliente\n",
      "Saving figure Town\n",
      "Saving figure State\n",
      "Saving figure NombreProducto\n"
     ]
    },
    {
     "data": {
      "image/png": "[encoded data removed]",
      "text/plain": [
       "<Figure size 576x360 with 1 Axes>"
      ]
     },
     "metadata": {
      "needs_background": "light"
     },
     "output_type": "display_data"
    },
    {
     "data": {
      "image/png": "[encoded data removed]",
      "text/plain": [
       "<Figure size 576x360 with 1 Axes>"
      ]
     },
     "metadata": {
      "needs_background": "light"
     },
     "output_type": "display_data"
    },
    {
     "data": {
      "image/png": "[encoded data removed]",
      "text/plain": [
       "<Figure size 576x360 with 1 Axes>"
      ]
     },
     "metadata": {
      "needs_background": "light"
     },
     "output_type": "display_data"
    },
    {
     "data": {
      "image/png": "[encoded data removed]",
      "text/plain": [
       "<Figure size 576x360 with 1 Axes>"
      ]
     },
     "metadata": {
      "needs_background": "light"
     },
     "output_type": "display_data"
    },
    {
     "data": {
      "image/png": "[encoded data removed]",
      "text/plain": [
       "<Figure size 576x360 with 1 Axes>"
      ]
     },
     "metadata": {
      "needs_background": "light"
     },
     "output_type": "display_data"
    },
    {
     "data": {
      "image/png": "[encoded data removed]",
      "text/plain": [
       "<Figure size 576x360 with 1 Axes>"
      ]
     },
     "metadata": {
      "needs_background": "light"
     },
     "output_type": "display_data"
    },
    {
     "data": {
      "image/png": "[encoded data removed]",
      "text/plain": [
       "<Figure size 576x360 with 1 Axes>"
      ]
     },
     "metadata": {
      "needs_background": "light"
     },
     "output_type": "display_data"
    },
    {
     "data": {
      "image/png": "[encoded data removed]",
      "text/plain": [
       "<Figure size 576x360 with 1 Axes>"
      ]
     },
     "metadata": {
      "needs_background": "light"
     },
     "output_type": "display_data"
    },
    {
     "data": {
      "image/png": "[encoded data removed]",
      "text/plain": [
       "<Figure size 576x360 with 1 Axes>"
      ]
     },
     "metadata": {
      "needs_background": "light"
     },
     "output_type": "display_data"
    },
    {
     "data": {
      "image/png": "[encoded data removed]",
      "text/plain": [
       "<Figure size 576x360 with 1 Axes>"
      ]
     },
     "metadata": {
      "needs_background": "light"
     },
     "output_type": "display_data"
    },
    {
     "data": {
      "image/png": "[encoded data removed]",
      "text/plain": [
       "<Figure size 576x360 with 1 Axes>"
      ]
     },
     "metadata": {
      "needs_background": "light"
     },
     "output_type": "display_data"
    },
    {
     "data": {
      "image/png": "[encoded data removed]",
      "text/plain": [
       "<Figure size 576x360 with 1 Axes>"
      ]
     },
     "metadata": {
      "needs_background": "light"
     },
     "output_type": "display_data"
    },
    {
     "data": {
      "image/png": "[encoded data removed]",
      "text/plain": [
       "<Figure size 576x360 with 1 Axes>"
      ]
     },
     "metadata": {
      "needs_background": "light"
     },
     "output_type": "display_data"
    },
    {
     "data": {
      "image/png": "[encoded data removed]",
      "text/plain": [
       "<Figure size 576x360 with 1 Axes>"
      ]
     },
     "metadata": {
      "needs_background": "light"
     },
     "output_type": "display_data"
    },
    {
     "data": {
      "image/png": "[encoded data removed]",
      "text/plain": [
       "<Figure size 576x360 with 1 Axes>"
      ]
     },
     "metadata": {
      "needs_background": "light"
     },
     "output_type": "display_data"
    }
   ],
   "source": [
    "save_all_countplot(df, \"final_table\")"
   ]
  },
  {
   "cell_type": "code",
   "execution_count": 11,
   "metadata": {},
   "outputs": [
    {
     "name": "stdout",
     "output_type": "stream",
     "text": [
      "Identified lowest outliers: 0\n",
      "Identified upper outliers: 8562\n",
      "Identified outliers: 8562\n",
      "Non-outlier observations: 963414\n",
      "Total percentual of Outliers:  0.8887\n"
     ]
    }
   ],
   "source": [
    "CalcOutliers(df.Venta_uni_hoy)"
   ]
  },
  {
   "cell_type": "code",
   "execution_count": 18,
   "metadata": {},
   "outputs": [
    {
     "data": {
      "text/html": [
       "<div>\n",
       "<style scoped>\n",
       "    .dataframe tbody tr th:only-of-type {\n",
       "        vertical-align: middle;\n",
       "    }\n",
       "\n",
       "    .dataframe tbody tr th {\n",
       "        vertical-align: top;\n",
       "    }\n",
       "\n",
       "    .dataframe thead th {\n",
       "        text-align: right;\n",
       "    }\n",
       "</style>\n",
       "<table border=\"1\" class=\"dataframe\">\n",
       "  <thead>\n",
       "    <tr style=\"text-align: right;\">\n",
       "      <th></th>\n",
       "      <th>Semana</th>\n",
       "      <th>Agencia_ID</th>\n",
       "      <th>Canal_ID</th>\n",
       "      <th>Ruta_SAK</th>\n",
       "      <th>Cliente_ID</th>\n",
       "      <th>Producto_ID</th>\n",
       "      <th>Venta_uni_hoy</th>\n",
       "      <th>Venta_hoy</th>\n",
       "      <th>Dev_uni_proxima</th>\n",
       "      <th>Dev_proxima</th>\n",
       "      <th>Demanda_uni_equil</th>\n",
       "    </tr>\n",
       "  </thead>\n",
       "  <tbody>\n",
       "    <tr>\n",
       "      <th>Semana</th>\n",
       "      <td>1.000000</td>\n",
       "      <td>-0.000246</td>\n",
       "      <td>0.008419</td>\n",
       "      <td>-0.002967</td>\n",
       "      <td>0.002486</td>\n",
       "      <td>0.013571</td>\n",
       "      <td>0.003763</td>\n",
       "      <td>0.003382</td>\n",
       "      <td>0.004650</td>\n",
       "      <td>0.002375</td>\n",
       "      <td>0.003484</td>\n",
       "    </tr>\n",
       "    <tr>\n",
       "      <th>Agencia_ID</th>\n",
       "      <td>-0.000246</td>\n",
       "      <td>1.000000</td>\n",
       "      <td>-0.038890</td>\n",
       "      <td>-0.007556</td>\n",
       "      <td>0.017183</td>\n",
       "      <td>0.006979</td>\n",
       "      <td>-0.006406</td>\n",
       "      <td>-0.007942</td>\n",
       "      <td>-0.000997</td>\n",
       "      <td>-0.000889</td>\n",
       "      <td>-0.006390</td>\n",
       "    </tr>\n",
       "    <tr>\n",
       "      <th>Canal_ID</th>\n",
       "      <td>0.008419</td>\n",
       "      <td>-0.038890</td>\n",
       "      <td>1.000000</td>\n",
       "      <td>0.474583</td>\n",
       "      <td>0.074074</td>\n",
       "      <td>0.028630</td>\n",
       "      <td>0.133913</td>\n",
       "      <td>0.121280</td>\n",
       "      <td>0.027619</td>\n",
       "      <td>0.011970</td>\n",
       "      <td>0.133306</td>\n",
       "    </tr>\n",
       "    <tr>\n",
       "      <th>Ruta_SAK</th>\n",
       "      <td>-0.002967</td>\n",
       "      <td>-0.007556</td>\n",
       "      <td>0.474583</td>\n",
       "      <td>1.000000</td>\n",
       "      <td>0.080465</td>\n",
       "      <td>0.281865</td>\n",
       "      <td>0.053035</td>\n",
       "      <td>0.026483</td>\n",
       "      <td>0.001988</td>\n",
       "      <td>-0.003478</td>\n",
       "      <td>0.053599</td>\n",
       "    </tr>\n",
       "    <tr>\n",
       "      <th>Cliente_ID</th>\n",
       "      <td>0.002486</td>\n",
       "      <td>0.017183</td>\n",
       "      <td>0.074074</td>\n",
       "      <td>0.080465</td>\n",
       "      <td>1.000000</td>\n",
       "      <td>-0.002174</td>\n",
       "      <td>-0.016169</td>\n",
       "      <td>-0.017486</td>\n",
       "      <td>-0.003488</td>\n",
       "      <td>-0.002438</td>\n",
       "      <td>-0.015822</td>\n",
       "    </tr>\n",
       "    <tr>\n",
       "      <th>Producto_ID</th>\n",
       "      <td>0.013571</td>\n",
       "      <td>0.006979</td>\n",
       "      <td>0.028630</td>\n",
       "      <td>0.281865</td>\n",
       "      <td>-0.002174</td>\n",
       "      <td>1.000000</td>\n",
       "      <td>0.047243</td>\n",
       "      <td>0.018040</td>\n",
       "      <td>0.012052</td>\n",
       "      <td>0.005276</td>\n",
       "      <td>0.046859</td>\n",
       "    </tr>\n",
       "    <tr>\n",
       "      <th>Venta_uni_hoy</th>\n",
       "      <td>0.003763</td>\n",
       "      <td>-0.006406</td>\n",
       "      <td>0.133913</td>\n",
       "      <td>0.053035</td>\n",
       "      <td>-0.016169</td>\n",
       "      <td>0.047243</td>\n",
       "      <td>1.000000</td>\n",
       "      <td>0.794455</td>\n",
       "      <td>0.114609</td>\n",
       "      <td>0.046116</td>\n",
       "      <td>0.996402</td>\n",
       "    </tr>\n",
       "    <tr>\n",
       "      <th>Venta_hoy</th>\n",
       "      <td>0.003382</td>\n",
       "      <td>-0.007942</td>\n",
       "      <td>0.121280</td>\n",
       "      <td>0.026483</td>\n",
       "      <td>-0.017486</td>\n",
       "      <td>0.018040</td>\n",
       "      <td>0.794455</td>\n",
       "      <td>1.000000</td>\n",
       "      <td>0.074668</td>\n",
       "      <td>0.048069</td>\n",
       "      <td>0.792991</td>\n",
       "    </tr>\n",
       "    <tr>\n",
       "      <th>Dev_uni_proxima</th>\n",
       "      <td>0.004650</td>\n",
       "      <td>-0.000997</td>\n",
       "      <td>0.027619</td>\n",
       "      <td>0.001988</td>\n",
       "      <td>-0.003488</td>\n",
       "      <td>0.012052</td>\n",
       "      <td>0.114609</td>\n",
       "      <td>0.074668</td>\n",
       "      <td>1.000000</td>\n",
       "      <td>0.386615</td>\n",
       "      <td>0.043321</td>\n",
       "    </tr>\n",
       "    <tr>\n",
       "      <th>Dev_proxima</th>\n",
       "      <td>0.002375</td>\n",
       "      <td>-0.000889</td>\n",
       "      <td>0.011970</td>\n",
       "      <td>-0.003478</td>\n",
       "      <td>-0.002438</td>\n",
       "      <td>0.005276</td>\n",
       "      <td>0.046116</td>\n",
       "      <td>0.048069</td>\n",
       "      <td>0.386615</td>\n",
       "      <td>1.000000</td>\n",
       "      <td>0.025421</td>\n",
       "    </tr>\n",
       "    <tr>\n",
       "      <th>Demanda_uni_equil</th>\n",
       "      <td>0.003484</td>\n",
       "      <td>-0.006390</td>\n",
       "      <td>0.133306</td>\n",
       "      <td>0.053599</td>\n",
       "      <td>-0.015822</td>\n",
       "      <td>0.046859</td>\n",
       "      <td>0.996402</td>\n",
       "      <td>0.792991</td>\n",
       "      <td>0.043321</td>\n",
       "      <td>0.025421</td>\n",
       "      <td>1.000000</td>\n",
       "    </tr>\n",
       "  </tbody>\n",
       "</table>\n",
       "</div>"
      ],
      "text/plain": [
       "                     Semana  Agencia_ID  Canal_ID  Ruta_SAK  Cliente_ID  \\\n",
       "Semana             1.000000   -0.000246  0.008419 -0.002967    0.002486   \n",
       "Agencia_ID        -0.000246    1.000000 -0.038890 -0.007556    0.017183   \n",
       "Canal_ID           0.008419   -0.038890  1.000000  0.474583    0.074074   \n",
       "Ruta_SAK          -0.002967   -0.007556  0.474583  1.000000    0.080465   \n",
       "Cliente_ID         0.002486    0.017183  0.074074  0.080465    1.000000   \n",
       "Producto_ID        0.013571    0.006979  0.028630  0.281865   -0.002174   \n",
       "Venta_uni_hoy      0.003763   -0.006406  0.133913  0.053035   -0.016169   \n",
       "Venta_hoy          0.003382   -0.007942  0.121280  0.026483   -0.017486   \n",
       "Dev_uni_proxima    0.004650   -0.000997  0.027619  0.001988   -0.003488   \n",
       "Dev_proxima        0.002375   -0.000889  0.011970 -0.003478   -0.002438   \n",
       "Demanda_uni_equil  0.003484   -0.006390  0.133306  0.053599   -0.015822   \n",
       "\n",
       "                   Producto_ID  Venta_uni_hoy  Venta_hoy  Dev_uni_proxima  \\\n",
       "Semana                0.013571       0.003763   0.003382         0.004650   \n",
       "Agencia_ID            0.006979      -0.006406  -0.007942        -0.000997   \n",
       "Canal_ID              0.028630       0.133913   0.121280         0.027619   \n",
       "Ruta_SAK              0.281865       0.053035   0.026483         0.001988   \n",
       "Cliente_ID           -0.002174      -0.016169  -0.017486        -0.003488   \n",
       "Producto_ID           1.000000       0.047243   0.018040         0.012052   \n",
       "Venta_uni_hoy         0.047243       1.000000   0.794455         0.114609   \n",
       "Venta_hoy             0.018040       0.794455   1.000000         0.074668   \n",
       "Dev_uni_proxima       0.012052       0.114609   0.074668         1.000000   \n",
       "Dev_proxima           0.005276       0.046116   0.048069         0.386615   \n",
       "Demanda_uni_equil     0.046859       0.996402   0.792991         0.043321   \n",
       "\n",
       "                   Dev_proxima  Demanda_uni_equil  \n",
       "Semana                0.002375           0.003484  \n",
       "Agencia_ID           -0.000889          -0.006390  \n",
       "Canal_ID              0.011970           0.133306  \n",
       "Ruta_SAK             -0.003478           0.053599  \n",
       "Cliente_ID           -0.002438          -0.015822  \n",
       "Producto_ID           0.005276           0.046859  \n",
       "Venta_uni_hoy         0.046116           0.996402  \n",
       "Venta_hoy             0.048069           0.792991  \n",
       "Dev_uni_proxima       0.386615           0.043321  \n",
       "Dev_proxima           1.000000           0.025421  \n",
       "Demanda_uni_equil     0.025421           1.000000  "
      ]
     },
     "execution_count": 18,
     "metadata": {},
     "output_type": "execute_result"
    }
   ],
   "source": [
    "df.corr()"
   ]
  },
  {
   "cell_type": "code",
   "execution_count": 17,
   "metadata": {},
   "outputs": [
    {
     "data": {
      "text/plain": [
       "Demanda_uni_equil    1.000000\n",
       "Venta_uni_hoy        0.996402\n",
       "Venta_hoy            0.792991\n",
       "Canal_ID             0.133306\n",
       "Ruta_SAK             0.053599\n",
       "Producto_ID          0.046859\n",
       "Dev_uni_proxima      0.043321\n",
       "Dev_proxima          0.025421\n",
       "Semana               0.003484\n",
       "Agencia_ID          -0.006390\n",
       "Cliente_ID          -0.015822\n",
       "Name: Demanda_uni_equil, dtype: float64"
      ]
     },
     "execution_count": 17,
     "metadata": {},
     "output_type": "execute_result"
    }
   ],
   "source": [
    "\n",
    "corr[\"Demanda_uni_equil\"].sort_values(ascending=False)"
   ]
  },
  {
   "cell_type": "code",
   "execution_count": 16,
   "metadata": {},
   "outputs": [
    {
     "data": {
      "text/html": [
       "<div>\n",
       "<style scoped>\n",
       "    .dataframe tbody tr th:only-of-type {\n",
       "        vertical-align: middle;\n",
       "    }\n",
       "\n",
       "    .dataframe tbody tr th {\n",
       "        vertical-align: top;\n",
       "    }\n",
       "\n",
       "    .dataframe thead th {\n",
       "        text-align: right;\n",
       "    }\n",
       "</style>\n",
       "<table border=\"1\" class=\"dataframe\">\n",
       "  <thead>\n",
       "    <tr style=\"text-align: right;\">\n",
       "      <th></th>\n",
       "      <th>Semana</th>\n",
       "      <th>Agencia_ID</th>\n",
       "      <th>Canal_ID</th>\n",
       "      <th>Ruta_SAK</th>\n",
       "      <th>Cliente_ID</th>\n",
       "      <th>Producto_ID</th>\n",
       "      <th>Venta_uni_hoy</th>\n",
       "      <th>Venta_hoy</th>\n",
       "      <th>Dev_uni_proxima</th>\n",
       "      <th>Dev_proxima</th>\n",
       "      <th>Demanda_uni_equil</th>\n",
       "    </tr>\n",
       "  </thead>\n",
       "  <tbody>\n",
       "    <tr>\n",
       "      <th>Semana</th>\n",
       "      <td>1.000000</td>\n",
       "      <td>-0.000246</td>\n",
       "      <td>0.008419</td>\n",
       "      <td>-0.002967</td>\n",
       "      <td>0.002486</td>\n",
       "      <td>0.013571</td>\n",
       "      <td>0.003763</td>\n",
       "      <td>0.003382</td>\n",
       "      <td>0.004650</td>\n",
       "      <td>0.002375</td>\n",
       "      <td>0.003484</td>\n",
       "    </tr>\n",
       "    <tr>\n",
       "      <th>Agencia_ID</th>\n",
       "      <td>-0.000246</td>\n",
       "      <td>1.000000</td>\n",
       "      <td>-0.038890</td>\n",
       "      <td>-0.007556</td>\n",
       "      <td>0.017183</td>\n",
       "      <td>0.006979</td>\n",
       "      <td>-0.006406</td>\n",
       "      <td>-0.007942</td>\n",
       "      <td>-0.000997</td>\n",
       "      <td>-0.000889</td>\n",
       "      <td>-0.006390</td>\n",
       "    </tr>\n",
       "    <tr>\n",
       "      <th>Canal_ID</th>\n",
       "      <td>0.008419</td>\n",
       "      <td>-0.038890</td>\n",
       "      <td>1.000000</td>\n",
       "      <td>0.474583</td>\n",
       "      <td>0.074074</td>\n",
       "      <td>0.028630</td>\n",
       "      <td>0.133913</td>\n",
       "      <td>0.121280</td>\n",
       "      <td>0.027619</td>\n",
       "      <td>0.011970</td>\n",
       "      <td>0.133306</td>\n",
       "    </tr>\n",
       "    <tr>\n",
       "      <th>Ruta_SAK</th>\n",
       "      <td>-0.002967</td>\n",
       "      <td>-0.007556</td>\n",
       "      <td>0.474583</td>\n",
       "      <td>1.000000</td>\n",
       "      <td>0.080465</td>\n",
       "      <td>0.281865</td>\n",
       "      <td>0.053035</td>\n",
       "      <td>0.026483</td>\n",
       "      <td>0.001988</td>\n",
       "      <td>-0.003478</td>\n",
       "      <td>0.053599</td>\n",
       "    </tr>\n",
       "    <tr>\n",
       "      <th>Cliente_ID</th>\n",
       "      <td>0.002486</td>\n",
       "      <td>0.017183</td>\n",
       "      <td>0.074074</td>\n",
       "      <td>0.080465</td>\n",
       "      <td>1.000000</td>\n",
       "      <td>-0.002174</td>\n",
       "      <td>-0.016169</td>\n",
       "      <td>-0.017486</td>\n",
       "      <td>-0.003488</td>\n",
       "      <td>-0.002438</td>\n",
       "      <td>-0.015822</td>\n",
       "    </tr>\n",
       "    <tr>\n",
       "      <th>Producto_ID</th>\n",
       "      <td>0.013571</td>\n",
       "      <td>0.006979</td>\n",
       "      <td>0.028630</td>\n",
       "      <td>0.281865</td>\n",
       "      <td>-0.002174</td>\n",
       "      <td>1.000000</td>\n",
       "      <td>0.047243</td>\n",
       "      <td>0.018040</td>\n",
       "      <td>0.012052</td>\n",
       "      <td>0.005276</td>\n",
       "      <td>0.046859</td>\n",
       "    </tr>\n",
       "    <tr>\n",
       "      <th>Venta_uni_hoy</th>\n",
       "      <td>0.003763</td>\n",
       "      <td>-0.006406</td>\n",
       "      <td>0.133913</td>\n",
       "      <td>0.053035</td>\n",
       "      <td>-0.016169</td>\n",
       "      <td>0.047243</td>\n",
       "      <td>1.000000</td>\n",
       "      <td>0.794455</td>\n",
       "      <td>0.114609</td>\n",
       "      <td>0.046116</td>\n",
       "      <td>0.996402</td>\n",
       "    </tr>\n",
       "    <tr>\n",
       "      <th>Venta_hoy</th>\n",
       "      <td>0.003382</td>\n",
       "      <td>-0.007942</td>\n",
       "      <td>0.121280</td>\n",
       "      <td>0.026483</td>\n",
       "      <td>-0.017486</td>\n",
       "      <td>0.018040</td>\n",
       "      <td>0.794455</td>\n",
       "      <td>1.000000</td>\n",
       "      <td>0.074668</td>\n",
       "      <td>0.048069</td>\n",
       "      <td>0.792991</td>\n",
       "    </tr>\n",
       "    <tr>\n",
       "      <th>Dev_uni_proxima</th>\n",
       "      <td>0.004650</td>\n",
       "      <td>-0.000997</td>\n",
       "      <td>0.027619</td>\n",
       "      <td>0.001988</td>\n",
       "      <td>-0.003488</td>\n",
       "      <td>0.012052</td>\n",
       "      <td>0.114609</td>\n",
       "      <td>0.074668</td>\n",
       "      <td>1.000000</td>\n",
       "      <td>0.386615</td>\n",
       "      <td>0.043321</td>\n",
       "    </tr>\n",
       "    <tr>\n",
       "      <th>Dev_proxima</th>\n",
       "      <td>0.002375</td>\n",
       "      <td>-0.000889</td>\n",
       "      <td>0.011970</td>\n",
       "      <td>-0.003478</td>\n",
       "      <td>-0.002438</td>\n",
       "      <td>0.005276</td>\n",
       "      <td>0.046116</td>\n",
       "      <td>0.048069</td>\n",
       "      <td>0.386615</td>\n",
       "      <td>1.000000</td>\n",
       "      <td>0.025421</td>\n",
       "    </tr>\n",
       "    <tr>\n",
       "      <th>Demanda_uni_equil</th>\n",
       "      <td>0.003484</td>\n",
       "      <td>-0.006390</td>\n",
       "      <td>0.133306</td>\n",
       "      <td>0.053599</td>\n",
       "      <td>-0.015822</td>\n",
       "      <td>0.046859</td>\n",
       "      <td>0.996402</td>\n",
       "      <td>0.792991</td>\n",
       "      <td>0.043321</td>\n",
       "      <td>0.025421</td>\n",
       "      <td>1.000000</td>\n",
       "    </tr>\n",
       "  </tbody>\n",
       "</table>\n",
       "</div>"
      ],
      "text/plain": [
       "                     Semana  Agencia_ID  Canal_ID  Ruta_SAK  Cliente_ID  \\\n",
       "Semana             1.000000   -0.000246  0.008419 -0.002967    0.002486   \n",
       "Agencia_ID        -0.000246    1.000000 -0.038890 -0.007556    0.017183   \n",
       "Canal_ID           0.008419   -0.038890  1.000000  0.474583    0.074074   \n",
       "Ruta_SAK          -0.002967   -0.007556  0.474583  1.000000    0.080465   \n",
       "Cliente_ID         0.002486    0.017183  0.074074  0.080465    1.000000   \n",
       "Producto_ID        0.013571    0.006979  0.028630  0.281865   -0.002174   \n",
       "Venta_uni_hoy      0.003763   -0.006406  0.133913  0.053035   -0.016169   \n",
       "Venta_hoy          0.003382   -0.007942  0.121280  0.026483   -0.017486   \n",
       "Dev_uni_proxima    0.004650   -0.000997  0.027619  0.001988   -0.003488   \n",
       "Dev_proxima        0.002375   -0.000889  0.011970 -0.003478   -0.002438   \n",
       "Demanda_uni_equil  0.003484   -0.006390  0.133306  0.053599   -0.015822   \n",
       "\n",
       "                   Producto_ID  Venta_uni_hoy  Venta_hoy  Dev_uni_proxima  \\\n",
       "Semana                0.013571       0.003763   0.003382         0.004650   \n",
       "Agencia_ID            0.006979      -0.006406  -0.007942        -0.000997   \n",
       "Canal_ID              0.028630       0.133913   0.121280         0.027619   \n",
       "Ruta_SAK              0.281865       0.053035   0.026483         0.001988   \n",
       "Cliente_ID           -0.002174      -0.016169  -0.017486        -0.003488   \n",
       "Producto_ID           1.000000       0.047243   0.018040         0.012052   \n",
       "Venta_uni_hoy         0.047243       1.000000   0.794455         0.114609   \n",
       "Venta_hoy             0.018040       0.794455   1.000000         0.074668   \n",
       "Dev_uni_proxima       0.012052       0.114609   0.074668         1.000000   \n",
       "Dev_proxima           0.005276       0.046116   0.048069         0.386615   \n",
       "Demanda_uni_equil     0.046859       0.996402   0.792991         0.043321   \n",
       "\n",
       "                   Dev_proxima  Demanda_uni_equil  \n",
       "Semana                0.002375           0.003484  \n",
       "Agencia_ID           -0.000889          -0.006390  \n",
       "Canal_ID              0.011970           0.133306  \n",
       "Ruta_SAK             -0.003478           0.053599  \n",
       "Cliente_ID           -0.002438          -0.015822  \n",
       "Producto_ID           0.005276           0.046859  \n",
       "Venta_uni_hoy         0.046116           0.996402  \n",
       "Venta_hoy             0.048069           0.792991  \n",
       "Dev_uni_proxima       0.386615           0.043321  \n",
       "Dev_proxima           1.000000           0.025421  \n",
       "Demanda_uni_equil     0.025421           1.000000  "
      ]
     },
     "execution_count": 16,
     "metadata": {},
     "output_type": "execute_result"
    }
   ],
   "source": []
  },
  {
   "cell_type": "code",
   "execution_count": 32,
   "metadata": {},
   "outputs": [
    {
     "data": {
      "image/png": "[encoded data removed]",
      "text/plain": [
       "<Figure size 792x648 with 2 Axes>"
      ]
     },
     "metadata": {
      "needs_background": "light"
     },
     "output_type": "display_data"
    }
   ],
   "source": [
    "corr_matrix = df.corr()\n",
    "\n",
    "mask = np.triu(np.ones_like(corr_matrix, dtype=bool))\n",
    "f, ax = plt.subplots(figsize=(11, 9))\n",
    "cmap = sns.diverging_palette(230, 20, as_cmap=True)\n",
    "#cmap = sns.color_palette(\"Blues\", as_cmap=True)\n",
    "sns.heatmap(corr_matrix, mask=mask, cmap=cmap, vmax=.9, center=0,\n",
    "            square=True, linewidths=.5, cbar_kws={\"shrink\": .5});"
   ]
  },
  {
   "cell_type": "code",
   "execution_count": 31,
   "metadata": {},
   "outputs": [
    {
     "data": {
      "image/png": "[encoded data removed]",
      "text/plain": [
       "<Figure size 792x648 with 2 Axes>"
      ]
     },
     "metadata": {
      "needs_background": "light"
     },
     "output_type": "display_data"
    }
   ],
   "source": [
    "\n",
    "corr_matrix = df.corr()\n",
    "\n",
    "mask = np.triu(np.ones_like(corr_matrix, dtype=bool))\n",
    "f, ax = plt.subplots(figsize=(11, 9))\n",
    "#cmap = sns.diverging_palette(230, 20, as_cmap=True)\n",
    "cmap = sns.color_palette(\"Blues\", as_cmap=True)\n",
    "sns.heatmap(corr_matrix, mask=mask, cmap=cmap, vmax=.9, center=0,\n",
    "            square=True, linewidths=.5, cbar_kws={\"shrink\": .5});"
   ]
  },
  {
   "cell_type": "code",
   "execution_count": null,
   "metadata": {},
   "outputs": [],
   "source": []
  }
 ],
 "metadata": {
  "kernelspec": {
   "display_name": "Python 3.7.12 ('tf2')",
   "language": "python",
   "name": "python3"
  },
  "language_info": {
   "codemirror_mode": {
    "name": "ipython",
    "version": 3
   },
   "file_extension": ".py",
   "mimetype": "text/x-python",
   "name": "python",
   "nbconvert_exporter": "python",
   "pygments_lexer": "ipython3",
   "version": "3.7.12"
  },
  "orig_nbformat": 4,
  "vscode": {
   "interpreter": {
    "hash": "3e568cfb56bddac644a3ea7076937df63d869203b6023fb7f694d16682a81349"
   }
  }
 },
 "nbformat": 4,
 "nbformat_minor": 2
}
