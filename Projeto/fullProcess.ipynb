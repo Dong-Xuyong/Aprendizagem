{
  "cells": [
    {
      "cell_type": "markdown",
      "metadata": {
        "id": "1ghTBY8JBD3A"
      },
      "source": [
        "<table align=\"left\">\n",
        "\n",
        "  <h1> Options to run the notebook </h1>\n",
        " \n",
        "  <td>\n",
        "    <a href=\"https://colab.research.google.com/github/Dong-Xuyong/Aprendizagem/blob/main/Projeto/fullProcess.ipynb\" target=\"_parent\"><img src=\"https://colab.research.google.com/assets/colab-badge.svg\" alt=\"Open In Colab\"/></a>\n",
        "  </td>\n",
        "  <td>\n",
        "    <a target=\"_blank\" href=\"https://kaggle.com/kernels/welcome?src=https://github.com/Dong-Xuyong/Aprendizagem/blob/main/Projeto/fullProcess.ipynb\"><img src=\"https://kaggle.com/static/images/open-in-kaggle.svg\" /></a>\n",
        "  </td>\n",
        "</table>"
      ]
    },
    {
      "cell_type": "markdown",
      "metadata": {
        "id": "M2GsNw-rHVns"
      },
      "source": [
        "# Set Up"
      ]
    },
    {
      "cell_type": "code",
      "execution_count": 50,
      "metadata": {
        "id": "KeLHi4WyIAlV"
      },
      "outputs": [],
      "source": [
        "import urllib.request\n",
        "import zipfile\n",
        "import pandas as pd\n",
        "import numpy as np\n",
        "\n",
        "from sklearn.model_selection import train_test_split\n",
        "from sklearn.pipeline import Pipeline\n",
        "from sklearn.preprocessing import StandardScaler\n",
        "from sklearn.preprocessing import OneHotEncoder\n",
        "from sklearn.impute import SimpleImputer\n",
        "from sklearn.compose import ColumnTransformer\n",
        "from sklearn.model_selection import cross_val_predict\n",
        "from sklearn.metrics import confusion_matrix\n",
        "from sklearn.model_selection import cross_val_score\n",
        "from sklearn.metrics import roc_curve\n",
        "from sklearn.metrics import precision_recall_curve\n",
        "from sklearn.metrics import f1_score\n",
        "from sklearn.metrics import precision_score, recall_score\n",
        "\n",
        "from sklearn.linear_model import SGDClassifier\n",
        "from sklearn.ensemble import RandomForestClassifier"
      ]
    },
    {
      "cell_type": "code",
      "execution_count": 2,
      "metadata": {
        "id": "VcCtga3HHlMY"
      },
      "outputs": [],
      "source": [
        "url = \"https://raw.githubusercontent.com/Dong-Xuyong/Aprendizagem/main/Projeto/Dataset/iniTables.zip\"\n",
        "\n",
        "urllib.request.urlretrieve(url, \"df.zip\")\n",
        "\n",
        "with zipfile.ZipFile(\"df.zip\", 'r') as zip_ref:\n",
        "    zip_ref.extractall()"
      ]
    },
    {
      "cell_type": "code",
      "execution_count": 3,
      "metadata": {
        "id": "egmuatgVI4Sq"
      },
      "outputs": [],
      "source": [
        "df_final = pd.read_csv(\"0.df_final.csv\")\n",
        "df_cliente = pd.read_csv(\"1.cliente_tabla.csv\")\n",
        "df_produto = pd.read_csv(\"2.producto_tabla.csv\")\n",
        "df_address = pd.read_csv(\"3.2.address_filtered.csv\")"
      ]
    },
    {
      "cell_type": "markdown",
      "metadata": {
        "id": "dbzPrzs4Bu3f"
      },
      "source": [
        "# Data Modeling\n",
        "On this section we will extract and filtered the Cliente_tabla and producto_tabla"
      ]
    },
    {
      "cell_type": "markdown",
      "metadata": {
        "id": "pF0C1BdJKvBl"
      },
      "source": [
        "## Client"
      ]
    },
    {
      "cell_type": "code",
      "execution_count": 4,
      "metadata": {
        "colab": {
          "base_uri": "https://localhost:8080/",
          "height": 206
        },
        "id": "SnjY0hm5LEsl",
        "outputId": "e7419006-67cc-409c-9de3-997f64184742"
      },
      "outputs": [
        {
          "data": {
            "text/html": [
              "\n",
              "  <div id=\"df-c01228af-6776-4d35-8104-5598907e920f\">\n",
              "    <div class=\"colab-df-container\">\n",
              "      <div>\n",
              "<style scoped>\n",
              "    .dataframe tbody tr th:only-of-type {\n",
              "        vertical-align: middle;\n",
              "    }\n",
              "\n",
              "    .dataframe tbody tr th {\n",
              "        vertical-align: top;\n",
              "    }\n",
              "\n",
              "    .dataframe thead th {\n",
              "        text-align: right;\n",
              "    }\n",
              "</style>\n",
              "<table border=\"1\" class=\"dataframe\">\n",
              "  <thead>\n",
              "    <tr style=\"text-align: right;\">\n",
              "      <th></th>\n",
              "      <th>Cliente_ID</th>\n",
              "      <th>NombreCliente</th>\n",
              "    </tr>\n",
              "  </thead>\n",
              "  <tbody>\n",
              "    <tr>\n",
              "      <th>0</th>\n",
              "      <td>0</td>\n",
              "      <td>SIN NOMBRE</td>\n",
              "    </tr>\n",
              "    <tr>\n",
              "      <th>1</th>\n",
              "      <td>1</td>\n",
              "      <td>OXXO XINANTECATL</td>\n",
              "    </tr>\n",
              "    <tr>\n",
              "      <th>2</th>\n",
              "      <td>2</td>\n",
              "      <td>SIN NOMBRE</td>\n",
              "    </tr>\n",
              "    <tr>\n",
              "      <th>3</th>\n",
              "      <td>3</td>\n",
              "      <td>EL MORENO</td>\n",
              "    </tr>\n",
              "    <tr>\n",
              "      <th>4</th>\n",
              "      <td>4</td>\n",
              "      <td>SDN SER  DE ALIM  CUERPO SA CIA  DE INT</td>\n",
              "    </tr>\n",
              "  </tbody>\n",
              "</table>\n",
              "</div>\n",
              "      <button class=\"colab-df-convert\" onclick=\"convertToInteractive('df-c01228af-6776-4d35-8104-5598907e920f')\"\n",
              "              title=\"Convert this dataframe to an interactive table.\"\n",
              "              style=\"display:none;\">\n",
              "        \n",
              "  <svg xmlns=\"http://www.w3.org/2000/svg\" height=\"24px\"viewBox=\"0 0 24 24\"\n",
              "       width=\"24px\">\n",
              "    <path d=\"M0 0h24v24H0V0z\" fill=\"none\"/>\n",
              "    <path d=\"M18.56 5.44l.94 2.06.94-2.06 2.06-.94-2.06-.94-.94-2.06-.94 2.06-2.06.94zm-11 1L8.5 8.5l.94-2.06 2.06-.94-2.06-.94L8.5 2.5l-.94 2.06-2.06.94zm10 10l.94 2.06.94-2.06 2.06-.94-2.06-.94-.94-2.06-.94 2.06-2.06.94z\"/><path d=\"M17.41 7.96l-1.37-1.37c-.4-.4-.92-.59-1.43-.59-.52 0-1.04.2-1.43.59L10.3 9.45l-7.72 7.72c-.78.78-.78 2.05 0 2.83L4 21.41c.39.39.9.59 1.41.59.51 0 1.02-.2 1.41-.59l7.78-7.78 2.81-2.81c.8-.78.8-2.07 0-2.86zM5.41 20L4 18.59l7.72-7.72 1.47 1.35L5.41 20z\"/>\n",
              "  </svg>\n",
              "      </button>\n",
              "      \n",
              "  <style>\n",
              "    .colab-df-container {\n",
              "      display:flex;\n",
              "      flex-wrap:wrap;\n",
              "      gap: 12px;\n",
              "    }\n",
              "\n",
              "    .colab-df-convert {\n",
              "      background-color: #E8F0FE;\n",
              "      border: none;\n",
              "      border-radius: 50%;\n",
              "      cursor: pointer;\n",
              "      display: none;\n",
              "      fill: #1967D2;\n",
              "      height: 32px;\n",
              "      padding: 0 0 0 0;\n",
              "      width: 32px;\n",
              "    }\n",
              "\n",
              "    .colab-df-convert:hover {\n",
              "      background-color: #E2EBFA;\n",
              "      box-shadow: 0px 1px 2px rgba(60, 64, 67, 0.3), 0px 1px 3px 1px rgba(60, 64, 67, 0.15);\n",
              "      fill: #174EA6;\n",
              "    }\n",
              "\n",
              "    [theme=dark] .colab-df-convert {\n",
              "      background-color: #3B4455;\n",
              "      fill: #D2E3FC;\n",
              "    }\n",
              "\n",
              "    [theme=dark] .colab-df-convert:hover {\n",
              "      background-color: #434B5C;\n",
              "      box-shadow: 0px 1px 3px 1px rgba(0, 0, 0, 0.15);\n",
              "      filter: drop-shadow(0px 1px 2px rgba(0, 0, 0, 0.3));\n",
              "      fill: #FFFFFF;\n",
              "    }\n",
              "  </style>\n",
              "\n",
              "      <script>\n",
              "        const buttonEl =\n",
              "          document.querySelector('#df-c01228af-6776-4d35-8104-5598907e920f button.colab-df-convert');\n",
              "        buttonEl.style.display =\n",
              "          google.colab.kernel.accessAllowed ? 'block' : 'none';\n",
              "\n",
              "        async function convertToInteractive(key) {\n",
              "          const element = document.querySelector('#df-c01228af-6776-4d35-8104-5598907e920f');\n",
              "          const dataTable =\n",
              "            await google.colab.kernel.invokeFunction('convertToInteractive',\n",
              "                                                     [key], {});\n",
              "          if (!dataTable) return;\n",
              "\n",
              "          const docLinkHtml = 'Like what you see? Visit the ' +\n",
              "            '<a target=\"_blank\" href=https://colab.research.google.com/notebooks/data_table.ipynb>data table notebook</a>'\n",
              "            + ' to learn more about interactive tables.';\n",
              "          element.innerHTML = '';\n",
              "          dataTable['output_type'] = 'display_data';\n",
              "          await google.colab.output.renderOutput(dataTable, element);\n",
              "          const docLink = document.createElement('div');\n",
              "          docLink.innerHTML = docLinkHtml;\n",
              "          element.appendChild(docLink);\n",
              "        }\n",
              "      </script>\n",
              "    </div>\n",
              "  </div>\n",
              "  "
            ],
            "text/plain": [
              "   Cliente_ID                            NombreCliente\n",
              "0           0                               SIN NOMBRE\n",
              "1           1                         OXXO XINANTECATL\n",
              "2           2                               SIN NOMBRE\n",
              "3           3                                EL MORENO\n",
              "4           4  SDN SER  DE ALIM  CUERPO SA CIA  DE INT"
            ]
          },
          "execution_count": 4,
          "metadata": {},
          "output_type": "execute_result"
        }
      ],
      "source": [
        "df_cliente.head()"
      ]
    },
    {
      "cell_type": "code",
      "execution_count": 5,
      "metadata": {
        "id": "VoYUnJdOLNF2"
      },
      "outputs": [],
      "source": [
        "df_cliente['NombreCliente'] = df_cliente['NombreCliente'].str.upper()\n",
        "df_cliente = df_cliente.drop_duplicates(subset = \"Cliente_ID\")"
      ]
    },
    {
      "cell_type": "code",
      "execution_count": 6,
      "metadata": {
        "id": "LEEBL4plLjTk"
      },
      "outputs": [],
      "source": [
        "def filter_specific(df):\n",
        "    \n",
        "    # Known Large Company / Special Group Types\n",
        "    df['NombreCliente'] = df['NombreCliente'].str.replace('.*REMISION.*','Consignment')\n",
        "    df['NombreCliente'] = df['NombreCliente'].replace(['.*WAL MART.*','.*SAMS CLUB.*'],'Walmart', regex=True)\n",
        "    df['NombreCliente'] = df['NombreCliente'].str.replace('.*OXXO.*','Oxxo Store')\n",
        "    df['NombreCliente'] = df['NombreCliente'].str.replace('.*CONASUPO.*','Govt Store')\n",
        "    df['NombreCliente'] = df['NombreCliente'].str.replace('.*BIMBO.*','Bimbo Store')\n",
        "    df['NombreCliente'] = df['NombreCliente'].str.replace('.*WALMART.*','Walmart Store')\n",
        "    df['NombreCliente'] = df['NombreCliente'].str.replace('.*COSTCO.*','Costco Store')\n",
        "    \n",
        "\n",
        "    # General term search for a random assortment of words I picked from looking at\n",
        "    # their frequency of appearance in the data and common spanish words for these categories\n",
        "    df['NombreCliente'] = df['NombreCliente'].replace(['.*COLEG.*','.*UNIV.*','.*ESCU.*','.*INSTI.*',\\\n",
        "                                                        '.*PREPAR.*'],'School', regex=True)\n",
        "    df['NombreCliente'] = df['NombreCliente'].str.replace('.*PUESTO.*','Post')\n",
        "    df['NombreCliente'] = df['NombreCliente'].replace(['.*FARMA.*','.*HOSPITAL.*','.*CLINI.*'],'Hospital/Pharmacy', regex=True)\n",
        "    df['NombreCliente'] = df['NombreCliente'].replace(['.*CAFE.*','.*CREMERIA.*','.*DULCERIA.*',\\\n",
        "                                                        '.*REST.*','.*BURGER.*','.*TACO.*', '.*TORTA.*',\\\n",
        "                                                        '.*TAQUER.*','.*HOT DOG.*',\\\n",
        "                                                        '.*COMEDOR.*', '.*ERIA.*','.*BURGU.*'],'Eatery', regex=True)\n",
        "    df['NombreCliente'] = df['NombreCliente'].str.replace('.*SUPER.*','Supermarket')\n",
        "    df['NombreCliente'] = df['NombreCliente'].replace(['.*COMERCIAL.*','.*BODEGA.*','.*DEPOSITO.*',\\\n",
        "                                                            '.*ABARROTES.*','.*MERCADO.*','.*CAMBIO.*',\\\n",
        "                                                        '.*MARKET.*','.*MART .*','.*MINI .*',\\\n",
        "                                                        '.*PLAZA.*','.*MISC.*','.*ELEVEN.*','.*EXP.*',\\\n",
        "                                                         '.*SNACK.*', '.*PAPELERIA.*', '.*CARNICERIA.*',\\\n",
        "                                                         '.*LOCAL.*','.*COMODIN.*','.*PROVIDENCIA.*'\n",
        "                                                        ],'General Market/Mart'\\\n",
        "                                                       , regex=True)\n",
        "\n",
        "    df['NombreCliente'] = df['NombreCliente'].replace(['.*VERDU.*','.*FRUT.*'],'Fresh Market', regex=True)\n",
        "    df['NombreCliente'] = df['NombreCliente'].replace(['.*HOTEL.*','.*MOTEL.*'],'Hotel', regex=True)"
      ]
    },
    {
      "cell_type": "code",
      "execution_count": 7,
      "metadata": {
        "id": "pgfBBF47MCZP"
      },
      "outputs": [],
      "source": [
        "# --- Begin filtering for more general terms\n",
        "# The idea here is to look for names with particles of speech that would\n",
        "# not appear in a person's name.\n",
        "# i.e. \"Individuals\" should not contain any participles or numbers in their names.\n",
        "def filter_participle(df):\n",
        "    df['NombreCliente'] = df['NombreCliente'].replace([\n",
        "            '.*LA .*','.*EL .*','.*DE .*','.*LOS .*','.*DEL .*','.*Y .*', '.*SAN .*', '.*SANTA .*',\\\n",
        "            '.*AG .*','.*LAS .*','.*MI .*','.*MA .*', '.*II.*', '.*[0-9]+.*'\\\n",
        "    ],'Small Franchise', regex=True)"
      ]
    },
    {
      "cell_type": "code",
      "execution_count": 8,
      "metadata": {
        "id": "9otoEuFmMRBZ"
      },
      "outputs": [],
      "source": [
        "# Any remaining entries should be \"Individual\" Named Clients, there are some outliers.\n",
        "# More specific filters could be used in order to reduce the percentage of outliers in this final set.\n",
        "def filter_remaining(df):\n",
        "    def function_word(data):\n",
        "        # Avoid the single-words created so far by checking for upper-case\n",
        "        if (data.isupper()) and (data != \"NO IDENTIFICADO\"): \n",
        "            return 'Individual'\n",
        "        else:\n",
        "            return data\n",
        "    df['NombreCliente'] = df['NombreCliente'].map(function_word)"
      ]
    },
    {
      "cell_type": "code",
      "execution_count": 9,
      "metadata": {
        "colab": {
          "base_uri": "https://localhost:8080/"
        },
        "id": "x9B9J9i9Mewb",
        "outputId": "2134f583-4cdb-4c81-988b-6691b05c34ea"
      },
      "outputs": [
        {
          "name": "stderr",
          "output_type": "stream",
          "text": [
            "/usr/local/lib/python3.7/dist-packages/ipykernel_launcher.py:4: FutureWarning: The default value of regex will change from True to False in a future version.\n",
            "  after removing the cwd from sys.path.\n",
            "/usr/local/lib/python3.7/dist-packages/ipykernel_launcher.py:6: FutureWarning: The default value of regex will change from True to False in a future version.\n",
            "  \n",
            "/usr/local/lib/python3.7/dist-packages/ipykernel_launcher.py:7: FutureWarning: The default value of regex will change from True to False in a future version.\n",
            "  import sys\n",
            "/usr/local/lib/python3.7/dist-packages/ipykernel_launcher.py:8: FutureWarning: The default value of regex will change from True to False in a future version.\n",
            "  \n",
            "/usr/local/lib/python3.7/dist-packages/ipykernel_launcher.py:9: FutureWarning: The default value of regex will change from True to False in a future version.\n",
            "  if __name__ == '__main__':\n",
            "/usr/local/lib/python3.7/dist-packages/ipykernel_launcher.py:10: FutureWarning: The default value of regex will change from True to False in a future version.\n",
            "  # Remove the CWD from sys.path while we load stuff.\n",
            "/usr/local/lib/python3.7/dist-packages/ipykernel_launcher.py:17: FutureWarning: The default value of regex will change from True to False in a future version.\n",
            "/usr/local/lib/python3.7/dist-packages/ipykernel_launcher.py:23: FutureWarning: The default value of regex will change from True to False in a future version.\n"
          ]
        }
      ],
      "source": [
        "filter_specific(df_cliente)"
      ]
    },
    {
      "cell_type": "code",
      "execution_count": 10,
      "metadata": {
        "id": "1j9cLPS0M75Z"
      },
      "outputs": [],
      "source": [
        "filter_participle(df_cliente)"
      ]
    },
    {
      "cell_type": "code",
      "execution_count": 11,
      "metadata": {
        "id": "-GGh7YBFNE3T"
      },
      "outputs": [],
      "source": [
        "filter_remaining(df_cliente)"
      ]
    },
    {
      "cell_type": "code",
      "execution_count": 12,
      "metadata": {
        "colab": {
          "base_uri": "https://localhost:8080/"
        },
        "id": "-8UmcflhNLLT",
        "outputId": "9b583b8f-1db0-4d95-e96e-3331a934f3b8"
      },
      "outputs": [
        {
          "data": {
            "text/plain": [
              "Individual             351884\n",
              "NO IDENTIFICADO        281670\n",
              "Small Franchise        158349\n",
              "General Market/Mart     65512\n",
              "Eatery                  30277\n",
              "Supermarket             15907\n",
              "Oxxo Store               9276\n",
              "Hospital/Pharmacy        5693\n",
              "School                   5562\n",
              "Post                     2657\n",
              "Hotel                    1104\n",
              "Fresh Market             1060\n",
              "Govt Store                958\n",
              "Bimbo Store               319\n",
              "Walmart                   217\n",
              "Costco Store               32\n",
              "Consignment                14\n",
              "Walmart Store               9\n",
              "Name: NombreCliente, dtype: int64"
            ]
          },
          "execution_count": 12,
          "metadata": {},
          "output_type": "execute_result"
        }
      ],
      "source": [
        "df_cliente['NombreCliente'].value_counts()"
      ]
    },
    {
      "cell_type": "markdown",
      "metadata": {
        "id": "lq0F7gEaLBM2"
      },
      "source": [
        "## Product"
      ]
    },
    {
      "cell_type": "code",
      "execution_count": 13,
      "metadata": {
        "id": "3o7gV_NSK_5y"
      },
      "outputs": [],
      "source": [
        "df_produto['short_name'] = df_produto.NombreProducto.str.extract('^(\\D*)', expand=False)\n",
        "df_produto['brand'] = df_produto.NombreProducto.str.extract('^.+\\s(\\D+) \\d+$', expand=False)\n",
        "w = df_produto.NombreProducto.str.extract('(\\d+)([gG]|[kK][gG]|[mM][lL])', expand=True)\n",
        "df_produto['weight'] = w[0].astype('float')*w[1].map({'Kg':1000, 'kg':1000, 'g':1, 'ml':1})\n",
        "df_produto['pieces'] =  df_produto.NombreProducto.str.extract('(\\d+)p ', expand=False).astype('float')"
      ]
    },
    {
      "cell_type": "code",
      "execution_count": 14,
      "metadata": {
        "colab": {
          "base_uri": "https://localhost:8080/",
          "height": 206
        },
        "id": "OL5bP1QQKcLA",
        "outputId": "c35865fe-209e-4883-d166-d1b5446d10e5"
      },
      "outputs": [
        {
          "data": {
            "text/html": [
              "\n",
              "  <div id=\"df-f9a46585-417c-4c92-bf25-0bccbd41ffae\">\n",
              "    <div class=\"colab-df-container\">\n",
              "      <div>\n",
              "<style scoped>\n",
              "    .dataframe tbody tr th:only-of-type {\n",
              "        vertical-align: middle;\n",
              "    }\n",
              "\n",
              "    .dataframe tbody tr th {\n",
              "        vertical-align: top;\n",
              "    }\n",
              "\n",
              "    .dataframe thead th {\n",
              "        text-align: right;\n",
              "    }\n",
              "</style>\n",
              "<table border=\"1\" class=\"dataframe\">\n",
              "  <thead>\n",
              "    <tr style=\"text-align: right;\">\n",
              "      <th></th>\n",
              "      <th>Producto_ID</th>\n",
              "      <th>NombreProducto</th>\n",
              "      <th>short_name</th>\n",
              "      <th>brand</th>\n",
              "      <th>weight</th>\n",
              "      <th>pieces</th>\n",
              "    </tr>\n",
              "  </thead>\n",
              "  <tbody>\n",
              "    <tr>\n",
              "      <th>0</th>\n",
              "      <td>0</td>\n",
              "      <td>NO IDENTIFICADO 0</td>\n",
              "      <td>NO IDENTIFICADO</td>\n",
              "      <td>IDENTIFICADO</td>\n",
              "      <td>NaN</td>\n",
              "      <td>NaN</td>\n",
              "    </tr>\n",
              "    <tr>\n",
              "      <th>1</th>\n",
              "      <td>9</td>\n",
              "      <td>Capuccino Moka 750g NES 9</td>\n",
              "      <td>Capuccino Moka</td>\n",
              "      <td>NES</td>\n",
              "      <td>750.0</td>\n",
              "      <td>NaN</td>\n",
              "    </tr>\n",
              "    <tr>\n",
              "      <th>2</th>\n",
              "      <td>41</td>\n",
              "      <td>Bimbollos Ext sAjonjoli 6p 480g BIM 41</td>\n",
              "      <td>Bimbollos Ext sAjonjoli</td>\n",
              "      <td>BIM</td>\n",
              "      <td>480.0</td>\n",
              "      <td>6.0</td>\n",
              "    </tr>\n",
              "    <tr>\n",
              "      <th>3</th>\n",
              "      <td>53</td>\n",
              "      <td>Burritos Sincro 170g CU LON 53</td>\n",
              "      <td>Burritos Sincro</td>\n",
              "      <td>LON</td>\n",
              "      <td>170.0</td>\n",
              "      <td>NaN</td>\n",
              "    </tr>\n",
              "    <tr>\n",
              "      <th>4</th>\n",
              "      <td>72</td>\n",
              "      <td>Div Tira Mini Doradita 4p 45g TR 72</td>\n",
              "      <td>Div Tira Mini Doradita</td>\n",
              "      <td>TR</td>\n",
              "      <td>45.0</td>\n",
              "      <td>4.0</td>\n",
              "    </tr>\n",
              "  </tbody>\n",
              "</table>\n",
              "</div>\n",
              "      <button class=\"colab-df-convert\" onclick=\"convertToInteractive('df-f9a46585-417c-4c92-bf25-0bccbd41ffae')\"\n",
              "              title=\"Convert this dataframe to an interactive table.\"\n",
              "              style=\"display:none;\">\n",
              "        \n",
              "  <svg xmlns=\"http://www.w3.org/2000/svg\" height=\"24px\"viewBox=\"0 0 24 24\"\n",
              "       width=\"24px\">\n",
              "    <path d=\"M0 0h24v24H0V0z\" fill=\"none\"/>\n",
              "    <path d=\"M18.56 5.44l.94 2.06.94-2.06 2.06-.94-2.06-.94-.94-2.06-.94 2.06-2.06.94zm-11 1L8.5 8.5l.94-2.06 2.06-.94-2.06-.94L8.5 2.5l-.94 2.06-2.06.94zm10 10l.94 2.06.94-2.06 2.06-.94-2.06-.94-.94-2.06-.94 2.06-2.06.94z\"/><path d=\"M17.41 7.96l-1.37-1.37c-.4-.4-.92-.59-1.43-.59-.52 0-1.04.2-1.43.59L10.3 9.45l-7.72 7.72c-.78.78-.78 2.05 0 2.83L4 21.41c.39.39.9.59 1.41.59.51 0 1.02-.2 1.41-.59l7.78-7.78 2.81-2.81c.8-.78.8-2.07 0-2.86zM5.41 20L4 18.59l7.72-7.72 1.47 1.35L5.41 20z\"/>\n",
              "  </svg>\n",
              "      </button>\n",
              "      \n",
              "  <style>\n",
              "    .colab-df-container {\n",
              "      display:flex;\n",
              "      flex-wrap:wrap;\n",
              "      gap: 12px;\n",
              "    }\n",
              "\n",
              "    .colab-df-convert {\n",
              "      background-color: #E8F0FE;\n",
              "      border: none;\n",
              "      border-radius: 50%;\n",
              "      cursor: pointer;\n",
              "      display: none;\n",
              "      fill: #1967D2;\n",
              "      height: 32px;\n",
              "      padding: 0 0 0 0;\n",
              "      width: 32px;\n",
              "    }\n",
              "\n",
              "    .colab-df-convert:hover {\n",
              "      background-color: #E2EBFA;\n",
              "      box-shadow: 0px 1px 2px rgba(60, 64, 67, 0.3), 0px 1px 3px 1px rgba(60, 64, 67, 0.15);\n",
              "      fill: #174EA6;\n",
              "    }\n",
              "\n",
              "    [theme=dark] .colab-df-convert {\n",
              "      background-color: #3B4455;\n",
              "      fill: #D2E3FC;\n",
              "    }\n",
              "\n",
              "    [theme=dark] .colab-df-convert:hover {\n",
              "      background-color: #434B5C;\n",
              "      box-shadow: 0px 1px 3px 1px rgba(0, 0, 0, 0.15);\n",
              "      filter: drop-shadow(0px 1px 2px rgba(0, 0, 0, 0.3));\n",
              "      fill: #FFFFFF;\n",
              "    }\n",
              "  </style>\n",
              "\n",
              "      <script>\n",
              "        const buttonEl =\n",
              "          document.querySelector('#df-f9a46585-417c-4c92-bf25-0bccbd41ffae button.colab-df-convert');\n",
              "        buttonEl.style.display =\n",
              "          google.colab.kernel.accessAllowed ? 'block' : 'none';\n",
              "\n",
              "        async function convertToInteractive(key) {\n",
              "          const element = document.querySelector('#df-f9a46585-417c-4c92-bf25-0bccbd41ffae');\n",
              "          const dataTable =\n",
              "            await google.colab.kernel.invokeFunction('convertToInteractive',\n",
              "                                                     [key], {});\n",
              "          if (!dataTable) return;\n",
              "\n",
              "          const docLinkHtml = 'Like what you see? Visit the ' +\n",
              "            '<a target=\"_blank\" href=https://colab.research.google.com/notebooks/data_table.ipynb>data table notebook</a>'\n",
              "            + ' to learn more about interactive tables.';\n",
              "          element.innerHTML = '';\n",
              "          dataTable['output_type'] = 'display_data';\n",
              "          await google.colab.output.renderOutput(dataTable, element);\n",
              "          const docLink = document.createElement('div');\n",
              "          docLink.innerHTML = docLinkHtml;\n",
              "          element.appendChild(docLink);\n",
              "        }\n",
              "      </script>\n",
              "    </div>\n",
              "  </div>\n",
              "  "
            ],
            "text/plain": [
              "   Producto_ID                          NombreProducto  \\\n",
              "0            0                       NO IDENTIFICADO 0   \n",
              "1            9               Capuccino Moka 750g NES 9   \n",
              "2           41  Bimbollos Ext sAjonjoli 6p 480g BIM 41   \n",
              "3           53          Burritos Sincro 170g CU LON 53   \n",
              "4           72     Div Tira Mini Doradita 4p 45g TR 72   \n",
              "\n",
              "                 short_name         brand  weight  pieces  \n",
              "0          NO IDENTIFICADO   IDENTIFICADO     NaN     NaN  \n",
              "1           Capuccino Moka            NES   750.0     NaN  \n",
              "2  Bimbollos Ext sAjonjoli            BIM   480.0     6.0  \n",
              "3          Burritos Sincro            LON   170.0     NaN  \n",
              "4   Div Tira Mini Doradita             TR    45.0     4.0  "
            ]
          },
          "execution_count": 14,
          "metadata": {},
          "output_type": "execute_result"
        }
      ],
      "source": [
        "df_produto.head()"
      ]
    },
    {
      "cell_type": "code",
      "execution_count": 15,
      "metadata": {
        "colab": {
          "base_uri": "https://localhost:8080/",
          "height": 363
        },
        "id": "AEcI3uUNK0Bo",
        "outputId": "f795a0db-3a66-4afe-fc90-74f9c47dbeac"
      },
      "outputs": [
        {
          "data": {
            "text/html": [
              "\n",
              "  <div id=\"df-95432190-fbe9-41b6-ba60-23c6232ae437\">\n",
              "    <div class=\"colab-df-container\">\n",
              "      <div>\n",
              "<style scoped>\n",
              "    .dataframe tbody tr th:only-of-type {\n",
              "        vertical-align: middle;\n",
              "    }\n",
              "\n",
              "    .dataframe tbody tr th {\n",
              "        vertical-align: top;\n",
              "    }\n",
              "\n",
              "    .dataframe thead th {\n",
              "        text-align: right;\n",
              "    }\n",
              "</style>\n",
              "<table border=\"1\" class=\"dataframe\">\n",
              "  <thead>\n",
              "    <tr style=\"text-align: right;\">\n",
              "      <th></th>\n",
              "      <th>Producto_ID</th>\n",
              "      <th>NombreProducto</th>\n",
              "      <th>short_name</th>\n",
              "      <th>brand</th>\n",
              "      <th>weight</th>\n",
              "      <th>pieces</th>\n",
              "    </tr>\n",
              "  </thead>\n",
              "  <tbody>\n",
              "    <tr>\n",
              "      <th>0</th>\n",
              "      <td>0</td>\n",
              "      <td>NO IDENTIFICADO 0</td>\n",
              "      <td>NO IDENTIFICADO</td>\n",
              "      <td>IDENTIFICADO</td>\n",
              "      <td>NaN</td>\n",
              "      <td>NaN</td>\n",
              "    </tr>\n",
              "    <tr>\n",
              "      <th>40</th>\n",
              "      <td>322</td>\n",
              "      <td>Tuinky Fresas con Crema 2p WON 322</td>\n",
              "      <td>Tuinky Fresas con Crema</td>\n",
              "      <td>WON</td>\n",
              "      <td>NaN</td>\n",
              "      <td>2.0</td>\n",
              "    </tr>\n",
              "    <tr>\n",
              "      <th>93</th>\n",
              "      <td>1166</td>\n",
              "      <td>Bollo Regular 2pq 30p McD BIM 1166</td>\n",
              "      <td>Bollo Regular</td>\n",
              "      <td>BIM</td>\n",
              "      <td>NaN</td>\n",
              "      <td>30.0</td>\n",
              "    </tr>\n",
              "    <tr>\n",
              "      <th>117</th>\n",
              "      <td>1289</td>\n",
              "      <td>Donas 6P Prom BIM 1289</td>\n",
              "      <td>Donas</td>\n",
              "      <td>BIM</td>\n",
              "      <td>NaN</td>\n",
              "      <td>NaN</td>\n",
              "    </tr>\n",
              "    <tr>\n",
              "      <th>127</th>\n",
              "      <td>1641</td>\n",
              "      <td>Doraditas 4p TR 1641</td>\n",
              "      <td>Doraditas</td>\n",
              "      <td>TR</td>\n",
              "      <td>NaN</td>\n",
              "      <td>4.0</td>\n",
              "    </tr>\n",
              "    <tr>\n",
              "      <th>190</th>\n",
              "      <td>3509</td>\n",
              "      <td>Paletina para Cafe NES 3509</td>\n",
              "      <td>Paletina para Cafe NES</td>\n",
              "      <td>NES</td>\n",
              "      <td>NaN</td>\n",
              "      <td>NaN</td>\n",
              "    </tr>\n",
              "    <tr>\n",
              "      <th>199</th>\n",
              "      <td>3609</td>\n",
              "      <td>Mantecadas Chocolate 3p TR 3609</td>\n",
              "      <td>Mantecadas Chocolate</td>\n",
              "      <td>TR</td>\n",
              "      <td>NaN</td>\n",
              "      <td>3.0</td>\n",
              "    </tr>\n",
              "    <tr>\n",
              "      <th>232</th>\n",
              "      <td>4240</td>\n",
              "      <td>Mantecadas 2p SP TR 4240</td>\n",
              "      <td>Mantecadas</td>\n",
              "      <td>TR</td>\n",
              "      <td>NaN</td>\n",
              "      <td>2.0</td>\n",
              "    </tr>\n",
              "    <tr>\n",
              "      <th>270</th>\n",
              "      <td>5345</td>\n",
              "      <td>Rollo Fresa 2p 75G MLA 5345</td>\n",
              "      <td>Rollo Fresa</td>\n",
              "      <td>MLA</td>\n",
              "      <td>NaN</td>\n",
              "      <td>2.0</td>\n",
              "    </tr>\n",
              "    <tr>\n",
              "      <th>296</th>\n",
              "      <td>5707</td>\n",
              "      <td>Tostada Ondulada Tubo 30p MR 5707</td>\n",
              "      <td>Tostada Ondulada Tubo</td>\n",
              "      <td>MR</td>\n",
              "      <td>NaN</td>\n",
              "      <td>30.0</td>\n",
              "    </tr>\n",
              "  </tbody>\n",
              "</table>\n",
              "</div>\n",
              "      <button class=\"colab-df-convert\" onclick=\"convertToInteractive('df-95432190-fbe9-41b6-ba60-23c6232ae437')\"\n",
              "              title=\"Convert this dataframe to an interactive table.\"\n",
              "              style=\"display:none;\">\n",
              "        \n",
              "  <svg xmlns=\"http://www.w3.org/2000/svg\" height=\"24px\"viewBox=\"0 0 24 24\"\n",
              "       width=\"24px\">\n",
              "    <path d=\"M0 0h24v24H0V0z\" fill=\"none\"/>\n",
              "    <path d=\"M18.56 5.44l.94 2.06.94-2.06 2.06-.94-2.06-.94-.94-2.06-.94 2.06-2.06.94zm-11 1L8.5 8.5l.94-2.06 2.06-.94-2.06-.94L8.5 2.5l-.94 2.06-2.06.94zm10 10l.94 2.06.94-2.06 2.06-.94-2.06-.94-.94-2.06-.94 2.06-2.06.94z\"/><path d=\"M17.41 7.96l-1.37-1.37c-.4-.4-.92-.59-1.43-.59-.52 0-1.04.2-1.43.59L10.3 9.45l-7.72 7.72c-.78.78-.78 2.05 0 2.83L4 21.41c.39.39.9.59 1.41.59.51 0 1.02-.2 1.41-.59l7.78-7.78 2.81-2.81c.8-.78.8-2.07 0-2.86zM5.41 20L4 18.59l7.72-7.72 1.47 1.35L5.41 20z\"/>\n",
              "  </svg>\n",
              "      </button>\n",
              "      \n",
              "  <style>\n",
              "    .colab-df-container {\n",
              "      display:flex;\n",
              "      flex-wrap:wrap;\n",
              "      gap: 12px;\n",
              "    }\n",
              "\n",
              "    .colab-df-convert {\n",
              "      background-color: #E8F0FE;\n",
              "      border: none;\n",
              "      border-radius: 50%;\n",
              "      cursor: pointer;\n",
              "      display: none;\n",
              "      fill: #1967D2;\n",
              "      height: 32px;\n",
              "      padding: 0 0 0 0;\n",
              "      width: 32px;\n",
              "    }\n",
              "\n",
              "    .colab-df-convert:hover {\n",
              "      background-color: #E2EBFA;\n",
              "      box-shadow: 0px 1px 2px rgba(60, 64, 67, 0.3), 0px 1px 3px 1px rgba(60, 64, 67, 0.15);\n",
              "      fill: #174EA6;\n",
              "    }\n",
              "\n",
              "    [theme=dark] .colab-df-convert {\n",
              "      background-color: #3B4455;\n",
              "      fill: #D2E3FC;\n",
              "    }\n",
              "\n",
              "    [theme=dark] .colab-df-convert:hover {\n",
              "      background-color: #434B5C;\n",
              "      box-shadow: 0px 1px 3px 1px rgba(0, 0, 0, 0.15);\n",
              "      filter: drop-shadow(0px 1px 2px rgba(0, 0, 0, 0.3));\n",
              "      fill: #FFFFFF;\n",
              "    }\n",
              "  </style>\n",
              "\n",
              "      <script>\n",
              "        const buttonEl =\n",
              "          document.querySelector('#df-95432190-fbe9-41b6-ba60-23c6232ae437 button.colab-df-convert');\n",
              "        buttonEl.style.display =\n",
              "          google.colab.kernel.accessAllowed ? 'block' : 'none';\n",
              "\n",
              "        async function convertToInteractive(key) {\n",
              "          const element = document.querySelector('#df-95432190-fbe9-41b6-ba60-23c6232ae437');\n",
              "          const dataTable =\n",
              "            await google.colab.kernel.invokeFunction('convertToInteractive',\n",
              "                                                     [key], {});\n",
              "          if (!dataTable) return;\n",
              "\n",
              "          const docLinkHtml = 'Like what you see? Visit the ' +\n",
              "            '<a target=\"_blank\" href=https://colab.research.google.com/notebooks/data_table.ipynb>data table notebook</a>'\n",
              "            + ' to learn more about interactive tables.';\n",
              "          element.innerHTML = '';\n",
              "          dataTable['output_type'] = 'display_data';\n",
              "          await google.colab.output.renderOutput(dataTable, element);\n",
              "          const docLink = document.createElement('div');\n",
              "          docLink.innerHTML = docLinkHtml;\n",
              "          element.appendChild(docLink);\n",
              "        }\n",
              "      </script>\n",
              "    </div>\n",
              "  </div>\n",
              "  "
            ],
            "text/plain": [
              "     Producto_ID                      NombreProducto  \\\n",
              "0              0                   NO IDENTIFICADO 0   \n",
              "40           322  Tuinky Fresas con Crema 2p WON 322   \n",
              "93          1166  Bollo Regular 2pq 30p McD BIM 1166   \n",
              "117         1289              Donas 6P Prom BIM 1289   \n",
              "127         1641                Doraditas 4p TR 1641   \n",
              "190         3509         Paletina para Cafe NES 3509   \n",
              "199         3609     Mantecadas Chocolate 3p TR 3609   \n",
              "232         4240            Mantecadas 2p SP TR 4240   \n",
              "270         5345         Rollo Fresa 2p 75G MLA 5345   \n",
              "296         5707   Tostada Ondulada Tubo 30p MR 5707   \n",
              "\n",
              "                   short_name         brand  weight  pieces  \n",
              "0            NO IDENTIFICADO   IDENTIFICADO     NaN     NaN  \n",
              "40   Tuinky Fresas con Crema            WON     NaN     2.0  \n",
              "93             Bollo Regular            BIM     NaN    30.0  \n",
              "117                    Donas            BIM     NaN     NaN  \n",
              "127                Doraditas             TR     NaN     4.0  \n",
              "190   Paletina para Cafe NES            NES     NaN     NaN  \n",
              "199     Mantecadas Chocolate             TR     NaN     3.0  \n",
              "232               Mantecadas             TR     NaN     2.0  \n",
              "270              Rollo Fresa            MLA     NaN     2.0  \n",
              "296    Tostada Ondulada Tubo             MR     NaN    30.0  "
            ]
          },
          "execution_count": 15,
          "metadata": {},
          "output_type": "execute_result"
        }
      ],
      "source": [
        "df_produto[df_produto['weight'].isnull()].iloc[:10]"
      ]
    },
    {
      "cell_type": "code",
      "execution_count": 16,
      "metadata": {
        "colab": {
          "base_uri": "https://localhost:8080/"
        },
        "id": "ZTP5o7efSBqX",
        "outputId": "951a7abb-641c-4cec-e454-98d925cce11e"
      },
      "outputs": [
        {
          "name": "stdout",
          "output_type": "stream",
          "text": [
            "<class 'pandas.core.frame.DataFrame'>\n",
            "RangeIndex: 2592 entries, 0 to 2591\n",
            "Data columns (total 6 columns):\n",
            " #   Column          Non-Null Count  Dtype  \n",
            "---  ------          --------------  -----  \n",
            " 0   Producto_ID     2592 non-null   int64  \n",
            " 1   NombreProducto  2592 non-null   object \n",
            " 2   short_name      2592 non-null   object \n",
            " 3   brand           2591 non-null   object \n",
            " 4   weight          2535 non-null   float64\n",
            " 5   pieces          1117 non-null   float64\n",
            "dtypes: float64(2), int64(1), object(3)\n",
            "memory usage: 121.6+ KB\n"
          ]
        }
      ],
      "source": [
        "df_produto.info()"
      ]
    },
    {
      "cell_type": "code",
      "execution_count": null,
      "metadata": {
        "id": "QwfIiVjGKZhf"
      },
      "outputs": [],
      "source": []
    },
    {
      "cell_type": "markdown",
      "metadata": {
        "id": "ma-4Er1ETv72"
      },
      "source": [
        "## Join tables\n",
        "The coordinates of the address was done by fist joing the State and Town columns and then extract on Geolocation API by Google"
      ]
    },
    {
      "cell_type": "code",
      "execution_count": 17,
      "metadata": {
        "id": "GrPL_j2LVG_n"
      },
      "outputs": [],
      "source": [
        "df_town = pd.read_csv(\"3.town_state.csv\")\n",
        "df_final = pd.merge(df_final, df_town, on=\"Agencia_ID\", how=\"inner\")"
      ]
    },
    {
      "cell_type": "code",
      "execution_count": 18,
      "metadata": {
        "id": "xFcmQEwSUwol"
      },
      "outputs": [],
      "source": [
        "df_final['Address'] = df_final[['State', 'Town']].agg(', '.join, axis=1)"
      ]
    },
    {
      "cell_type": "code",
      "execution_count": 19,
      "metadata": {
        "id": "fauYE6ozKX9_"
      },
      "outputs": [],
      "source": [
        "df_main = pd.merge(df_final, df_cliente, on=\"Cliente_ID\", how=\"inner\")\n",
        "df_main = pd.merge(df_main, df_address, on=\"Address\", how=\"inner\")\n",
        "df_main = pd.merge(df_main, df_produto, on=\"Producto_ID\", how=\"inner\")"
      ]
    },
    {
      "cell_type": "code",
      "execution_count": 20,
      "metadata": {
        "colab": {
          "base_uri": "https://localhost:8080/",
          "height": 473
        },
        "id": "h36P_oNAKXZB",
        "outputId": "67c13a82-7fe6-402c-ad09-5aa044b7d70b"
      },
      "outputs": [
        {
          "data": {
            "text/html": [
              "\n",
              "  <div id=\"df-17148658-80b4-4c5a-9f43-0da5f680efc0\">\n",
              "    <div class=\"colab-df-container\">\n",
              "      <div>\n",
              "<style scoped>\n",
              "    .dataframe tbody tr th:only-of-type {\n",
              "        vertical-align: middle;\n",
              "    }\n",
              "\n",
              "    .dataframe tbody tr th {\n",
              "        vertical-align: top;\n",
              "    }\n",
              "\n",
              "    .dataframe thead th {\n",
              "        text-align: right;\n",
              "    }\n",
              "</style>\n",
              "<table border=\"1\" class=\"dataframe\">\n",
              "  <thead>\n",
              "    <tr style=\"text-align: right;\">\n",
              "      <th></th>\n",
              "      <th>Semana</th>\n",
              "      <th>Agencia_ID</th>\n",
              "      <th>Canal_ID</th>\n",
              "      <th>Ruta_SAK</th>\n",
              "      <th>Cliente_ID</th>\n",
              "      <th>Producto_ID</th>\n",
              "      <th>Venta_uni_hoy</th>\n",
              "      <th>Venta_hoy</th>\n",
              "      <th>Dev_uni_proxima</th>\n",
              "      <th>Dev_proxima</th>\n",
              "      <th>...</th>\n",
              "      <th>State</th>\n",
              "      <th>Address</th>\n",
              "      <th>NombreCliente</th>\n",
              "      <th>Latitude</th>\n",
              "      <th>Longitude</th>\n",
              "      <th>NombreProducto</th>\n",
              "      <th>short_name</th>\n",
              "      <th>brand</th>\n",
              "      <th>weight</th>\n",
              "      <th>pieces</th>\n",
              "    </tr>\n",
              "  </thead>\n",
              "  <tbody>\n",
              "    <tr>\n",
              "      <th>0</th>\n",
              "      <td>5</td>\n",
              "      <td>1936</td>\n",
              "      <td>1</td>\n",
              "      <td>1158</td>\n",
              "      <td>1575677</td>\n",
              "      <td>2425</td>\n",
              "      <td>60</td>\n",
              "      <td>270.0</td>\n",
              "      <td>0</td>\n",
              "      <td>0.0</td>\n",
              "      <td>...</td>\n",
              "      <td>GUANAJUATO</td>\n",
              "      <td>GUANAJUATO, 2300 LEON MILENIUM</td>\n",
              "      <td>Small Franchise</td>\n",
              "      <td>21.122129</td>\n",
              "      <td>-101.60347</td>\n",
              "      <td>Nito 1p 62g Central BIM 2425</td>\n",
              "      <td>Nito</td>\n",
              "      <td>BIM</td>\n",
              "      <td>62.0</td>\n",
              "      <td>1.0</td>\n",
              "    </tr>\n",
              "    <tr>\n",
              "      <th>1</th>\n",
              "      <td>3</td>\n",
              "      <td>1936</td>\n",
              "      <td>1</td>\n",
              "      <td>1164</td>\n",
              "      <td>4511404</td>\n",
              "      <td>2425</td>\n",
              "      <td>60</td>\n",
              "      <td>270.0</td>\n",
              "      <td>0</td>\n",
              "      <td>0.0</td>\n",
              "      <td>...</td>\n",
              "      <td>GUANAJUATO</td>\n",
              "      <td>GUANAJUATO, 2300 LEON MILENIUM</td>\n",
              "      <td>NO IDENTIFICADO</td>\n",
              "      <td>21.122129</td>\n",
              "      <td>-101.60347</td>\n",
              "      <td>Nito 1p 62g Central BIM 2425</td>\n",
              "      <td>Nito</td>\n",
              "      <td>BIM</td>\n",
              "      <td>62.0</td>\n",
              "      <td>1.0</td>\n",
              "    </tr>\n",
              "    <tr>\n",
              "      <th>2</th>\n",
              "      <td>4</td>\n",
              "      <td>1936</td>\n",
              "      <td>1</td>\n",
              "      <td>1161</td>\n",
              "      <td>66167</td>\n",
              "      <td>2425</td>\n",
              "      <td>24</td>\n",
              "      <td>108.0</td>\n",
              "      <td>0</td>\n",
              "      <td>0.0</td>\n",
              "      <td>...</td>\n",
              "      <td>GUANAJUATO</td>\n",
              "      <td>GUANAJUATO, 2300 LEON MILENIUM</td>\n",
              "      <td>Individual</td>\n",
              "      <td>21.122129</td>\n",
              "      <td>-101.60347</td>\n",
              "      <td>Nito 1p 62g Central BIM 2425</td>\n",
              "      <td>Nito</td>\n",
              "      <td>BIM</td>\n",
              "      <td>62.0</td>\n",
              "      <td>1.0</td>\n",
              "    </tr>\n",
              "    <tr>\n",
              "      <th>3</th>\n",
              "      <td>4</td>\n",
              "      <td>1936</td>\n",
              "      <td>1</td>\n",
              "      <td>1164</td>\n",
              "      <td>948201</td>\n",
              "      <td>2425</td>\n",
              "      <td>1</td>\n",
              "      <td>4.5</td>\n",
              "      <td>2</td>\n",
              "      <td>9.0</td>\n",
              "      <td>...</td>\n",
              "      <td>GUANAJUATO</td>\n",
              "      <td>GUANAJUATO, 2300 LEON MILENIUM</td>\n",
              "      <td>Individual</td>\n",
              "      <td>21.122129</td>\n",
              "      <td>-101.60347</td>\n",
              "      <td>Nito 1p 62g Central BIM 2425</td>\n",
              "      <td>Nito</td>\n",
              "      <td>BIM</td>\n",
              "      <td>62.0</td>\n",
              "      <td>1.0</td>\n",
              "    </tr>\n",
              "    <tr>\n",
              "      <th>4</th>\n",
              "      <td>3</td>\n",
              "      <td>1936</td>\n",
              "      <td>1</td>\n",
              "      <td>1156</td>\n",
              "      <td>877954</td>\n",
              "      <td>2425</td>\n",
              "      <td>55</td>\n",
              "      <td>247.5</td>\n",
              "      <td>0</td>\n",
              "      <td>0.0</td>\n",
              "      <td>...</td>\n",
              "      <td>GUANAJUATO</td>\n",
              "      <td>GUANAJUATO, 2300 LEON MILENIUM</td>\n",
              "      <td>Individual</td>\n",
              "      <td>21.122129</td>\n",
              "      <td>-101.60347</td>\n",
              "      <td>Nito 1p 62g Central BIM 2425</td>\n",
              "      <td>Nito</td>\n",
              "      <td>BIM</td>\n",
              "      <td>62.0</td>\n",
              "      <td>1.0</td>\n",
              "    </tr>\n",
              "  </tbody>\n",
              "</table>\n",
              "<p>5 rows × 22 columns</p>\n",
              "</div>\n",
              "      <button class=\"colab-df-convert\" onclick=\"convertToInteractive('df-17148658-80b4-4c5a-9f43-0da5f680efc0')\"\n",
              "              title=\"Convert this dataframe to an interactive table.\"\n",
              "              style=\"display:none;\">\n",
              "        \n",
              "  <svg xmlns=\"http://www.w3.org/2000/svg\" height=\"24px\"viewBox=\"0 0 24 24\"\n",
              "       width=\"24px\">\n",
              "    <path d=\"M0 0h24v24H0V0z\" fill=\"none\"/>\n",
              "    <path d=\"M18.56 5.44l.94 2.06.94-2.06 2.06-.94-2.06-.94-.94-2.06-.94 2.06-2.06.94zm-11 1L8.5 8.5l.94-2.06 2.06-.94-2.06-.94L8.5 2.5l-.94 2.06-2.06.94zm10 10l.94 2.06.94-2.06 2.06-.94-2.06-.94-.94-2.06-.94 2.06-2.06.94z\"/><path d=\"M17.41 7.96l-1.37-1.37c-.4-.4-.92-.59-1.43-.59-.52 0-1.04.2-1.43.59L10.3 9.45l-7.72 7.72c-.78.78-.78 2.05 0 2.83L4 21.41c.39.39.9.59 1.41.59.51 0 1.02-.2 1.41-.59l7.78-7.78 2.81-2.81c.8-.78.8-2.07 0-2.86zM5.41 20L4 18.59l7.72-7.72 1.47 1.35L5.41 20z\"/>\n",
              "  </svg>\n",
              "      </button>\n",
              "      \n",
              "  <style>\n",
              "    .colab-df-container {\n",
              "      display:flex;\n",
              "      flex-wrap:wrap;\n",
              "      gap: 12px;\n",
              "    }\n",
              "\n",
              "    .colab-df-convert {\n",
              "      background-color: #E8F0FE;\n",
              "      border: none;\n",
              "      border-radius: 50%;\n",
              "      cursor: pointer;\n",
              "      display: none;\n",
              "      fill: #1967D2;\n",
              "      height: 32px;\n",
              "      padding: 0 0 0 0;\n",
              "      width: 32px;\n",
              "    }\n",
              "\n",
              "    .colab-df-convert:hover {\n",
              "      background-color: #E2EBFA;\n",
              "      box-shadow: 0px 1px 2px rgba(60, 64, 67, 0.3), 0px 1px 3px 1px rgba(60, 64, 67, 0.15);\n",
              "      fill: #174EA6;\n",
              "    }\n",
              "\n",
              "    [theme=dark] .colab-df-convert {\n",
              "      background-color: #3B4455;\n",
              "      fill: #D2E3FC;\n",
              "    }\n",
              "\n",
              "    [theme=dark] .colab-df-convert:hover {\n",
              "      background-color: #434B5C;\n",
              "      box-shadow: 0px 1px 3px 1px rgba(0, 0, 0, 0.15);\n",
              "      filter: drop-shadow(0px 1px 2px rgba(0, 0, 0, 0.3));\n",
              "      fill: #FFFFFF;\n",
              "    }\n",
              "  </style>\n",
              "\n",
              "      <script>\n",
              "        const buttonEl =\n",
              "          document.querySelector('#df-17148658-80b4-4c5a-9f43-0da5f680efc0 button.colab-df-convert');\n",
              "        buttonEl.style.display =\n",
              "          google.colab.kernel.accessAllowed ? 'block' : 'none';\n",
              "\n",
              "        async function convertToInteractive(key) {\n",
              "          const element = document.querySelector('#df-17148658-80b4-4c5a-9f43-0da5f680efc0');\n",
              "          const dataTable =\n",
              "            await google.colab.kernel.invokeFunction('convertToInteractive',\n",
              "                                                     [key], {});\n",
              "          if (!dataTable) return;\n",
              "\n",
              "          const docLinkHtml = 'Like what you see? Visit the ' +\n",
              "            '<a target=\"_blank\" href=https://colab.research.google.com/notebooks/data_table.ipynb>data table notebook</a>'\n",
              "            + ' to learn more about interactive tables.';\n",
              "          element.innerHTML = '';\n",
              "          dataTable['output_type'] = 'display_data';\n",
              "          await google.colab.output.renderOutput(dataTable, element);\n",
              "          const docLink = document.createElement('div');\n",
              "          docLink.innerHTML = docLinkHtml;\n",
              "          element.appendChild(docLink);\n",
              "        }\n",
              "      </script>\n",
              "    </div>\n",
              "  </div>\n",
              "  "
            ],
            "text/plain": [
              "   Semana  Agencia_ID  Canal_ID  Ruta_SAK  Cliente_ID  Producto_ID  \\\n",
              "0       5        1936         1      1158     1575677         2425   \n",
              "1       3        1936         1      1164     4511404         2425   \n",
              "2       4        1936         1      1161       66167         2425   \n",
              "3       4        1936         1      1164      948201         2425   \n",
              "4       3        1936         1      1156      877954         2425   \n",
              "\n",
              "   Venta_uni_hoy  Venta_hoy  Dev_uni_proxima  Dev_proxima  ...       State  \\\n",
              "0             60      270.0                0          0.0  ...  GUANAJUATO   \n",
              "1             60      270.0                0          0.0  ...  GUANAJUATO   \n",
              "2             24      108.0                0          0.0  ...  GUANAJUATO   \n",
              "3              1        4.5                2          9.0  ...  GUANAJUATO   \n",
              "4             55      247.5                0          0.0  ...  GUANAJUATO   \n",
              "\n",
              "                          Address    NombreCliente   Latitude  Longitude  \\\n",
              "0  GUANAJUATO, 2300 LEON MILENIUM  Small Franchise  21.122129 -101.60347   \n",
              "1  GUANAJUATO, 2300 LEON MILENIUM  NO IDENTIFICADO  21.122129 -101.60347   \n",
              "2  GUANAJUATO, 2300 LEON MILENIUM       Individual  21.122129 -101.60347   \n",
              "3  GUANAJUATO, 2300 LEON MILENIUM       Individual  21.122129 -101.60347   \n",
              "4  GUANAJUATO, 2300 LEON MILENIUM       Individual  21.122129 -101.60347   \n",
              "\n",
              "                 NombreProducto  short_name brand weight pieces  \n",
              "0  Nito 1p 62g Central BIM 2425       Nito    BIM   62.0    1.0  \n",
              "1  Nito 1p 62g Central BIM 2425       Nito    BIM   62.0    1.0  \n",
              "2  Nito 1p 62g Central BIM 2425       Nito    BIM   62.0    1.0  \n",
              "3  Nito 1p 62g Central BIM 2425       Nito    BIM   62.0    1.0  \n",
              "4  Nito 1p 62g Central BIM 2425       Nito    BIM   62.0    1.0  \n",
              "\n",
              "[5 rows x 22 columns]"
            ]
          },
          "execution_count": 20,
          "metadata": {},
          "output_type": "execute_result"
        }
      ],
      "source": [
        "df_main.head()"
      ]
    },
    {
      "cell_type": "code",
      "execution_count": 21,
      "metadata": {
        "colab": {
          "base_uri": "https://localhost:8080/"
        },
        "id": "k2m4uS8OXnu5",
        "outputId": "b988cd8e-08bb-4b17-b6d9-a39ad139e04d"
      },
      "outputs": [
        {
          "name": "stdout",
          "output_type": "stream",
          "text": [
            "<class 'pandas.core.frame.DataFrame'>\n",
            "Int64Index: 964348 entries, 0 to 964347\n",
            "Data columns (total 22 columns):\n",
            " #   Column             Non-Null Count   Dtype  \n",
            "---  ------             --------------   -----  \n",
            " 0   Semana             964348 non-null  int64  \n",
            " 1   Agencia_ID         964348 non-null  int64  \n",
            " 2   Canal_ID           964348 non-null  int64  \n",
            " 3   Ruta_SAK           964348 non-null  int64  \n",
            " 4   Cliente_ID         964348 non-null  int64  \n",
            " 5   Producto_ID        964348 non-null  int64  \n",
            " 6   Venta_uni_hoy      964348 non-null  int64  \n",
            " 7   Venta_hoy          964348 non-null  float64\n",
            " 8   Dev_uni_proxima    964348 non-null  int64  \n",
            " 9   Dev_proxima        964348 non-null  float64\n",
            " 10  Demanda_uni_equil  964348 non-null  int64  \n",
            " 11  Town               964348 non-null  object \n",
            " 12  State              964348 non-null  object \n",
            " 13  Address            964348 non-null  object \n",
            " 14  NombreCliente      964348 non-null  object \n",
            " 15  Latitude           964348 non-null  float64\n",
            " 16  Longitude          964348 non-null  float64\n",
            " 17  NombreProducto     964348 non-null  object \n",
            " 18  short_name         964348 non-null  object \n",
            " 19  brand              964348 non-null  object \n",
            " 20  weight             961049 non-null  float64\n",
            " 21  pieces             623668 non-null  float64\n",
            "dtypes: float64(6), int64(9), object(7)\n",
            "memory usage: 169.2+ MB\n"
          ]
        }
      ],
      "source": [
        "df_main.info()"
      ]
    },
    {
      "cell_type": "code",
      "execution_count": 22,
      "metadata": {
        "id": "-eHJ1e_SYJZe"
      },
      "outputs": [],
      "source": [
        "df_ = df_main['Ruta_SAK'].value_counts().rename_axis('Ruta_SAK').reset_index(name='Ruta_SAK_counts')"
      ]
    },
    {
      "cell_type": "code",
      "execution_count": 23,
      "metadata": {
        "id": "bI1bpL5IY7ko"
      },
      "outputs": [],
      "source": [
        "df_main = pd.merge(df_main, df_, on='Ruta_SAK', how='inner')"
      ]
    },
    {
      "cell_type": "code",
      "execution_count": 24,
      "metadata": {
        "colab": {
          "base_uri": "https://localhost:8080/"
        },
        "id": "2Qiap8_VaFDl",
        "outputId": "1c76b13c-ec59-4957-fb7c-ed6c194accab"
      },
      "outputs": [
        {
          "data": {
            "text/plain": [
              "Index(['Semana', 'Agencia_ID', 'Canal_ID', 'Ruta_SAK', 'Cliente_ID',\n",
              "       'Producto_ID', 'Venta_uni_hoy', 'Venta_hoy', 'Dev_uni_proxima',\n",
              "       'Dev_proxima', 'Demanda_uni_equil', 'Town', 'State', 'Address',\n",
              "       'NombreCliente', 'Latitude', 'Longitude', 'NombreProducto',\n",
              "       'short_name', 'brand', 'weight', 'pieces', 'Ruta_SAK_counts'],\n",
              "      dtype='object')"
            ]
          },
          "execution_count": 24,
          "metadata": {},
          "output_type": "execute_result"
        }
      ],
      "source": [
        "df_main.columns"
      ]
    },
    {
      "cell_type": "code",
      "execution_count": 25,
      "metadata": {
        "id": "_FXDhMS4ZDXH"
      },
      "outputs": [],
      "source": [
        "# delete the last duplicate columns\n",
        "#df_main.drop(list(df_main)[-1], axis=1, inplace=True)"
      ]
    },
    {
      "cell_type": "code",
      "execution_count": 26,
      "metadata": {
        "id": "r75Nk7aWZzQS"
      },
      "outputs": [],
      "source": [
        "#drop the unecessary columns for prediction\n",
        "\n",
        "dropColumns = [\"Agencia_ID\", \"Canal_ID\", \"Ruta_SAK\", \"Cliente_ID\", \"Producto_ID\", \"Town\", \"State\", \"Address\", \"NombreProducto\"]\n",
        "df_main.drop(dropColumns, axis=1, inplace=True)"
      ]
    },
    {
      "cell_type": "code",
      "execution_count": 27,
      "metadata": {
        "id": "-_iGyFS7ZExl"
      },
      "outputs": [],
      "source": [
        "# Rename the columns\n",
        "renameColumns = {\"Semana\":\"Week\", \n",
        "                 \"Venta_uni_hoy\":\"SalesUnitWeek\",\n",
        "                 \"Venta_hoy\": \"SalesPesosWeek\",\n",
        "                 \"Dev_proxima\": \"RetrunsPesosNestWeek\",\n",
        "                 \"Dev_uni_proxima\": \"ReturnsUnitNextWeek\",\n",
        "                 \"SalesUnitWeek\": \"ReturnsPesosNextWeek\",\n",
        "                 \"Demanda_uni_equil\": \"AjustedDemand\",\n",
        "                 \"NombreCliente\": \"typeClient\"\n",
        "                 }\n",
        "df_main.rename(columns=renameColumns, inplace=True)"
      ]
    },
    {
      "cell_type": "code",
      "execution_count": 28,
      "metadata": {
        "id": "D1KM5nZnbav-"
      },
      "outputs": [],
      "source": [
        "#change the target from regression problem to Classification problem\n",
        "df_main[\"AjustedDemand\"] = df_main['AjustedDemand'].apply(lambda x: 0 if x==0 or np.log10(x) <0.56 else 1)"
      ]
    },
    {
      "cell_type": "code",
      "execution_count": 29,
      "metadata": {
        "id": "1yte75zFbvZr"
      },
      "outputs": [],
      "source": [
        "#If The Rute have more than 1200 counts, its a sales depot\n",
        "\n",
        "df_main[\"salesDepot\"] = df_main[\"Ruta_SAK_counts\"].apply(lambda x: 1 if x>1200 else 0)\n",
        "df_main.drop(\"Ruta_SAK_counts\", axis=1, inplace=True)"
      ]
    },
    {
      "cell_type": "code",
      "execution_count": 30,
      "metadata": {
        "colab": {
          "base_uri": "https://localhost:8080/"
        },
        "id": "dRmU07tHcSSG",
        "outputId": "681e3161-69e4-42cc-b9b2-b3516f4c2061"
      },
      "outputs": [
        {
          "data": {
            "text/plain": [
              "AjustedDemand           1.000000\n",
              "SalesUnitWeek           0.262159\n",
              "SalesPesosWeek          0.172192\n",
              "Latitude                0.020015\n",
              "pieces                 -0.001936\n",
              "Week                   -0.005093\n",
              "RetrunsPesosNestWeek   -0.007559\n",
              "Longitude              -0.010470\n",
              "ReturnsUnitNextWeek    -0.018341\n",
              "salesDepot             -0.068755\n",
              "weight                 -0.106641\n",
              "Name: AjustedDemand, dtype: float64"
            ]
          },
          "execution_count": 30,
          "metadata": {},
          "output_type": "execute_result"
        }
      ],
      "source": [
        "# Corrulation between target and others columns\n",
        "corr_matrix = df_main.corr()\n",
        "corr_matrix[\"AjustedDemand\"].sort_values(ascending=False)"
      ]
    },
    {
      "cell_type": "code",
      "execution_count": null,
      "metadata": {
        "id": "Wos_JLcJcTZE"
      },
      "outputs": [],
      "source": []
    },
    {
      "cell_type": "code",
      "execution_count": null,
      "metadata": {
        "id": "0S6xuaTofl1F"
      },
      "outputs": [],
      "source": []
    },
    {
      "cell_type": "markdown",
      "metadata": {
        "id": "Dn_BhzLUfnf0"
      },
      "source": [
        "# Pipline"
      ]
    },
    {
      "cell_type": "code",
      "execution_count": 31,
      "metadata": {
        "id": "_F5B9VGsgCWE"
      },
      "outputs": [],
      "source": [
        "columns_cat = [\"typeClient\"]\n",
        "columns_num = [\"Week\", \"SalesUnitWeek\", \"SalesPesosWeek\", \"ReturnsUnitNextWeek\", \"RetrunsPesosNestWeek\",\n",
        "               \"Latitude\", \"Longitude\", \"weight\", \"salesDepot\"]"
      ]
    },
    {
      "cell_type": "code",
      "execution_count": 32,
      "metadata": {
        "id": "D99wdl7IgmCq"
      },
      "outputs": [],
      "source": [
        "num_pipeline = Pipeline([\n",
        "        ('imputer', SimpleImputer(strategy=\"median\")),\n",
        "        ('std_scaler', StandardScaler()),\n",
        "    ])\n",
        "\n",
        "num_attribs = columns_num\n",
        "cat_attribs = columns_cat\n",
        "\n",
        "full_pipeline = ColumnTransformer([\n",
        "        (\"num\", num_pipeline, num_attribs),\n",
        "        (\"cat\", OneHotEncoder(), cat_attribs),\n",
        "    ])"
      ]
    },
    {
      "cell_type": "markdown",
      "metadata": {
        "id": "wtYhL6dJhtw8"
      },
      "source": [
        "# Models"
      ]
    },
    {
      "cell_type": "code",
      "execution_count": 36,
      "metadata": {
        "id": "GZEgSHQRh3qi"
      },
      "outputs": [],
      "source": [
        "#Split the target from dataset\n",
        "\n",
        "X = df_main.drop('AjustedDemand', axis=1)\n",
        "X = full_pipeline.fit_transform(X)\n",
        "y = df_main['AjustedDemand'].copy()"
      ]
    },
    {
      "cell_type": "code",
      "execution_count": 39,
      "metadata": {
        "id": "ds4dDdBGkPm9"
      },
      "outputs": [],
      "source": [
        "X_train, X_test, y_train, y_test = train_test_split(X, y, test_size=0.20, random_state=42)"
      ]
    },
    {
      "cell_type": "code",
      "execution_count": 40,
      "metadata": {
        "colab": {
          "base_uri": "https://localhost:8080/"
        },
        "id": "uwZVfMIfkO_c",
        "outputId": "63c033fc-2d2c-4d83-e745-7c8880f5f2e1"
      },
      "outputs": [
        {
          "data": {
            "text/plain": [
              "SGDClassifier(random_state=42)"
            ]
          },
          "execution_count": 40,
          "metadata": {},
          "output_type": "execute_result"
        }
      ],
      "source": [
        "\n",
        "\n",
        "sgd_clf = SGDClassifier(max_iter=1000, tol=1e-3, random_state=42)\n",
        "sgd_clf.fit(X_train, y_train)"
      ]
    },
    {
      "cell_type": "code",
      "execution_count": 51,
      "metadata": {
        "colab": {
          "base_uri": "https://localhost:8080/"
        },
        "id": "W44hl0VUnGxe",
        "outputId": "8ec18b1a-f266-430c-ca91-12f5ffd47e1e"
      },
      "outputs": [
        {
          "data": {
            "text/plain": [
              "0.9998698989548549"
            ]
          },
          "execution_count": 51,
          "metadata": {},
          "output_type": "execute_result"
        }
      ],
      "source": [
        "y_test_pred = sgd_clf.predict(X_test)\n",
        "precision_score(y_test, y_test_pred)"
      ]
    },
    {
      "cell_type": "code",
      "execution_count": 52,
      "metadata": {
        "colab": {
          "base_uri": "https://localhost:8080/"
        },
        "id": "VgvBZVpFnhL8",
        "outputId": "d1aa9421-e500-4de5-c671-521e96764dca"
      },
      "outputs": [
        {
          "data": {
            "text/plain": [
              "array([[100595,     12],\n",
              "       [    39,  92224]])"
            ]
          },
          "execution_count": 52,
          "metadata": {},
          "output_type": "execute_result"
        }
      ],
      "source": [
        "confusion_matrix(y_test, y_test_pred)"
      ]
    },
    {
      "cell_type": "markdown",
      "metadata": {
        "id": "q74jPld2n73I"
      },
      "source": [
        "## Closs validation on test set"
      ]
    },
    {
      "cell_type": "code",
      "execution_count": 48,
      "metadata": {
        "colab": {
          "base_uri": "https://localhost:8080/"
        },
        "id": "-iEA5MVUkOFW",
        "outputId": "e03beccf-6f82-49e5-de09-231036525fbb"
      },
      "outputs": [
        {
          "data": {
            "text/plain": [
              "array([[100595,     12],\n",
              "       [    59,  92204]])"
            ]
          },
          "execution_count": 48,
          "metadata": {},
          "output_type": "execute_result"
        }
      ],
      "source": [
        "y_test_pred = cross_val_predict(sgd_clf, X_test, y_test, cv=3)\n",
        "confusion_matrix(y_test, y_test_pred)"
      ]
    },
    {
      "cell_type": "code",
      "execution_count": 43,
      "metadata": {
        "colab": {
          "base_uri": "https://localhost:8080/"
        },
        "id": "rAf1O4rShx_F",
        "outputId": "c11c18b5-2441-470f-f543-26175c4bbf83"
      },
      "outputs": [
        {
          "data": {
            "text/plain": [
              "array([[502299,     56],\n",
              "       [   284, 461709]])"
            ]
          },
          "execution_count": 43,
          "metadata": {},
          "output_type": "execute_result"
        }
      ],
      "source": [
        "precision_score(y_test, y_test_pred)"
      ]
    }
  ],
  "metadata": {
    "colab": {
      "provenance": []
    },
    "kernelspec": {
      "display_name": "Python 3.7.12 ('tf2')",
      "language": "python",
      "name": "python3"
    },
    "language_info": {
      "name": "python",
      "version": "3.7.12"
    },
    "vscode": {
      "interpreter": {
        "hash": "3e568cfb56bddac644a3ea7076937df63d869203b6023fb7f694d16682a81349"
      }
    }
  },
  "nbformat": 4,
  "nbformat_minor": 0
}
