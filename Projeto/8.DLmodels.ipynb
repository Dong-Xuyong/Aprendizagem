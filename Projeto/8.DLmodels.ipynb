{
 "cells": [
  {
   "cell_type": "code",
   "execution_count": 1,
   "metadata": {},
   "outputs": [],
   "source": [
    "import pandas as pd\n",
    "from sklearn.model_selection import train_test_split\n",
    "from Models.LogisticRegressionWith1NN import *\n",
    "from sklearn.preprocessing import StandardScaler\n",
    "from sklearn.pipeline import Pipeline\n",
    "import matplotlib.pyplot as plt"
   ]
  },
  {
   "cell_type": "code",
   "execution_count": 2,
   "metadata": {},
   "outputs": [],
   "source": [
    "df1 = pd.read_csv(\"./Dataset/6.final_df.csv\")"
   ]
  },
  {
   "cell_type": "code",
   "execution_count": 3,
   "metadata": {},
   "outputs": [
    {
     "name": "stdout",
     "output_type": "stream",
     "text": [
      "<class 'pandas.core.frame.DataFrame'>\n",
      "RangeIndex: 964348 entries, 0 to 964347\n",
      "Data columns (total 16 columns):\n",
      " #   Column                Non-Null Count   Dtype  \n",
      "---  ------                --------------   -----  \n",
      " 0   Week                  964348 non-null  int64  \n",
      " 1   SalesUnitWeek         964348 non-null  int64  \n",
      " 2   SalesPesosWeek        964348 non-null  float64\n",
      " 3   ReturnsUnitNextWeek   964348 non-null  int64  \n",
      " 4   RetrunsPesosNestWeek  964348 non-null  float64\n",
      " 5   AjustedDemand         964348 non-null  int64  \n",
      " 6   Latitude              964348 non-null  float64\n",
      " 7   Longitude             964348 non-null  float64\n",
      " 8   typeClient            964348 non-null  object \n",
      " 9   desc                  964348 non-null  object \n",
      " 10  g                     961413 non-null  float64\n",
      " 11  brand                 964348 non-null  object \n",
      " 12  Ruta_SAK_counts       964348 non-null  int64  \n",
      " 13  target                964348 non-null  int64  \n",
      " 14  salesDepot            964348 non-null  int64  \n",
      " 15  Address               964348 non-null  object \n",
      "dtypes: float64(5), int64(7), object(4)\n",
      "memory usage: 117.7+ MB\n"
     ]
    }
   ],
   "source": [
    "df1.info()"
   ]
  },
  {
   "cell_type": "code",
   "execution_count": 4,
   "metadata": {},
   "outputs": [],
   "source": [
    "df = df1"
   ]
  },
  {
   "cell_type": "code",
   "execution_count": 5,
   "metadata": {},
   "outputs": [
    {
     "data": {
      "text/plain": [
       "target                  1.000000\n",
       "AjustedDemand           0.265031\n",
       "SalesUnitWeek           0.262159\n",
       "SalesPesosWeek          0.172192\n",
       "Latitude                0.020015\n",
       "Week                    0.001347\n",
       "RetrunsPesosNestWeek   -0.007559\n",
       "Longitude              -0.010470\n",
       "ReturnsUnitNextWeek    -0.018341\n",
       "salesDepot             -0.068755\n",
       "Ruta_SAK_counts        -0.088658\n",
       "g                      -0.106496\n",
       "Name: target, dtype: float64"
      ]
     },
     "execution_count": 5,
     "metadata": {},
     "output_type": "execute_result"
    }
   ],
   "source": [
    "corr = df.corr()\n",
    "corr['target'].sort_values(ascending=False)"
   ]
  },
  {
   "cell_type": "code",
   "execution_count": 6,
   "metadata": {},
   "outputs": [],
   "source": [
    "columns = ['typeClient','desc', 'g', 'brand', 'AjustedDemand', 'Address', \"ReturnsUnitNextWeek\",\"Longitude\", \"Latitude\", \"Ruta_SAK_counts\", \"salesDepot\"]"
   ]
  },
  {
   "cell_type": "code",
   "execution_count": 7,
   "metadata": {},
   "outputs": [],
   "source": [
    "df.drop(columns, inplace=True, axis = 1)"
   ]
  },
  {
   "cell_type": "code",
   "execution_count": 8,
   "metadata": {},
   "outputs": [
    {
     "name": "stdout",
     "output_type": "stream",
     "text": [
      "<class 'pandas.core.frame.DataFrame'>\n",
      "RangeIndex: 964348 entries, 0 to 964347\n",
      "Data columns (total 5 columns):\n",
      " #   Column                Non-Null Count   Dtype  \n",
      "---  ------                --------------   -----  \n",
      " 0   Week                  964348 non-null  int64  \n",
      " 1   SalesUnitWeek         964348 non-null  int64  \n",
      " 2   SalesPesosWeek        964348 non-null  float64\n",
      " 3   RetrunsPesosNestWeek  964348 non-null  float64\n",
      " 4   target                964348 non-null  int64  \n",
      "dtypes: float64(2), int64(3)\n",
      "memory usage: 36.8 MB\n"
     ]
    }
   ],
   "source": [
    "df.info()"
   ]
  },
  {
   "cell_type": "code",
   "execution_count": 9,
   "metadata": {},
   "outputs": [],
   "source": [
    "X = df.drop('target', axis=1)\n",
    "y = df[\"target\"].copy()"
   ]
  },
  {
   "cell_type": "code",
   "execution_count": 10,
   "metadata": {},
   "outputs": [],
   "source": [
    "num_pipeline = Pipeline([\n",
    "        ('std_scaler', StandardScaler()),\n",
    "    ])\n",
    "\n",
    "housing_num_tr = num_pipeline.fit_transform(X)"
   ]
  },
  {
   "cell_type": "code",
   "execution_count": 11,
   "metadata": {},
   "outputs": [
    {
     "data": {
      "text/plain": [
       "array([[ 1.00740066e+00,  2.46504168e+00,  7.00224435e-01,\n",
       "        -2.39669193e-02],\n",
       "       [-1.01336333e+00,  5.94190781e-01,  7.54837311e-02,\n",
       "        -2.39669193e-02],\n",
       "       [ 1.51259166e+00,  1.26478057e-01, -8.07014449e-02,\n",
       "        -2.39669193e-02],\n",
       "       ...,\n",
       "       [-1.51855433e+00,  1.52961623e+00,  2.22181513e+00,\n",
       "        -2.39669193e-02],\n",
       "       [ 1.00740066e+00,  4.14880748e+00,  3.63483977e+00,\n",
       "        -2.39669193e-02],\n",
       "       [ 1.51259166e+00,  8.63884963e+00,  2.45195050e+01,\n",
       "        -2.39669193e-02]])"
      ]
     },
     "execution_count": 11,
     "metadata": {},
     "output_type": "execute_result"
    }
   ],
   "source": [
    "housing_num_tr"
   ]
  },
  {
   "cell_type": "code",
   "execution_count": 12,
   "metadata": {},
   "outputs": [],
   "source": [
    "X_train, X_test, y_train, y_test = train_test_split(housing_num_tr, y, test_size=0.20, random_state=42)"
   ]
  },
  {
   "cell_type": "code",
   "execution_count": 13,
   "metadata": {},
   "outputs": [],
   "source": [
    "y_train = np.array(y_train).reshape(1, -1)\n",
    "y_test = np.array(y_test).reshape(1, -1)\n",
    "X_train = X_train.T\n",
    "X_test = X_test.T\n"
   ]
  },
  {
   "cell_type": "code",
   "execution_count": 14,
   "metadata": {},
   "outputs": [
    {
     "name": "stdout",
     "output_type": "stream",
     "text": [
      "(1, 771478)\n",
      "(1, 192870)\n",
      "(4, 771478)\n",
      "(4, 192870)\n"
     ]
    }
   ],
   "source": [
    "print(y_train.shape)\n",
    "print(y_test.shape)\n",
    "print(X_train.shape)\n",
    "print(X_test.shape)\n",
    "\n",
    "\n"
   ]
  },
  {
   "cell_type": "code",
   "execution_count": 15,
   "metadata": {},
   "outputs": [
    {
     "name": "stdout",
     "output_type": "stream",
     "text": [
      "Training a model with learning rate: 0.99\n",
      "[array(0.69314718), array(0.59296434), array(0.5472759), array(0.51555518), array(0.49106966), array(0.47109405), array(0.4542283), array(0.43964865), array(0.42682574), array(0.41539688)]\n",
      "\n",
      "-------------------------------------------------------\n",
      "\n",
      "Training a model with learning rate: 0.9\n",
      "[array(0.69314718), array(0.59859598), array(0.55440663), array(0.52347915), array(0.49948988), array(0.4798475), array(0.46321373), array(0.44879761), array(0.43608972), array(0.4247407)]\n",
      "\n",
      "-------------------------------------------------------\n",
      "\n",
      "Training a model with learning rate: 0.3\n",
      "[array(0.69314718), array(0.64791151), array(0.62078583), array(0.60003882), array(0.58297325), array(0.56837912), array(0.5555897), array(0.54418726), array(0.53388845), array(0.52449129)]\n",
      "\n",
      "-------------------------------------------------------\n",
      "\n"
     ]
    },
    {
     "data": {
      "image/png": "[encoded data removed]",
      "text/plain": [
       "<Figure size 432x288 with 1 Axes>"
      ]
     },
     "metadata": {
      "needs_background": "light"
     },
     "output_type": "display_data"
    }
   ],
   "source": [
    "learning_rates = [0.99, 0.9, 0.3]\n",
    "models = {}\n",
    "\n",
    "for lr in learning_rates:\n",
    "    print (\"Training a model with learning rate: \" + str(lr))\n",
    "    models[str(lr)] = model(X_train, y_train, X_test, y_test, num_iterations=100, learning_rate=lr, print_cost=False)\n",
    "    print ('\\n' + \"-------------------------------------------------------\" + '\\n')\n",
    "\n",
    "for lr in learning_rates:\n",
    "    plt.plot(np.squeeze(models[str(lr)][\"costs\"]), label=str(models[str(lr)][\"learning_rate\"]))\n",
    "\n",
    "plt.ylabel('cost')\n",
    "plt.xlabel('iterations (dozens)')\n",
    "\n",
    "legend = plt.legend(loc='upper center', shadow=True)\n",
    "frame = legend.get_frame()\n",
    "frame.set_facecolor('0.90')\n",
    "plt.show()"
   ]
  },
  {
   "cell_type": "code",
   "execution_count": 16,
   "metadata": {},
   "outputs": [
    {
     "name": "stdout",
     "output_type": "stream",
     "text": [
      "Cost after iteration 0: 0.693147\n",
      "Cost after iteration 10: 0.592964\n",
      "Cost after iteration 20: 0.547276\n",
      "Cost after iteration 30: 0.515555\n",
      "Cost after iteration 40: 0.491070\n",
      "Cost after iteration 50: 0.471094\n",
      "Cost after iteration 60: 0.454228\n",
      "Cost after iteration 70: 0.439649\n",
      "Cost after iteration 80: 0.426826\n",
      "Cost after iteration 90: 0.415397\n",
      "Cost after iteration 100: 0.405102\n",
      "Cost after iteration 110: 0.395748\n",
      "Cost after iteration 120: 0.387188\n",
      "Cost after iteration 130: 0.379306\n",
      "Cost after iteration 140: 0.372010\n",
      "Cost after iteration 150: 0.365226\n",
      "Cost after iteration 160: 0.358892\n",
      "Cost after iteration 170: 0.352957\n"
     ]
    },
    {
     "name": "stderr",
     "output_type": "stream",
     "text": [
      "c:\\Users\\xuydo\\Desktop\\My Cloud\\GSI\\Aprendizagem\\Projeto\\Models\\LogisticRegressionWith1NN.py:8: RuntimeWarning: overflow encountered in exp\n",
      "  s = 1/(1+np.exp(-z))\n"
     ]
    },
    {
     "name": "stdout",
     "output_type": "stream",
     "text": [
      "Cost after iteration 180: 0.347378\n",
      "Cost after iteration 190: 0.342119\n",
      "Cost after iteration 200: 0.337148\n",
      "Cost after iteration 210: 0.332438\n",
      "Cost after iteration 220: 0.327966\n",
      "Cost after iteration 230: 0.323712\n",
      "Cost after iteration 240: 0.319656\n",
      "Cost after iteration 250: 0.315784\n",
      "Cost after iteration 260: 0.312080\n",
      "Cost after iteration 270: 0.308534\n",
      "Cost after iteration 280: 0.305132\n",
      "Cost after iteration 290: 0.301866\n",
      "Cost after iteration 300: 0.298726\n",
      "Cost after iteration 310: 0.295704\n",
      "Cost after iteration 320: 0.292791\n",
      "Cost after iteration 330: 0.289982\n",
      "Cost after iteration 340: 0.287270\n",
      "Cost after iteration 350: 0.284650\n",
      "Cost after iteration 360: 0.282115\n",
      "Cost after iteration 370: 0.279661\n",
      "Cost after iteration 380: 0.277285\n",
      "Cost after iteration 390: 0.274980\n",
      "Cost after iteration 400: 0.272745\n",
      "Cost after iteration 410: 0.270575\n",
      "Cost after iteration 420: 0.268467\n",
      "Cost after iteration 430: 0.266417\n",
      "Cost after iteration 440: 0.264424\n",
      "Cost after iteration 450: 0.262485\n",
      "Cost after iteration 460: 0.260596\n",
      "Cost after iteration 470: 0.258757\n",
      "Cost after iteration 480: 0.256964\n",
      "Cost after iteration 490: 0.255215\n",
      "Cost after iteration 500: 0.253509\n",
      "Cost after iteration 510: 0.251844\n",
      "Cost after iteration 520: 0.250219\n",
      "Cost after iteration 530: 0.248631\n",
      "Cost after iteration 540: 0.247079\n",
      "Cost after iteration 550: 0.245561\n",
      "Cost after iteration 560: 0.244078\n",
      "Cost after iteration 570: 0.242626\n",
      "Cost after iteration 580: 0.241205\n",
      "Cost after iteration 590: 0.239814\n",
      "Cost after iteration 600: 0.238452\n",
      "Cost after iteration 610: 0.237117\n",
      "Cost after iteration 620: 0.235809\n",
      "Cost after iteration 630: 0.234528\n",
      "Cost after iteration 640: 0.233270\n",
      "Cost after iteration 650: 0.232038\n",
      "Cost after iteration 660: 0.230828\n",
      "Cost after iteration 670: 0.229641\n",
      "Cost after iteration 680: 0.228475\n",
      "Cost after iteration 690: 0.227331\n",
      "Cost after iteration 700: 0.226208\n",
      "Cost after iteration 710: 0.225104\n",
      "Cost after iteration 720: 0.224019\n",
      "Cost after iteration 730: 0.222953\n",
      "Cost after iteration 740: 0.221905\n",
      "Cost after iteration 750: 0.220874\n",
      "Cost after iteration 760: 0.219861\n",
      "Cost after iteration 770: 0.218864\n",
      "Cost after iteration 780: 0.217883\n",
      "Cost after iteration 790: 0.216917\n",
      "Cost after iteration 800: 0.215967\n",
      "Cost after iteration 810: 0.215031\n",
      "Cost after iteration 820: 0.214110\n",
      "Cost after iteration 830: 0.213203\n",
      "Cost after iteration 840: 0.212309\n",
      "Cost after iteration 850: 0.211428\n",
      "Cost after iteration 860: 0.210561\n",
      "Cost after iteration 870: 0.209705\n",
      "Cost after iteration 880: 0.208862\n",
      "Cost after iteration 890: 0.208031\n",
      "Cost after iteration 900: 0.207211\n",
      "Cost after iteration 910: 0.206403\n",
      "Cost after iteration 920: 0.205606\n",
      "Cost after iteration 930: 0.204819\n",
      "Cost after iteration 940: 0.204043\n",
      "Cost after iteration 950: 0.203277\n",
      "Cost after iteration 960: 0.202521\n",
      "Cost after iteration 970: 0.201775\n",
      "Cost after iteration 980: 0.201039\n",
      "Cost after iteration 990: 0.200312\n",
      "[array(0.69314718), array(0.59296434), array(0.5472759), array(0.51555518), array(0.49106966), array(0.47109405), array(0.4542283), array(0.43964865), array(0.42682574), array(0.41539688), array(0.40510201), array(0.39574818), array(0.38718795), array(0.37930591), array(0.37201002), array(0.3652257), array(0.35889163), array(0.35295673), array(0.34737799), array(0.34211885), array(0.33714797), array(0.33243831), array(0.32796636), array(0.3237116), array(0.31965601), array(0.31578366), array(0.31208045), array(0.3085338), array(0.30513244), array(0.30186624), array(0.29872605), array(0.29570359), array(0.2927913), array(0.2899823), array(0.28727033), array(0.28464962), array(0.28211491), array(0.27966137), array(0.27728453), array(0.27498029), array(0.27274486), array(0.2705747), array(0.26846655), array(0.26641739), array(0.26442438), array(0.26248488), array(0.26059645), array(0.25875677), array(0.25696368), array(0.25521518), array(0.25350935), array(0.25184441), array(0.25021868), array(0.24863059), array(0.24707863), array(0.24556139), array(0.24407754), array(0.24262583), array(0.24120505), array(0.23981407), array(0.23845182), array(0.23711729), array(0.23580949), array(0.2345275), array(0.23327045), array(0.23203751), array(0.23082786), array(0.22964076), array(0.22847546), array(0.22733128), array(0.22620755), array(0.22510364), array(0.22401892), array(0.22295282), array(0.22190478), array(0.22087426), array(0.21986074), array(0.21886373), array(0.21788275), array(0.21691734), array(0.21596706), array(0.2150315), array(0.21411024), array(0.2132029), array(0.21230909), array(0.21142847), array(0.21056068), array(0.20970538), array(0.20886226), array(0.20803101), array(0.20721134), array(0.20640297), array(0.20560561), array(0.20481901), array(0.20404293), array(0.20327711), array(0.20252133), array(0.20177537), array(0.201039), array(0.20031202)]\n",
      "train accuracy: 93.93903649877248 %\n",
      "test accuracy: 93.97832737076787 %\n"
     ]
    }
   ],
   "source": [
    "logistic_regression_model = model(X_train, y_train, X_test, y_test, num_iterations=1000, learning_rate=0.99, print_cost=True)"
   ]
  },
  {
   "cell_type": "code",
   "execution_count": 19,
   "metadata": {},
   "outputs": [
    {
     "data": {
      "image/png": "[encoded data removed]",
      "text/plain": [
       "<Figure size 432x288 with 1 Axes>"
      ]
     },
     "metadata": {
      "needs_background": "light"
     },
     "output_type": "display_data"
    }
   ],
   "source": [
    "\n",
    "# Plot learning curve (with costs)\n",
    "costs = np.squeeze(logistic_regression_model['costs'])\n",
    "plt.plot(costs)\n",
    "plt.ylabel('cost')\n",
    "plt.xlabel('iterations (per dozens)')\n",
    "plt.title(\"Learning rate =\" + str(logistic_regression_model[\"learning_rate\"]))\n",
    "plt.show()"
   ]
  },
  {
   "cell_type": "code",
   "execution_count": null,
   "metadata": {},
   "outputs": [],
   "source": []
  }
 ],
 "metadata": {
  "kernelspec": {
   "display_name": "Python 3.7.12 ('tf2')",
   "language": "python",
   "name": "python3"
  },
  "language_info": {
   "codemirror_mode": {
    "name": "ipython",
    "version": 3
   },
   "file_extension": ".py",
   "mimetype": "text/x-python",
   "name": "python",
   "nbconvert_exporter": "python",
   "pygments_lexer": "ipython3",
   "version": "3.7.12"
  },
  "orig_nbformat": 4,
  "vscode": {
   "interpreter": {
    "hash": "3e568cfb56bddac644a3ea7076937df63d869203b6023fb7f694d16682a81349"
   }
  }
 },
 "nbformat": 4,
 "nbformat_minor": 2
}
