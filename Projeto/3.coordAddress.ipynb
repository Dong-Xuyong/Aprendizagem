{
 "cells": [
  {
   "cell_type": "code",
   "execution_count": 2,
   "metadata": {},
   "outputs": [],
   "source": [
    "import pandas as pd"
   ]
  },
  {
   "cell_type": "code",
   "execution_count": 3,
   "metadata": {},
   "outputs": [],
   "source": [
    "df = pd.read_csv(\"./Dataset/0.train.csv\")\n",
    "state = pd.read_csv(\"./Dataset/3.town_state.csv\")"
   ]
  },
  {
   "cell_type": "code",
   "execution_count": 4,
   "metadata": {},
   "outputs": [],
   "source": [
    "df = pd.merge(df, state, on= 'Agencia_ID', how = 'inner')"
   ]
  },
  {
   "cell_type": "code",
   "execution_count": 5,
   "metadata": {},
   "outputs": [
    {
     "name": "stdout",
     "output_type": "stream",
     "text": [
      "<class 'pandas.core.frame.DataFrame'>\n",
      "Int64Index: 964348 entries, 0 to 964347\n",
      "Data columns (total 13 columns):\n",
      " #   Column             Non-Null Count   Dtype  \n",
      "---  ------             --------------   -----  \n",
      " 0   Semana             964348 non-null  int64  \n",
      " 1   Agencia_ID         964348 non-null  int64  \n",
      " 2   Canal_ID           964348 non-null  int64  \n",
      " 3   Ruta_SAK           964348 non-null  int64  \n",
      " 4   Cliente_ID         964348 non-null  int64  \n",
      " 5   Producto_ID        964348 non-null  int64  \n",
      " 6   Venta_uni_hoy      964348 non-null  int64  \n",
      " 7   Venta_hoy          964348 non-null  float64\n",
      " 8   Dev_uni_proxima    964348 non-null  int64  \n",
      " 9   Dev_proxima        964348 non-null  float64\n",
      " 10  Demanda_uni_equil  964348 non-null  int64  \n",
      " 11  Town               964348 non-null  object \n",
      " 12  State              964348 non-null  object \n",
      "dtypes: float64(2), int64(9), object(2)\n",
      "memory usage: 103.0+ MB\n"
     ]
    }
   ],
   "source": [
    "df.info()"
   ]
  },
  {
   "cell_type": "code",
   "execution_count": 6,
   "metadata": {},
   "outputs": [],
   "source": [
    "df['Address'] = df[['State', 'Town']].agg(', '.join, axis=1)"
   ]
  },
  {
   "cell_type": "code",
   "execution_count": 7,
   "metadata": {},
   "outputs": [
    {
     "name": "stdout",
     "output_type": "stream",
     "text": [
      "<class 'pandas.core.frame.DataFrame'>\n",
      "Int64Index: 964348 entries, 0 to 964347\n",
      "Data columns (total 14 columns):\n",
      " #   Column             Non-Null Count   Dtype  \n",
      "---  ------             --------------   -----  \n",
      " 0   Semana             964348 non-null  int64  \n",
      " 1   Agencia_ID         964348 non-null  int64  \n",
      " 2   Canal_ID           964348 non-null  int64  \n",
      " 3   Ruta_SAK           964348 non-null  int64  \n",
      " 4   Cliente_ID         964348 non-null  int64  \n",
      " 5   Producto_ID        964348 non-null  int64  \n",
      " 6   Venta_uni_hoy      964348 non-null  int64  \n",
      " 7   Venta_hoy          964348 non-null  float64\n",
      " 8   Dev_uni_proxima    964348 non-null  int64  \n",
      " 9   Dev_proxima        964348 non-null  float64\n",
      " 10  Demanda_uni_equil  964348 non-null  int64  \n",
      " 11  Town               964348 non-null  object \n",
      " 12  State              964348 non-null  object \n",
      " 13  Address            964348 non-null  object \n",
      "dtypes: float64(2), int64(9), object(3)\n",
      "memory usage: 110.4+ MB\n"
     ]
    }
   ],
   "source": [
    "df.info()"
   ]
  },
  {
   "cell_type": "code",
   "execution_count": 8,
   "metadata": {},
   "outputs": [],
   "source": [
    "address = pd.read_csv(\"./Dataset/3.2.address_filtered.csv\")"
   ]
  },
  {
   "cell_type": "code",
   "execution_count": 9,
   "metadata": {},
   "outputs": [],
   "source": [
    "df = pd.merge(df, address, on= 'Address', how = 'inner')"
   ]
  },
  {
   "cell_type": "code",
   "execution_count": 10,
   "metadata": {},
   "outputs": [
    {
     "name": "stdout",
     "output_type": "stream",
     "text": [
      "<class 'pandas.core.frame.DataFrame'>\n",
      "Int64Index: 964348 entries, 0 to 964347\n",
      "Data columns (total 16 columns):\n",
      " #   Column             Non-Null Count   Dtype  \n",
      "---  ------             --------------   -----  \n",
      " 0   Semana             964348 non-null  int64  \n",
      " 1   Agencia_ID         964348 non-null  int64  \n",
      " 2   Canal_ID           964348 non-null  int64  \n",
      " 3   Ruta_SAK           964348 non-null  int64  \n",
      " 4   Cliente_ID         964348 non-null  int64  \n",
      " 5   Producto_ID        964348 non-null  int64  \n",
      " 6   Venta_uni_hoy      964348 non-null  int64  \n",
      " 7   Venta_hoy          964348 non-null  float64\n",
      " 8   Dev_uni_proxima    964348 non-null  int64  \n",
      " 9   Dev_proxima        964348 non-null  float64\n",
      " 10  Demanda_uni_equil  964348 non-null  int64  \n",
      " 11  Town               964348 non-null  object \n",
      " 12  State              964348 non-null  object \n",
      " 13  Address            964348 non-null  object \n",
      " 14  Latitude           964348 non-null  float64\n",
      " 15  Longitude          964348 non-null  float64\n",
      "dtypes: float64(4), int64(9), object(3)\n",
      "memory usage: 125.1+ MB\n"
     ]
    }
   ],
   "source": [
    "df.info()"
   ]
  },
  {
   "cell_type": "code",
   "execution_count": 11,
   "metadata": {},
   "outputs": [],
   "source": [
    "df.to_csv(\"./Dataset/4.df_adress_coord.csv\", index=False)"
   ]
  },
  {
   "cell_type": "code",
   "execution_count": null,
   "metadata": {},
   "outputs": [],
   "source": []
  }
 ],
 "metadata": {
  "kernelspec": {
   "display_name": "Python 3.7.12 ('tf2')",
   "language": "python",
   "name": "python3"
  },
  "language_info": {
   "codemirror_mode": {
    "name": "ipython",
    "version": 3
   },
   "file_extension": ".py",
   "mimetype": "text/x-python",
   "name": "python",
   "nbconvert_exporter": "python",
   "pygments_lexer": "ipython3",
   "version": "3.7.12"
  },
  "orig_nbformat": 4,
  "vscode": {
   "interpreter": {
    "hash": "3e568cfb56bddac644a3ea7076937df63d869203b6023fb7f694d16682a81349"
   }
  }
 },
 "nbformat": 4,
 "nbformat_minor": 2
}
