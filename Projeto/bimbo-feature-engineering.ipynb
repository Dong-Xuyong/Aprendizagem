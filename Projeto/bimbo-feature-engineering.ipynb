{
 "cells": [
  {
   "cell_type": "markdown",
   "id": "843e2d65",
   "metadata": {
    "id": "1ghTBY8JBD3A",
    "papermill": {
     "duration": 0.015568,
     "end_time": "2022-11-25T22:34:44.285120",
     "exception": false,
     "start_time": "2022-11-25T22:34:44.269552",
     "status": "completed"
    },
    "tags": []
   },
   "source": [
    "<table align=\"left\">\n",
    "\n",
    "  <h1> Options to run the notebook </h1>\n",
    " \n",
    "  <td>\n",
    "    <a href=\"https://colab.research.google.com/github/Dong-Xuyong/Aprendizagem/blob/main/Projeto/bimbo-feature-engineering.ipynb\" target=\"_parent\"><img src=\"https://colab.research.google.com/assets/colab-badge.svg\" alt=\"Open In Colab\"/></a>\n",
    "  </td>\n",
    "  <td>\n",
    "    <a target=\"_blank\" href=\"https://kaggle.com/kernels/welcome?src=https://github.com/Dong-Xuyong/Aprendizagem/blob/main/Projeto/bimbo-feature-engineering.ipynb\"><img src=\"https://kaggle.com/static/images/open-in-kaggle.svg\" /></a>\n",
    "  </td>\n",
    "</table>"
   ]
  },
  {
   "cell_type": "markdown",
   "id": "6eb676af",
   "metadata": {
    "id": "M2GsNw-rHVns",
    "papermill": {
     "duration": 0.009694,
     "end_time": "2022-11-25T22:34:44.305182",
     "exception": false,
     "start_time": "2022-11-25T22:34:44.295488",
     "status": "completed"
    },
    "tags": []
   },
   "source": [
    "# Set Up"
   ]
  },
  {
   "cell_type": "code",
   "execution_count": 1,
   "id": "f049f065",
   "metadata": {
    "execution": {
     "iopub.execute_input": "2022-11-25T22:34:44.329156Z",
     "iopub.status.busy": "2022-11-25T22:34:44.328488Z",
     "iopub.status.idle": "2022-11-25T22:34:45.645928Z",
     "shell.execute_reply": "2022-11-25T22:34:45.644348Z"
    },
    "id": "KeLHi4WyIAlV",
    "papermill": {
     "duration": 1.334074,
     "end_time": "2022-11-25T22:34:45.649224",
     "exception": false,
     "start_time": "2022-11-25T22:34:44.315150",
     "status": "completed"
    },
    "tags": []
   },
   "outputs": [],
   "source": [
    "import urllib.request\n",
    "import zipfile\n",
    "import pandas as pd\n",
    "import numpy as np\n",
    "\n",
    "from sklearn.model_selection import train_test_split\n",
    "from sklearn.pipeline import Pipeline\n",
    "from sklearn.preprocessing import StandardScaler\n",
    "from sklearn.preprocessing import OneHotEncoder\n",
    "from sklearn.impute import SimpleImputer\n",
    "from sklearn.compose import ColumnTransformer\n",
    "from sklearn.model_selection import cross_val_predict\n",
    "from sklearn.metrics import confusion_matrix\n",
    "from sklearn.model_selection import cross_val_score\n",
    "from sklearn.metrics import roc_curve\n",
    "from sklearn.metrics import precision_recall_curve\n",
    "from sklearn.metrics import f1_score\n",
    "from sklearn.metrics import precision_score, recall_score\n",
    "\n",
    "from sklearn.linear_model import SGDClassifier\n",
    "from sklearn.ensemble import RandomForestClassifier"
   ]
  },
  {
   "cell_type": "code",
   "execution_count": null,
   "id": "b0a3890c",
   "metadata": {
    "papermill": {
     "duration": 0.010148,
     "end_time": "2022-11-25T22:34:45.670148",
     "exception": false,
     "start_time": "2022-11-25T22:34:45.660000",
     "status": "completed"
    },
    "tags": []
   },
   "outputs": [],
   "source": []
  },
  {
   "cell_type": "code",
   "execution_count": 2,
   "id": "3b8c51e1",
   "metadata": {
    "execution": {
     "iopub.execute_input": "2022-11-25T22:34:45.693550Z",
     "iopub.status.busy": "2022-11-25T22:34:45.692385Z",
     "iopub.status.idle": "2022-11-25T22:34:47.577745Z",
     "shell.execute_reply": "2022-11-25T22:34:47.576568Z"
    },
    "id": "VcCtga3HHlMY",
    "papermill": {
     "duration": 1.900112,
     "end_time": "2022-11-25T22:34:47.580754",
     "exception": false,
     "start_time": "2022-11-25T22:34:45.680642",
     "status": "completed"
    },
    "tags": []
   },
   "outputs": [],
   "source": [
    "#Imortar os dataset no codigo\n",
    "url = \"https://raw.githubusercontent.com/Dong-Xuyong/Aprendizagem/main/Projeto/Dataset/iniTables.zip\"\n",
    "\n",
    "urllib.request.urlretrieve(url, \"df.zip\")\n",
    "\n",
    "#Extrair os datasets\n",
    "with zipfile.ZipFile(\"df.zip\", 'r') as zip_ref:\n",
    "    zip_ref.extractall()"
   ]
  },
  {
   "cell_type": "code",
   "execution_count": 3,
   "id": "530647a3",
   "metadata": {
    "execution": {
     "iopub.execute_input": "2022-11-25T22:34:47.604028Z",
     "iopub.status.busy": "2022-11-25T22:34:47.603602Z",
     "iopub.status.idle": "2022-11-25T22:34:48.939524Z",
     "shell.execute_reply": "2022-11-25T22:34:48.938233Z"
    },
    "id": "egmuatgVI4Sq",
    "papermill": {
     "duration": 1.350978,
     "end_time": "2022-11-25T22:34:48.942620",
     "exception": false,
     "start_time": "2022-11-25T22:34:47.591642",
     "status": "completed"
    },
    "tags": []
   },
   "outputs": [],
   "source": [
    "df_final = pd.read_csv(\"0.df_final.csv\")\n",
    "df_cliente = pd.read_csv(\"1.cliente_tabla.csv\")\n",
    "df_produto = pd.read_csv(\"2.producto_tabla.csv\")\n",
    "df_address = pd.read_csv(\"3.2.address_filtered.csv\")"
   ]
  },
  {
   "cell_type": "markdown",
   "id": "34dc79c6",
   "metadata": {
    "id": "dbzPrzs4Bu3f",
    "papermill": {
     "duration": 0.011048,
     "end_time": "2022-11-25T22:34:48.965579",
     "exception": false,
     "start_time": "2022-11-25T22:34:48.954531",
     "status": "completed"
    },
    "tags": []
   },
   "source": [
    "# Data Modeling\n",
    "On this section we will extract and filtered the Cliente_tabla and producto_tabla"
   ]
  },
  {
   "cell_type": "markdown",
   "id": "7f777db0",
   "metadata": {
    "id": "pF0C1BdJKvBl",
    "papermill": {
     "duration": 0.010781,
     "end_time": "2022-11-25T22:34:48.987793",
     "exception": false,
     "start_time": "2022-11-25T22:34:48.977012",
     "status": "completed"
    },
    "tags": []
   },
   "source": [
    "## Client"
   ]
  },
  {
   "cell_type": "code",
   "execution_count": 4,
   "id": "4bb15b46",
   "metadata": {
    "execution": {
     "iopub.execute_input": "2022-11-25T22:34:49.011045Z",
     "iopub.status.busy": "2022-11-25T22:34:49.010600Z",
     "iopub.status.idle": "2022-11-25T22:34:49.030241Z",
     "shell.execute_reply": "2022-11-25T22:34:49.029037Z"
    },
    "id": "SnjY0hm5LEsl",
    "outputId": "e7419006-67cc-409c-9de3-997f64184742",
    "papermill": {
     "duration": 0.034702,
     "end_time": "2022-11-25T22:34:49.033043",
     "exception": false,
     "start_time": "2022-11-25T22:34:48.998341",
     "status": "completed"
    },
    "tags": []
   },
   "outputs": [
    {
     "data": {
      "text/html": [
       "<div>\n",
       "<style scoped>\n",
       "    .dataframe tbody tr th:only-of-type {\n",
       "        vertical-align: middle;\n",
       "    }\n",
       "\n",
       "    .dataframe tbody tr th {\n",
       "        vertical-align: top;\n",
       "    }\n",
       "\n",
       "    .dataframe thead th {\n",
       "        text-align: right;\n",
       "    }\n",
       "</style>\n",
       "<table border=\"1\" class=\"dataframe\">\n",
       "  <thead>\n",
       "    <tr style=\"text-align: right;\">\n",
       "      <th></th>\n",
       "      <th>Cliente_ID</th>\n",
       "      <th>NombreCliente</th>\n",
       "    </tr>\n",
       "  </thead>\n",
       "  <tbody>\n",
       "    <tr>\n",
       "      <th>0</th>\n",
       "      <td>0</td>\n",
       "      <td>SIN NOMBRE</td>\n",
       "    </tr>\n",
       "    <tr>\n",
       "      <th>1</th>\n",
       "      <td>1</td>\n",
       "      <td>OXXO XINANTECATL</td>\n",
       "    </tr>\n",
       "    <tr>\n",
       "      <th>2</th>\n",
       "      <td>2</td>\n",
       "      <td>SIN NOMBRE</td>\n",
       "    </tr>\n",
       "    <tr>\n",
       "      <th>3</th>\n",
       "      <td>3</td>\n",
       "      <td>EL MORENO</td>\n",
       "    </tr>\n",
       "    <tr>\n",
       "      <th>4</th>\n",
       "      <td>4</td>\n",
       "      <td>SDN SER  DE ALIM  CUERPO SA CIA  DE INT</td>\n",
       "    </tr>\n",
       "  </tbody>\n",
       "</table>\n",
       "</div>"
      ],
      "text/plain": [
       "   Cliente_ID                            NombreCliente\n",
       "0           0                               SIN NOMBRE\n",
       "1           1                         OXXO XINANTECATL\n",
       "2           2                               SIN NOMBRE\n",
       "3           3                                EL MORENO\n",
       "4           4  SDN SER  DE ALIM  CUERPO SA CIA  DE INT"
      ]
     },
     "execution_count": 4,
     "metadata": {},
     "output_type": "execute_result"
    }
   ],
   "source": [
    "df_cliente.head()"
   ]
  },
  {
   "cell_type": "code",
   "execution_count": 5,
   "id": "168b3dda",
   "metadata": {
    "execution": {
     "iopub.execute_input": "2022-11-25T22:34:49.056635Z",
     "iopub.status.busy": "2022-11-25T22:34:49.055543Z",
     "iopub.status.idle": "2022-11-25T22:34:49.627897Z",
     "shell.execute_reply": "2022-11-25T22:34:49.626578Z"
    },
    "id": "VoYUnJdOLNF2",
    "papermill": {
     "duration": 0.586863,
     "end_time": "2022-11-25T22:34:49.630696",
     "exception": false,
     "start_time": "2022-11-25T22:34:49.043833",
     "status": "completed"
    },
    "tags": []
   },
   "outputs": [],
   "source": [
    "#Meter todos nomes dos cliente em maiusculas, tornar a nomes menos sensiveis\n",
    "df_cliente['NombreCliente'] = df_cliente['NombreCliente'].str.upper()\n",
    "\n",
    "#Drop dos clientes duplicados a partir do Cliente_ID\n",
    "df_cliente = df_cliente.drop_duplicates(subset = \"Cliente_ID\")"
   ]
  },
  {
   "cell_type": "code",
   "execution_count": 6,
   "id": "8f112334",
   "metadata": {
    "execution": {
     "iopub.execute_input": "2022-11-25T22:34:49.653324Z",
     "iopub.status.busy": "2022-11-25T22:34:49.652767Z",
     "iopub.status.idle": "2022-11-25T22:34:49.666264Z",
     "shell.execute_reply": "2022-11-25T22:34:49.665197Z"
    },
    "id": "LEEBL4plLjTk",
    "papermill": {
     "duration": 0.027307,
     "end_time": "2022-11-25T22:34:49.668478",
     "exception": false,
     "start_time": "2022-11-25T22:34:49.641171",
     "status": "completed"
    },
    "tags": []
   },
   "outputs": [],
   "source": [
    "def filter_specific(df):\n",
    "    \n",
    "    # Filtrar os clientes para empresas conhecidas\n",
    "    \n",
    "    df['NombreCliente'] = df['NombreCliente'].str.replace('.*REMISION.*','Consignment')\n",
    "    df['NombreCliente'] = df['NombreCliente'].replace(['.*WAL MART.*','.*SAMS CLUB.*'],'Walmart', regex=True)\n",
    "    df['NombreCliente'] = df['NombreCliente'].str.replace('.*OXXO.*','Oxxo Store')\n",
    "    df['NombreCliente'] = df['NombreCliente'].str.replace('.*CONASUPO.*','Govt Store')\n",
    "    df['NombreCliente'] = df['NombreCliente'].str.replace('.*BIMBO.*','Bimbo Store')\n",
    "    df['NombreCliente'] = df['NombreCliente'].str.replace('.*WALMART.*','Walmart Store')\n",
    "    df['NombreCliente'] = df['NombreCliente'].str.replace('.*COSTCO.*','Costco Store')\n",
    "    \n",
    "\n",
    "    # General term search for a random assortment of words I picked from looking at\n",
    "    # their frequency of appearance in the data and common spanish words for these categories\n",
    "    df['NombreCliente'] = df['NombreCliente'].replace(['.*COLEG.*','.*UNIV.*','.*ESCU.*','.*INSTI.*',\\\n",
    "                                                        '.*PREPAR.*'],'School', regex=True)\n",
    "    df['NombreCliente'] = df['NombreCliente'].str.replace('.*PUESTO.*','Post')\n",
    "    df['NombreCliente'] = df['NombreCliente'].replace(['.*FARMA.*','.*HOSPITAL.*','.*CLINI.*'],'Hospital/Pharmacy', regex=True)\n",
    "    df['NombreCliente'] = df['NombreCliente'].replace(['.*CAFE.*','.*CREMERIA.*','.*DULCERIA.*',\\\n",
    "                                                        '.*REST.*','.*BURGER.*','.*TACO.*', '.*TORTA.*',\\\n",
    "                                                        '.*TAQUER.*','.*HOT DOG.*',\\\n",
    "                                                        '.*COMEDOR.*', '.*ERIA.*','.*BURGU.*'],'Eatery', regex=True)\n",
    "    df['NombreCliente'] = df['NombreCliente'].str.replace('.*SUPER.*','Supermarket')\n",
    "    df['NombreCliente'] = df['NombreCliente'].replace(['.*COMERCIAL.*','.*BODEGA.*','.*DEPOSITO.*',\\\n",
    "                                                            '.*ABARROTES.*','.*MERCADO.*','.*CAMBIO.*',\\\n",
    "                                                        '.*MARKET.*','.*MART .*','.*MINI .*',\\\n",
    "                                                        '.*PLAZA.*','.*MISC.*','.*ELEVEN.*','.*EXP.*',\\\n",
    "                                                         '.*SNACK.*', '.*PAPELERIA.*', '.*CARNICERIA.*',\\\n",
    "                                                         '.*LOCAL.*','.*COMODIN.*','.*PROVIDENCIA.*'\n",
    "                                                        ],'General Market/Mart'\\\n",
    "                                                       , regex=True)\n",
    "\n",
    "    df['NombreCliente'] = df['NombreCliente'].replace(['.*VERDU.*','.*FRUT.*'],'Fresh Market', regex=True)\n",
    "    df['NombreCliente'] = df['NombreCliente'].replace(['.*HOTEL.*','.*MOTEL.*'],'Hotel', regex=True)"
   ]
  },
  {
   "cell_type": "code",
   "execution_count": 7,
   "id": "d2353e8e",
   "metadata": {
    "execution": {
     "iopub.execute_input": "2022-11-25T22:34:49.690516Z",
     "iopub.status.busy": "2022-11-25T22:34:49.690097Z",
     "iopub.status.idle": "2022-11-25T22:34:49.695517Z",
     "shell.execute_reply": "2022-11-25T22:34:49.694777Z"
    },
    "id": "pgfBBF47MCZP",
    "papermill": {
     "duration": 0.018755,
     "end_time": "2022-11-25T22:34:49.697574",
     "exception": false,
     "start_time": "2022-11-25T22:34:49.678819",
     "status": "completed"
    },
    "tags": []
   },
   "outputs": [],
   "source": [
    "# --- Begin filtering for more general terms\n",
    "# The idea here is to look for names with particles of speech that would\n",
    "# not appear in a person's name.\n",
    "# i.e. \"Individuals\" should not contain any participles or numbers in their names.\n",
    "    #Nao sao nomes de pessoas\n",
    "def filter_participle(df):\n",
    "    \n",
    "    df['NombreCliente'] = df['NombreCliente'].replace([\n",
    "            '.*LA .*','.*EL .*','.*DE .*','.*LOS .*','.*DEL .*','.*Y .*', '.*SAN .*', '.*SANTA .*',\\\n",
    "            '.*AG .*','.*LAS .*','.*MI .*','.*MA .*', '.*II.*', '.*[0-9]+.*'\\\n",
    "    ],'Small Franchise', regex=True)"
   ]
  },
  {
   "cell_type": "code",
   "execution_count": 8,
   "id": "87119981",
   "metadata": {
    "execution": {
     "iopub.execute_input": "2022-11-25T22:34:49.720632Z",
     "iopub.status.busy": "2022-11-25T22:34:49.719820Z",
     "iopub.status.idle": "2022-11-25T22:34:49.725141Z",
     "shell.execute_reply": "2022-11-25T22:34:49.724390Z"
    },
    "id": "9otoEuFmMRBZ",
    "papermill": {
     "duration": 0.019305,
     "end_time": "2022-11-25T22:34:49.727185",
     "exception": false,
     "start_time": "2022-11-25T22:34:49.707880",
     "status": "completed"
    },
    "tags": []
   },
   "outputs": [],
   "source": [
    "# Any remaining entries should be \"Individual\" Named Clients, there are some outliers.\n",
    "# More specific filters could be used in order to reduce the percentage of outliers in this final set.\n",
    "def filter_remaining(df):\n",
    "    def function_word(data):\n",
    "        # Avoid the single-words created so far by checking for upper-case\n",
    "        if (data.isupper()) and (data != \"NO IDENTIFICADO\"): \n",
    "            return 'Individual'\n",
    "        else:\n",
    "            return data\n",
    "        \n",
    "    #filtro da funcao filter_remaining na coluna NombreCliente por map (linha por linha)\n",
    "    df['NombreCliente'] = df['NombreCliente'].map(function_word)"
   ]
  },
  {
   "cell_type": "code",
   "execution_count": 9,
   "id": "3dffa2ac",
   "metadata": {
    "execution": {
     "iopub.execute_input": "2022-11-25T22:34:49.749355Z",
     "iopub.status.busy": "2022-11-25T22:34:49.748795Z",
     "iopub.status.idle": "2022-11-25T22:36:23.404568Z",
     "shell.execute_reply": "2022-11-25T22:36:23.402920Z"
    },
    "id": "x9B9J9i9Mewb",
    "outputId": "2134f583-4cdb-4c81-988b-6691b05c34ea",
    "papermill": {
     "duration": 93.67035,
     "end_time": "2022-11-25T22:36:23.407659",
     "exception": false,
     "start_time": "2022-11-25T22:34:49.737309",
     "status": "completed"
    },
    "tags": []
   },
   "outputs": [
    {
     "name": "stderr",
     "output_type": "stream",
     "text": [
      "/opt/conda/lib/python3.7/site-packages/ipykernel_launcher.py:5: FutureWarning: The default value of regex will change from True to False in a future version.\n",
      "  \"\"\"\n",
      "/opt/conda/lib/python3.7/site-packages/ipykernel_launcher.py:7: FutureWarning: The default value of regex will change from True to False in a future version.\n",
      "  import sys\n",
      "/opt/conda/lib/python3.7/site-packages/ipykernel_launcher.py:8: FutureWarning: The default value of regex will change from True to False in a future version.\n",
      "  \n",
      "/opt/conda/lib/python3.7/site-packages/ipykernel_launcher.py:9: FutureWarning: The default value of regex will change from True to False in a future version.\n",
      "  if __name__ == \"__main__\":\n",
      "/opt/conda/lib/python3.7/site-packages/ipykernel_launcher.py:10: FutureWarning: The default value of regex will change from True to False in a future version.\n",
      "  # Remove the CWD from sys.path while we load stuff.\n",
      "/opt/conda/lib/python3.7/site-packages/ipykernel_launcher.py:11: FutureWarning: The default value of regex will change from True to False in a future version.\n",
      "  # This is added back by InteractiveShellApp.init_path()\n",
      "/opt/conda/lib/python3.7/site-packages/ipykernel_launcher.py:18: FutureWarning: The default value of regex will change from True to False in a future version.\n",
      "/opt/conda/lib/python3.7/site-packages/ipykernel_launcher.py:24: FutureWarning: The default value of regex will change from True to False in a future version.\n"
     ]
    }
   ],
   "source": [
    "filter_specific(df_cliente)"
   ]
  },
  {
   "cell_type": "code",
   "execution_count": 10,
   "id": "8cf669cb",
   "metadata": {
    "execution": {
     "iopub.execute_input": "2022-11-25T22:36:23.432095Z",
     "iopub.status.busy": "2022-11-25T22:36:23.431679Z",
     "iopub.status.idle": "2022-11-25T22:36:53.108914Z",
     "shell.execute_reply": "2022-11-25T22:36:53.107743Z"
    },
    "id": "1j9cLPS0M75Z",
    "papermill": {
     "duration": 29.692417,
     "end_time": "2022-11-25T22:36:53.111876",
     "exception": false,
     "start_time": "2022-11-25T22:36:23.419459",
     "status": "completed"
    },
    "tags": []
   },
   "outputs": [],
   "source": [
    "filter_participle(df_cliente)"
   ]
  },
  {
   "cell_type": "code",
   "execution_count": 11,
   "id": "100688c3",
   "metadata": {
    "execution": {
     "iopub.execute_input": "2022-11-25T22:36:53.135950Z",
     "iopub.status.busy": "2022-11-25T22:36:53.135022Z",
     "iopub.status.idle": "2022-11-25T22:36:53.389164Z",
     "shell.execute_reply": "2022-11-25T22:36:53.388032Z"
    },
    "id": "-GGh7YBFNE3T",
    "papermill": {
     "duration": 0.268918,
     "end_time": "2022-11-25T22:36:53.391988",
     "exception": false,
     "start_time": "2022-11-25T22:36:53.123070",
     "status": "completed"
    },
    "tags": []
   },
   "outputs": [],
   "source": [
    "filter_remaining(df_cliente)"
   ]
  },
  {
   "cell_type": "code",
   "execution_count": 12,
   "id": "408ddaf6",
   "metadata": {
    "execution": {
     "iopub.execute_input": "2022-11-25T22:36:53.415439Z",
     "iopub.status.busy": "2022-11-25T22:36:53.415016Z",
     "iopub.status.idle": "2022-11-25T22:36:53.478653Z",
     "shell.execute_reply": "2022-11-25T22:36:53.477510Z"
    },
    "id": "-8UmcflhNLLT",
    "outputId": "9b583b8f-1db0-4d95-e96e-3331a934f3b8",
    "papermill": {
     "duration": 0.077997,
     "end_time": "2022-11-25T22:36:53.481007",
     "exception": false,
     "start_time": "2022-11-25T22:36:53.403010",
     "status": "completed"
    },
    "tags": []
   },
   "outputs": [
    {
     "data": {
      "text/plain": [
       "Individual             351884\n",
       "NO IDENTIFICADO        281670\n",
       "Small Franchise        158349\n",
       "General Market/Mart     65512\n",
       "Eatery                  30277\n",
       "Supermarket             15907\n",
       "Oxxo Store               9276\n",
       "Hospital/Pharmacy        5693\n",
       "School                   5562\n",
       "Post                     2657\n",
       "Hotel                    1104\n",
       "Fresh Market             1060\n",
       "Govt Store                958\n",
       "Bimbo Store               319\n",
       "Walmart                   217\n",
       "Costco Store               32\n",
       "Consignment                14\n",
       "Walmart Store               9\n",
       "Name: NombreCliente, dtype: int64"
      ]
     },
     "execution_count": 12,
     "metadata": {},
     "output_type": "execute_result"
    }
   ],
   "source": [
    "df_cliente['NombreCliente'].value_counts()"
   ]
  },
  {
   "cell_type": "code",
   "execution_count": 13,
   "id": "3101986e",
   "metadata": {
    "execution": {
     "iopub.execute_input": "2022-11-25T22:36:53.504692Z",
     "iopub.status.busy": "2022-11-25T22:36:53.504287Z",
     "iopub.status.idle": "2022-11-25T22:36:53.515221Z",
     "shell.execute_reply": "2022-11-25T22:36:53.514038Z"
    },
    "papermill": {
     "duration": 0.02566,
     "end_time": "2022-11-25T22:36:53.517620",
     "exception": false,
     "start_time": "2022-11-25T22:36:53.491960",
     "status": "completed"
    },
    "tags": []
   },
   "outputs": [
    {
     "data": {
      "text/html": [
       "<div>\n",
       "<style scoped>\n",
       "    .dataframe tbody tr th:only-of-type {\n",
       "        vertical-align: middle;\n",
       "    }\n",
       "\n",
       "    .dataframe tbody tr th {\n",
       "        vertical-align: top;\n",
       "    }\n",
       "\n",
       "    .dataframe thead th {\n",
       "        text-align: right;\n",
       "    }\n",
       "</style>\n",
       "<table border=\"1\" class=\"dataframe\">\n",
       "  <thead>\n",
       "    <tr style=\"text-align: right;\">\n",
       "      <th></th>\n",
       "      <th>Producto_ID</th>\n",
       "      <th>NombreProducto</th>\n",
       "    </tr>\n",
       "  </thead>\n",
       "  <tbody>\n",
       "    <tr>\n",
       "      <th>0</th>\n",
       "      <td>0</td>\n",
       "      <td>NO IDENTIFICADO 0</td>\n",
       "    </tr>\n",
       "    <tr>\n",
       "      <th>1</th>\n",
       "      <td>9</td>\n",
       "      <td>Capuccino Moka 750g NES 9</td>\n",
       "    </tr>\n",
       "    <tr>\n",
       "      <th>2</th>\n",
       "      <td>41</td>\n",
       "      <td>Bimbollos Ext sAjonjoli 6p 480g BIM 41</td>\n",
       "    </tr>\n",
       "    <tr>\n",
       "      <th>3</th>\n",
       "      <td>53</td>\n",
       "      <td>Burritos Sincro 170g CU LON 53</td>\n",
       "    </tr>\n",
       "    <tr>\n",
       "      <th>4</th>\n",
       "      <td>72</td>\n",
       "      <td>Div Tira Mini Doradita 4p 45g TR 72</td>\n",
       "    </tr>\n",
       "  </tbody>\n",
       "</table>\n",
       "</div>"
      ],
      "text/plain": [
       "   Producto_ID                          NombreProducto\n",
       "0            0                       NO IDENTIFICADO 0\n",
       "1            9               Capuccino Moka 750g NES 9\n",
       "2           41  Bimbollos Ext sAjonjoli 6p 480g BIM 41\n",
       "3           53          Burritos Sincro 170g CU LON 53\n",
       "4           72     Div Tira Mini Doradita 4p 45g TR 72"
      ]
     },
     "execution_count": 13,
     "metadata": {},
     "output_type": "execute_result"
    }
   ],
   "source": [
    "df_produto.head()"
   ]
  },
  {
   "cell_type": "markdown",
   "id": "f750cc1c",
   "metadata": {
    "id": "lq0F7gEaLBM2",
    "papermill": {
     "duration": 0.011119,
     "end_time": "2022-11-25T22:36:53.540220",
     "exception": false,
     "start_time": "2022-11-25T22:36:53.529101",
     "status": "completed"
    },
    "tags": []
   },
   "source": [
    "## Product"
   ]
  },
  {
   "cell_type": "code",
   "execution_count": 14,
   "id": "4b816e61",
   "metadata": {
    "execution": {
     "iopub.execute_input": "2022-11-25T22:36:53.565376Z",
     "iopub.status.busy": "2022-11-25T22:36:53.564953Z",
     "iopub.status.idle": "2022-11-25T22:36:53.597318Z",
     "shell.execute_reply": "2022-11-25T22:36:53.596216Z"
    },
    "id": "3o7gV_NSK_5y",
    "papermill": {
     "duration": 0.0479,
     "end_time": "2022-11-25T22:36:53.599598",
     "exception": false,
     "start_time": "2022-11-25T22:36:53.551698",
     "status": "completed"
    },
    "tags": []
   },
   "outputs": [],
   "source": [
    "#filtrar o nome do produto\n",
    "df_produto['short_name'] = df_produto.NombreProducto.str.extract('^(\\D*)', expand=False)\n",
    "\n",
    "#filtar a marca do produto\n",
    "df_produto['brand'] = df_produto.NombreProducto.str.extract('^.+\\s(\\D+) \\d+$', expand=False)\n",
    "\n",
    "#filtrar o peso do producto\n",
    "w = df_produto.NombreProducto.str.extract('(\\d+)([gG]|[kK][gG]|[mM][lL])', expand=True)\n",
    "\n",
    "#transfomar o peso a partir de w[0] (o valor) * w[1] medida em gramas\n",
    "df_produto['weight'] = w[0].astype('float')*w[1].map({'Kg':1000, 'kg':1000, 'g':1, 'ml':1})\n",
    "\n",
    "#filtar os pacotes dos produtos\n",
    "df_produto['pieces'] =  df_produto.NombreProducto.str.extract('(\\d+)p ', expand=False).astype('float')"
   ]
  },
  {
   "cell_type": "code",
   "execution_count": 15,
   "id": "87281920",
   "metadata": {
    "execution": {
     "iopub.execute_input": "2022-11-25T22:36:53.625058Z",
     "iopub.status.busy": "2022-11-25T22:36:53.624481Z",
     "iopub.status.idle": "2022-11-25T22:36:53.639857Z",
     "shell.execute_reply": "2022-11-25T22:36:53.638526Z"
    },
    "id": "OL5bP1QQKcLA",
    "outputId": "c35865fe-209e-4883-d166-d1b5446d10e5",
    "papermill": {
     "duration": 0.031253,
     "end_time": "2022-11-25T22:36:53.642396",
     "exception": false,
     "start_time": "2022-11-25T22:36:53.611143",
     "status": "completed"
    },
    "tags": []
   },
   "outputs": [
    {
     "data": {
      "text/html": [
       "<div>\n",
       "<style scoped>\n",
       "    .dataframe tbody tr th:only-of-type {\n",
       "        vertical-align: middle;\n",
       "    }\n",
       "\n",
       "    .dataframe tbody tr th {\n",
       "        vertical-align: top;\n",
       "    }\n",
       "\n",
       "    .dataframe thead th {\n",
       "        text-align: right;\n",
       "    }\n",
       "</style>\n",
       "<table border=\"1\" class=\"dataframe\">\n",
       "  <thead>\n",
       "    <tr style=\"text-align: right;\">\n",
       "      <th></th>\n",
       "      <th>Producto_ID</th>\n",
       "      <th>NombreProducto</th>\n",
       "      <th>short_name</th>\n",
       "      <th>brand</th>\n",
       "      <th>weight</th>\n",
       "      <th>pieces</th>\n",
       "    </tr>\n",
       "  </thead>\n",
       "  <tbody>\n",
       "    <tr>\n",
       "      <th>0</th>\n",
       "      <td>0</td>\n",
       "      <td>NO IDENTIFICADO 0</td>\n",
       "      <td>NO IDENTIFICADO</td>\n",
       "      <td>IDENTIFICADO</td>\n",
       "      <td>NaN</td>\n",
       "      <td>NaN</td>\n",
       "    </tr>\n",
       "    <tr>\n",
       "      <th>1</th>\n",
       "      <td>9</td>\n",
       "      <td>Capuccino Moka 750g NES 9</td>\n",
       "      <td>Capuccino Moka</td>\n",
       "      <td>NES</td>\n",
       "      <td>750.0</td>\n",
       "      <td>NaN</td>\n",
       "    </tr>\n",
       "    <tr>\n",
       "      <th>2</th>\n",
       "      <td>41</td>\n",
       "      <td>Bimbollos Ext sAjonjoli 6p 480g BIM 41</td>\n",
       "      <td>Bimbollos Ext sAjonjoli</td>\n",
       "      <td>BIM</td>\n",
       "      <td>480.0</td>\n",
       "      <td>6.0</td>\n",
       "    </tr>\n",
       "    <tr>\n",
       "      <th>3</th>\n",
       "      <td>53</td>\n",
       "      <td>Burritos Sincro 170g CU LON 53</td>\n",
       "      <td>Burritos Sincro</td>\n",
       "      <td>LON</td>\n",
       "      <td>170.0</td>\n",
       "      <td>NaN</td>\n",
       "    </tr>\n",
       "    <tr>\n",
       "      <th>4</th>\n",
       "      <td>72</td>\n",
       "      <td>Div Tira Mini Doradita 4p 45g TR 72</td>\n",
       "      <td>Div Tira Mini Doradita</td>\n",
       "      <td>TR</td>\n",
       "      <td>45.0</td>\n",
       "      <td>4.0</td>\n",
       "    </tr>\n",
       "  </tbody>\n",
       "</table>\n",
       "</div>"
      ],
      "text/plain": [
       "   Producto_ID                          NombreProducto  \\\n",
       "0            0                       NO IDENTIFICADO 0   \n",
       "1            9               Capuccino Moka 750g NES 9   \n",
       "2           41  Bimbollos Ext sAjonjoli 6p 480g BIM 41   \n",
       "3           53          Burritos Sincro 170g CU LON 53   \n",
       "4           72     Div Tira Mini Doradita 4p 45g TR 72   \n",
       "\n",
       "                 short_name         brand  weight  pieces  \n",
       "0          NO IDENTIFICADO   IDENTIFICADO     NaN     NaN  \n",
       "1           Capuccino Moka            NES   750.0     NaN  \n",
       "2  Bimbollos Ext sAjonjoli            BIM   480.0     6.0  \n",
       "3          Burritos Sincro            LON   170.0     NaN  \n",
       "4   Div Tira Mini Doradita             TR    45.0     4.0  "
      ]
     },
     "execution_count": 15,
     "metadata": {},
     "output_type": "execute_result"
    }
   ],
   "source": [
    "df_produto.head()"
   ]
  },
  {
   "cell_type": "code",
   "execution_count": 16,
   "id": "7ef90c8d",
   "metadata": {
    "execution": {
     "iopub.execute_input": "2022-11-25T22:36:53.667148Z",
     "iopub.status.busy": "2022-11-25T22:36:53.666711Z",
     "iopub.status.idle": "2022-11-25T22:36:53.684943Z",
     "shell.execute_reply": "2022-11-25T22:36:53.683998Z"
    },
    "id": "AEcI3uUNK0Bo",
    "outputId": "f795a0db-3a66-4afe-fc90-74f9c47dbeac",
    "papermill": {
     "duration": 0.03337,
     "end_time": "2022-11-25T22:36:53.687232",
     "exception": false,
     "start_time": "2022-11-25T22:36:53.653862",
     "status": "completed"
    },
    "tags": []
   },
   "outputs": [
    {
     "data": {
      "text/html": [
       "<div>\n",
       "<style scoped>\n",
       "    .dataframe tbody tr th:only-of-type {\n",
       "        vertical-align: middle;\n",
       "    }\n",
       "\n",
       "    .dataframe tbody tr th {\n",
       "        vertical-align: top;\n",
       "    }\n",
       "\n",
       "    .dataframe thead th {\n",
       "        text-align: right;\n",
       "    }\n",
       "</style>\n",
       "<table border=\"1\" class=\"dataframe\">\n",
       "  <thead>\n",
       "    <tr style=\"text-align: right;\">\n",
       "      <th></th>\n",
       "      <th>Producto_ID</th>\n",
       "      <th>NombreProducto</th>\n",
       "      <th>short_name</th>\n",
       "      <th>brand</th>\n",
       "      <th>weight</th>\n",
       "      <th>pieces</th>\n",
       "    </tr>\n",
       "  </thead>\n",
       "  <tbody>\n",
       "    <tr>\n",
       "      <th>0</th>\n",
       "      <td>0</td>\n",
       "      <td>NO IDENTIFICADO 0</td>\n",
       "      <td>NO IDENTIFICADO</td>\n",
       "      <td>IDENTIFICADO</td>\n",
       "      <td>NaN</td>\n",
       "      <td>NaN</td>\n",
       "    </tr>\n",
       "    <tr>\n",
       "      <th>40</th>\n",
       "      <td>322</td>\n",
       "      <td>Tuinky Fresas con Crema 2p WON 322</td>\n",
       "      <td>Tuinky Fresas con Crema</td>\n",
       "      <td>WON</td>\n",
       "      <td>NaN</td>\n",
       "      <td>2.0</td>\n",
       "    </tr>\n",
       "    <tr>\n",
       "      <th>93</th>\n",
       "      <td>1166</td>\n",
       "      <td>Bollo Regular 2pq 30p McD BIM 1166</td>\n",
       "      <td>Bollo Regular</td>\n",
       "      <td>BIM</td>\n",
       "      <td>NaN</td>\n",
       "      <td>30.0</td>\n",
       "    </tr>\n",
       "    <tr>\n",
       "      <th>117</th>\n",
       "      <td>1289</td>\n",
       "      <td>Donas 6P Prom BIM 1289</td>\n",
       "      <td>Donas</td>\n",
       "      <td>BIM</td>\n",
       "      <td>NaN</td>\n",
       "      <td>NaN</td>\n",
       "    </tr>\n",
       "    <tr>\n",
       "      <th>127</th>\n",
       "      <td>1641</td>\n",
       "      <td>Doraditas 4p TR 1641</td>\n",
       "      <td>Doraditas</td>\n",
       "      <td>TR</td>\n",
       "      <td>NaN</td>\n",
       "      <td>4.0</td>\n",
       "    </tr>\n",
       "    <tr>\n",
       "      <th>190</th>\n",
       "      <td>3509</td>\n",
       "      <td>Paletina para Cafe NES 3509</td>\n",
       "      <td>Paletina para Cafe NES</td>\n",
       "      <td>NES</td>\n",
       "      <td>NaN</td>\n",
       "      <td>NaN</td>\n",
       "    </tr>\n",
       "    <tr>\n",
       "      <th>199</th>\n",
       "      <td>3609</td>\n",
       "      <td>Mantecadas Chocolate 3p TR 3609</td>\n",
       "      <td>Mantecadas Chocolate</td>\n",
       "      <td>TR</td>\n",
       "      <td>NaN</td>\n",
       "      <td>3.0</td>\n",
       "    </tr>\n",
       "    <tr>\n",
       "      <th>232</th>\n",
       "      <td>4240</td>\n",
       "      <td>Mantecadas 2p SP TR 4240</td>\n",
       "      <td>Mantecadas</td>\n",
       "      <td>TR</td>\n",
       "      <td>NaN</td>\n",
       "      <td>2.0</td>\n",
       "    </tr>\n",
       "    <tr>\n",
       "      <th>270</th>\n",
       "      <td>5345</td>\n",
       "      <td>Rollo Fresa 2p 75G MLA 5345</td>\n",
       "      <td>Rollo Fresa</td>\n",
       "      <td>MLA</td>\n",
       "      <td>NaN</td>\n",
       "      <td>2.0</td>\n",
       "    </tr>\n",
       "    <tr>\n",
       "      <th>296</th>\n",
       "      <td>5707</td>\n",
       "      <td>Tostada Ondulada Tubo 30p MR 5707</td>\n",
       "      <td>Tostada Ondulada Tubo</td>\n",
       "      <td>MR</td>\n",
       "      <td>NaN</td>\n",
       "      <td>30.0</td>\n",
       "    </tr>\n",
       "  </tbody>\n",
       "</table>\n",
       "</div>"
      ],
      "text/plain": [
       "     Producto_ID                      NombreProducto  \\\n",
       "0              0                   NO IDENTIFICADO 0   \n",
       "40           322  Tuinky Fresas con Crema 2p WON 322   \n",
       "93          1166  Bollo Regular 2pq 30p McD BIM 1166   \n",
       "117         1289              Donas 6P Prom BIM 1289   \n",
       "127         1641                Doraditas 4p TR 1641   \n",
       "190         3509         Paletina para Cafe NES 3509   \n",
       "199         3609     Mantecadas Chocolate 3p TR 3609   \n",
       "232         4240            Mantecadas 2p SP TR 4240   \n",
       "270         5345         Rollo Fresa 2p 75G MLA 5345   \n",
       "296         5707   Tostada Ondulada Tubo 30p MR 5707   \n",
       "\n",
       "                   short_name         brand  weight  pieces  \n",
       "0            NO IDENTIFICADO   IDENTIFICADO     NaN     NaN  \n",
       "40   Tuinky Fresas con Crema            WON     NaN     2.0  \n",
       "93             Bollo Regular            BIM     NaN    30.0  \n",
       "117                    Donas            BIM     NaN     NaN  \n",
       "127                Doraditas             TR     NaN     4.0  \n",
       "190   Paletina para Cafe NES            NES     NaN     NaN  \n",
       "199     Mantecadas Chocolate             TR     NaN     3.0  \n",
       "232               Mantecadas             TR     NaN     2.0  \n",
       "270              Rollo Fresa            MLA     NaN     2.0  \n",
       "296    Tostada Ondulada Tubo             MR     NaN    30.0  "
      ]
     },
     "execution_count": 16,
     "metadata": {},
     "output_type": "execute_result"
    }
   ],
   "source": [
    "\n",
    "df_produto[df_produto['weight'].isnull()].iloc[:10]"
   ]
  },
  {
   "cell_type": "code",
   "execution_count": 17,
   "id": "47c74a1b",
   "metadata": {
    "execution": {
     "iopub.execute_input": "2022-11-25T22:36:53.712603Z",
     "iopub.status.busy": "2022-11-25T22:36:53.711875Z",
     "iopub.status.idle": "2022-11-25T22:36:53.718814Z",
     "shell.execute_reply": "2022-11-25T22:36:53.717427Z"
    },
    "papermill": {
     "duration": 0.022335,
     "end_time": "2022-11-25T22:36:53.721301",
     "exception": false,
     "start_time": "2022-11-25T22:36:53.698966",
     "status": "completed"
    },
    "tags": []
   },
   "outputs": [
    {
     "data": {
      "text/plain": [
       "15552"
      ]
     },
     "execution_count": 17,
     "metadata": {},
     "output_type": "execute_result"
    }
   ],
   "source": [
    "df_produto.size"
   ]
  },
  {
   "cell_type": "code",
   "execution_count": 18,
   "id": "271a7afb",
   "metadata": {
    "execution": {
     "iopub.execute_input": "2022-11-25T22:36:53.746896Z",
     "iopub.status.busy": "2022-11-25T22:36:53.746175Z",
     "iopub.status.idle": "2022-11-25T22:36:53.755366Z",
     "shell.execute_reply": "2022-11-25T22:36:53.754560Z"
    },
    "papermill": {
     "duration": 0.024487,
     "end_time": "2022-11-25T22:36:53.757628",
     "exception": false,
     "start_time": "2022-11-25T22:36:53.733141",
     "status": "completed"
    },
    "tags": []
   },
   "outputs": [
    {
     "data": {
      "text/plain": [
       "Producto_ID          0\n",
       "NombreProducto       0\n",
       "short_name           0\n",
       "brand                1\n",
       "weight              57\n",
       "pieces            1475\n",
       "dtype: int64"
      ]
     },
     "execution_count": 18,
     "metadata": {},
     "output_type": "execute_result"
    }
   ],
   "source": [
    "\n",
    "df_produto.isnull().sum()"
   ]
  },
  {
   "cell_type": "code",
   "execution_count": 19,
   "id": "977c3f57",
   "metadata": {
    "execution": {
     "iopub.execute_input": "2022-11-25T22:36:53.783276Z",
     "iopub.status.busy": "2022-11-25T22:36:53.782621Z",
     "iopub.status.idle": "2022-11-25T22:36:53.799219Z",
     "shell.execute_reply": "2022-11-25T22:36:53.797814Z"
    },
    "id": "ZTP5o7efSBqX",
    "outputId": "951a7abb-641c-4cec-e454-98d925cce11e",
    "papermill": {
     "duration": 0.032971,
     "end_time": "2022-11-25T22:36:53.802533",
     "exception": false,
     "start_time": "2022-11-25T22:36:53.769562",
     "status": "completed"
    },
    "tags": []
   },
   "outputs": [
    {
     "name": "stdout",
     "output_type": "stream",
     "text": [
      "<class 'pandas.core.frame.DataFrame'>\n",
      "RangeIndex: 2592 entries, 0 to 2591\n",
      "Data columns (total 6 columns):\n",
      " #   Column          Non-Null Count  Dtype  \n",
      "---  ------          --------------  -----  \n",
      " 0   Producto_ID     2592 non-null   int64  \n",
      " 1   NombreProducto  2592 non-null   object \n",
      " 2   short_name      2592 non-null   object \n",
      " 3   brand           2591 non-null   object \n",
      " 4   weight          2535 non-null   float64\n",
      " 5   pieces          1117 non-null   float64\n",
      "dtypes: float64(2), int64(1), object(3)\n",
      "memory usage: 121.6+ KB\n"
     ]
    }
   ],
   "source": [
    "df_produto.info()"
   ]
  },
  {
   "cell_type": "code",
   "execution_count": null,
   "id": "8c05ca67",
   "metadata": {
    "id": "QwfIiVjGKZhf",
    "papermill": {
     "duration": 0.011385,
     "end_time": "2022-11-25T22:36:53.826605",
     "exception": false,
     "start_time": "2022-11-25T22:36:53.815220",
     "status": "completed"
    },
    "tags": []
   },
   "outputs": [],
   "source": []
  },
  {
   "cell_type": "markdown",
   "id": "fc1fb120",
   "metadata": {
    "id": "ma-4Er1ETv72",
    "papermill": {
     "duration": 0.011421,
     "end_time": "2022-11-25T22:36:53.850647",
     "exception": false,
     "start_time": "2022-11-25T22:36:53.839226",
     "status": "completed"
    },
    "tags": []
   },
   "source": [
    "## Join tables\n",
    "The coordinates of the address was done by fist joing the State and Town columns and then extract on Geolocation API by Google"
   ]
  },
  {
   "cell_type": "code",
   "execution_count": 20,
   "id": "1db55b52",
   "metadata": {
    "execution": {
     "iopub.execute_input": "2022-11-25T22:36:53.876159Z",
     "iopub.status.busy": "2022-11-25T22:36:53.875744Z",
     "iopub.status.idle": "2022-11-25T22:36:54.303770Z",
     "shell.execute_reply": "2022-11-25T22:36:54.302717Z"
    },
    "id": "GrPL_j2LVG_n",
    "papermill": {
     "duration": 0.44404,
     "end_time": "2022-11-25T22:36:54.306435",
     "exception": false,
     "start_time": "2022-11-25T22:36:53.862395",
     "status": "completed"
    },
    "tags": []
   },
   "outputs": [],
   "source": [
    "# juncao da table town state com df_final\n",
    "df_town = pd.read_csv(\"3.town_state.csv\")\n",
    "df_final = pd.merge(df_final, df_town, on=\"Agencia_ID\", how=\"inner\")"
   ]
  },
  {
   "cell_type": "code",
   "execution_count": 21,
   "id": "67fd7dad",
   "metadata": {
    "execution": {
     "iopub.execute_input": "2022-11-25T22:36:54.332211Z",
     "iopub.status.busy": "2022-11-25T22:36:54.331819Z",
     "iopub.status.idle": "2022-11-25T22:37:28.351100Z",
     "shell.execute_reply": "2022-11-25T22:37:28.349984Z"
    },
    "id": "xFcmQEwSUwol",
    "papermill": {
     "duration": 34.035627,
     "end_time": "2022-11-25T22:37:28.354220",
     "exception": false,
     "start_time": "2022-11-25T22:36:54.318593",
     "status": "completed"
    },
    "tags": []
   },
   "outputs": [],
   "source": [
    "#concatenar as columas state e town.\n",
    "df_final['Address'] = df_final[['State', 'Town']].agg(', '.join, axis=1)"
   ]
  },
  {
   "cell_type": "code",
   "execution_count": 22,
   "id": "cc0c43c8",
   "metadata": {
    "execution": {
     "iopub.execute_input": "2022-11-25T22:37:28.380189Z",
     "iopub.status.busy": "2022-11-25T22:37:28.379800Z",
     "iopub.status.idle": "2022-11-25T22:37:29.986941Z",
     "shell.execute_reply": "2022-11-25T22:37:29.985885Z"
    },
    "id": "fauYE6ozKX9_",
    "papermill": {
     "duration": 1.62339,
     "end_time": "2022-11-25T22:37:29.989677",
     "exception": false,
     "start_time": "2022-11-25T22:37:28.366287",
     "status": "completed"
    },
    "tags": []
   },
   "outputs": [],
   "source": [
    "#Juntar todas as tabelas ao df_final\n",
    "df_main = pd.merge(df_final, df_cliente, on=\"Cliente_ID\", how=\"inner\")\n",
    "df_main = pd.merge(df_main, df_address, on=\"Address\", how=\"inner\")\n",
    "df_main = pd.merge(df_main, df_produto, on=\"Producto_ID\", how=\"inner\")"
   ]
  },
  {
   "cell_type": "code",
   "execution_count": 23,
   "id": "71bd7d68",
   "metadata": {
    "execution": {
     "iopub.execute_input": "2022-11-25T22:37:30.016062Z",
     "iopub.status.busy": "2022-11-25T22:37:30.015627Z",
     "iopub.status.idle": "2022-11-25T22:37:30.042633Z",
     "shell.execute_reply": "2022-11-25T22:37:30.041508Z"
    },
    "id": "h36P_oNAKXZB",
    "outputId": "67c13a82-7fe6-402c-ad09-5aa044b7d70b",
    "papermill": {
     "duration": 0.043103,
     "end_time": "2022-11-25T22:37:30.045003",
     "exception": false,
     "start_time": "2022-11-25T22:37:30.001900",
     "status": "completed"
    },
    "tags": []
   },
   "outputs": [
    {
     "data": {
      "text/html": [
       "<div>\n",
       "<style scoped>\n",
       "    .dataframe tbody tr th:only-of-type {\n",
       "        vertical-align: middle;\n",
       "    }\n",
       "\n",
       "    .dataframe tbody tr th {\n",
       "        vertical-align: top;\n",
       "    }\n",
       "\n",
       "    .dataframe thead th {\n",
       "        text-align: right;\n",
       "    }\n",
       "</style>\n",
       "<table border=\"1\" class=\"dataframe\">\n",
       "  <thead>\n",
       "    <tr style=\"text-align: right;\">\n",
       "      <th></th>\n",
       "      <th>Semana</th>\n",
       "      <th>Agencia_ID</th>\n",
       "      <th>Canal_ID</th>\n",
       "      <th>Ruta_SAK</th>\n",
       "      <th>Cliente_ID</th>\n",
       "      <th>Producto_ID</th>\n",
       "      <th>Venta_uni_hoy</th>\n",
       "      <th>Venta_hoy</th>\n",
       "      <th>Dev_uni_proxima</th>\n",
       "      <th>Dev_proxima</th>\n",
       "      <th>...</th>\n",
       "      <th>State</th>\n",
       "      <th>Address</th>\n",
       "      <th>NombreCliente</th>\n",
       "      <th>Latitude</th>\n",
       "      <th>Longitude</th>\n",
       "      <th>NombreProducto</th>\n",
       "      <th>short_name</th>\n",
       "      <th>brand</th>\n",
       "      <th>weight</th>\n",
       "      <th>pieces</th>\n",
       "    </tr>\n",
       "  </thead>\n",
       "  <tbody>\n",
       "    <tr>\n",
       "      <th>0</th>\n",
       "      <td>5</td>\n",
       "      <td>1936</td>\n",
       "      <td>1</td>\n",
       "      <td>1158</td>\n",
       "      <td>1575677</td>\n",
       "      <td>2425</td>\n",
       "      <td>60</td>\n",
       "      <td>270.0</td>\n",
       "      <td>0</td>\n",
       "      <td>0.0</td>\n",
       "      <td>...</td>\n",
       "      <td>GUANAJUATO</td>\n",
       "      <td>GUANAJUATO, 2300 LEON MILENIUM</td>\n",
       "      <td>Small Franchise</td>\n",
       "      <td>21.122129</td>\n",
       "      <td>-101.60347</td>\n",
       "      <td>Nito 1p 62g Central BIM 2425</td>\n",
       "      <td>Nito</td>\n",
       "      <td>BIM</td>\n",
       "      <td>62.0</td>\n",
       "      <td>1.0</td>\n",
       "    </tr>\n",
       "    <tr>\n",
       "      <th>1</th>\n",
       "      <td>3</td>\n",
       "      <td>1936</td>\n",
       "      <td>1</td>\n",
       "      <td>1164</td>\n",
       "      <td>4511404</td>\n",
       "      <td>2425</td>\n",
       "      <td>60</td>\n",
       "      <td>270.0</td>\n",
       "      <td>0</td>\n",
       "      <td>0.0</td>\n",
       "      <td>...</td>\n",
       "      <td>GUANAJUATO</td>\n",
       "      <td>GUANAJUATO, 2300 LEON MILENIUM</td>\n",
       "      <td>NO IDENTIFICADO</td>\n",
       "      <td>21.122129</td>\n",
       "      <td>-101.60347</td>\n",
       "      <td>Nito 1p 62g Central BIM 2425</td>\n",
       "      <td>Nito</td>\n",
       "      <td>BIM</td>\n",
       "      <td>62.0</td>\n",
       "      <td>1.0</td>\n",
       "    </tr>\n",
       "    <tr>\n",
       "      <th>2</th>\n",
       "      <td>4</td>\n",
       "      <td>1936</td>\n",
       "      <td>1</td>\n",
       "      <td>1161</td>\n",
       "      <td>66167</td>\n",
       "      <td>2425</td>\n",
       "      <td>24</td>\n",
       "      <td>108.0</td>\n",
       "      <td>0</td>\n",
       "      <td>0.0</td>\n",
       "      <td>...</td>\n",
       "      <td>GUANAJUATO</td>\n",
       "      <td>GUANAJUATO, 2300 LEON MILENIUM</td>\n",
       "      <td>Individual</td>\n",
       "      <td>21.122129</td>\n",
       "      <td>-101.60347</td>\n",
       "      <td>Nito 1p 62g Central BIM 2425</td>\n",
       "      <td>Nito</td>\n",
       "      <td>BIM</td>\n",
       "      <td>62.0</td>\n",
       "      <td>1.0</td>\n",
       "    </tr>\n",
       "    <tr>\n",
       "      <th>3</th>\n",
       "      <td>4</td>\n",
       "      <td>1936</td>\n",
       "      <td>1</td>\n",
       "      <td>1164</td>\n",
       "      <td>948201</td>\n",
       "      <td>2425</td>\n",
       "      <td>1</td>\n",
       "      <td>4.5</td>\n",
       "      <td>2</td>\n",
       "      <td>9.0</td>\n",
       "      <td>...</td>\n",
       "      <td>GUANAJUATO</td>\n",
       "      <td>GUANAJUATO, 2300 LEON MILENIUM</td>\n",
       "      <td>Individual</td>\n",
       "      <td>21.122129</td>\n",
       "      <td>-101.60347</td>\n",
       "      <td>Nito 1p 62g Central BIM 2425</td>\n",
       "      <td>Nito</td>\n",
       "      <td>BIM</td>\n",
       "      <td>62.0</td>\n",
       "      <td>1.0</td>\n",
       "    </tr>\n",
       "    <tr>\n",
       "      <th>4</th>\n",
       "      <td>3</td>\n",
       "      <td>1936</td>\n",
       "      <td>1</td>\n",
       "      <td>1156</td>\n",
       "      <td>877954</td>\n",
       "      <td>2425</td>\n",
       "      <td>55</td>\n",
       "      <td>247.5</td>\n",
       "      <td>0</td>\n",
       "      <td>0.0</td>\n",
       "      <td>...</td>\n",
       "      <td>GUANAJUATO</td>\n",
       "      <td>GUANAJUATO, 2300 LEON MILENIUM</td>\n",
       "      <td>Individual</td>\n",
       "      <td>21.122129</td>\n",
       "      <td>-101.60347</td>\n",
       "      <td>Nito 1p 62g Central BIM 2425</td>\n",
       "      <td>Nito</td>\n",
       "      <td>BIM</td>\n",
       "      <td>62.0</td>\n",
       "      <td>1.0</td>\n",
       "    </tr>\n",
       "  </tbody>\n",
       "</table>\n",
       "<p>5 rows × 22 columns</p>\n",
       "</div>"
      ],
      "text/plain": [
       "   Semana  Agencia_ID  Canal_ID  Ruta_SAK  Cliente_ID  Producto_ID  \\\n",
       "0       5        1936         1      1158     1575677         2425   \n",
       "1       3        1936         1      1164     4511404         2425   \n",
       "2       4        1936         1      1161       66167         2425   \n",
       "3       4        1936         1      1164      948201         2425   \n",
       "4       3        1936         1      1156      877954         2425   \n",
       "\n",
       "   Venta_uni_hoy  Venta_hoy  Dev_uni_proxima  Dev_proxima  ...       State  \\\n",
       "0             60      270.0                0          0.0  ...  GUANAJUATO   \n",
       "1             60      270.0                0          0.0  ...  GUANAJUATO   \n",
       "2             24      108.0                0          0.0  ...  GUANAJUATO   \n",
       "3              1        4.5                2          9.0  ...  GUANAJUATO   \n",
       "4             55      247.5                0          0.0  ...  GUANAJUATO   \n",
       "\n",
       "                          Address    NombreCliente   Latitude  Longitude  \\\n",
       "0  GUANAJUATO, 2300 LEON MILENIUM  Small Franchise  21.122129 -101.60347   \n",
       "1  GUANAJUATO, 2300 LEON MILENIUM  NO IDENTIFICADO  21.122129 -101.60347   \n",
       "2  GUANAJUATO, 2300 LEON MILENIUM       Individual  21.122129 -101.60347   \n",
       "3  GUANAJUATO, 2300 LEON MILENIUM       Individual  21.122129 -101.60347   \n",
       "4  GUANAJUATO, 2300 LEON MILENIUM       Individual  21.122129 -101.60347   \n",
       "\n",
       "                 NombreProducto  short_name brand weight pieces  \n",
       "0  Nito 1p 62g Central BIM 2425       Nito    BIM   62.0    1.0  \n",
       "1  Nito 1p 62g Central BIM 2425       Nito    BIM   62.0    1.0  \n",
       "2  Nito 1p 62g Central BIM 2425       Nito    BIM   62.0    1.0  \n",
       "3  Nito 1p 62g Central BIM 2425       Nito    BIM   62.0    1.0  \n",
       "4  Nito 1p 62g Central BIM 2425       Nito    BIM   62.0    1.0  \n",
       "\n",
       "[5 rows x 22 columns]"
      ]
     },
     "execution_count": 23,
     "metadata": {},
     "output_type": "execute_result"
    }
   ],
   "source": [
    "df_main.head()"
   ]
  },
  {
   "cell_type": "code",
   "execution_count": 24,
   "id": "1173728e",
   "metadata": {
    "execution": {
     "iopub.execute_input": "2022-11-25T22:37:30.071317Z",
     "iopub.status.busy": "2022-11-25T22:37:30.070898Z",
     "iopub.status.idle": "2022-11-25T22:37:30.509363Z",
     "shell.execute_reply": "2022-11-25T22:37:30.507743Z"
    },
    "id": "k2m4uS8OXnu5",
    "outputId": "b988cd8e-08bb-4b17-b6d9-a39ad139e04d",
    "papermill": {
     "duration": 0.454704,
     "end_time": "2022-11-25T22:37:30.512141",
     "exception": false,
     "start_time": "2022-11-25T22:37:30.057437",
     "status": "completed"
    },
    "tags": []
   },
   "outputs": [
    {
     "name": "stdout",
     "output_type": "stream",
     "text": [
      "<class 'pandas.core.frame.DataFrame'>\n",
      "Int64Index: 964348 entries, 0 to 964347\n",
      "Data columns (total 22 columns):\n",
      " #   Column             Non-Null Count   Dtype  \n",
      "---  ------             --------------   -----  \n",
      " 0   Semana             964348 non-null  int64  \n",
      " 1   Agencia_ID         964348 non-null  int64  \n",
      " 2   Canal_ID           964348 non-null  int64  \n",
      " 3   Ruta_SAK           964348 non-null  int64  \n",
      " 4   Cliente_ID         964348 non-null  int64  \n",
      " 5   Producto_ID        964348 non-null  int64  \n",
      " 6   Venta_uni_hoy      964348 non-null  int64  \n",
      " 7   Venta_hoy          964348 non-null  float64\n",
      " 8   Dev_uni_proxima    964348 non-null  int64  \n",
      " 9   Dev_proxima        964348 non-null  float64\n",
      " 10  Demanda_uni_equil  964348 non-null  int64  \n",
      " 11  Town               964348 non-null  object \n",
      " 12  State              964348 non-null  object \n",
      " 13  Address            964348 non-null  object \n",
      " 14  NombreCliente      964348 non-null  object \n",
      " 15  Latitude           964348 non-null  float64\n",
      " 16  Longitude          964348 non-null  float64\n",
      " 17  NombreProducto     964348 non-null  object \n",
      " 18  short_name         964348 non-null  object \n",
      " 19  brand              964348 non-null  object \n",
      " 20  weight             961049 non-null  float64\n",
      " 21  pieces             623668 non-null  float64\n",
      "dtypes: float64(6), int64(9), object(7)\n",
      "memory usage: 169.2+ MB\n"
     ]
    }
   ],
   "source": [
    "df_main.info()"
   ]
  },
  {
   "cell_type": "code",
   "execution_count": 25,
   "id": "2392d0d6",
   "metadata": {
    "execution": {
     "iopub.execute_input": "2022-11-25T22:37:30.539201Z",
     "iopub.status.busy": "2022-11-25T22:37:30.538817Z",
     "iopub.status.idle": "2022-11-25T22:37:30.555944Z",
     "shell.execute_reply": "2022-11-25T22:37:30.554756Z"
    },
    "id": "-eHJ1e_SYJZe",
    "papermill": {
     "duration": 0.033965,
     "end_time": "2022-11-25T22:37:30.558872",
     "exception": false,
     "start_time": "2022-11-25T22:37:30.524907",
     "status": "completed"
    },
    "tags": []
   },
   "outputs": [],
   "source": [
    "#contar os valor da Ruta_SAK para obter as rotas mais frequentadas\n",
    "df_ = df_main['Ruta_SAK'].value_counts().rename_axis('Ruta_SAK').reset_index(name='Ruta_SAK_counts')"
   ]
  },
  {
   "cell_type": "code",
   "execution_count": 26,
   "id": "be86d102",
   "metadata": {
    "execution": {
     "iopub.execute_input": "2022-11-25T22:37:30.586758Z",
     "iopub.status.busy": "2022-11-25T22:37:30.585460Z",
     "iopub.status.idle": "2022-11-25T22:37:30.598004Z",
     "shell.execute_reply": "2022-11-25T22:37:30.596943Z"
    },
    "papermill": {
     "duration": 0.028742,
     "end_time": "2022-11-25T22:37:30.600221",
     "exception": false,
     "start_time": "2022-11-25T22:37:30.571479",
     "status": "completed"
    },
    "tags": []
   },
   "outputs": [
    {
     "data": {
      "text/html": [
       "<div>\n",
       "<style scoped>\n",
       "    .dataframe tbody tr th:only-of-type {\n",
       "        vertical-align: middle;\n",
       "    }\n",
       "\n",
       "    .dataframe tbody tr th {\n",
       "        vertical-align: top;\n",
       "    }\n",
       "\n",
       "    .dataframe thead th {\n",
       "        text-align: right;\n",
       "    }\n",
       "</style>\n",
       "<table border=\"1\" class=\"dataframe\">\n",
       "  <thead>\n",
       "    <tr style=\"text-align: right;\">\n",
       "      <th></th>\n",
       "      <th>Ruta_SAK</th>\n",
       "      <th>Ruta_SAK_counts</th>\n",
       "    </tr>\n",
       "  </thead>\n",
       "  <tbody>\n",
       "    <tr>\n",
       "      <th>0</th>\n",
       "      <td>1201</td>\n",
       "      <td>6021</td>\n",
       "    </tr>\n",
       "    <tr>\n",
       "      <th>1</th>\n",
       "      <td>1203</td>\n",
       "      <td>5882</td>\n",
       "    </tr>\n",
       "    <tr>\n",
       "      <th>2</th>\n",
       "      <td>1204</td>\n",
       "      <td>5553</td>\n",
       "    </tr>\n",
       "    <tr>\n",
       "      <th>3</th>\n",
       "      <td>1202</td>\n",
       "      <td>5501</td>\n",
       "    </tr>\n",
       "    <tr>\n",
       "      <th>4</th>\n",
       "      <td>1205</td>\n",
       "      <td>5336</td>\n",
       "    </tr>\n",
       "    <tr>\n",
       "      <th>...</th>\n",
       "      <td>...</td>\n",
       "      <td>...</td>\n",
       "    </tr>\n",
       "    <tr>\n",
       "      <th>2259</th>\n",
       "      <td>7734</td>\n",
       "      <td>1</td>\n",
       "    </tr>\n",
       "    <tr>\n",
       "      <th>2260</th>\n",
       "      <td>8476</td>\n",
       "      <td>1</td>\n",
       "    </tr>\n",
       "    <tr>\n",
       "      <th>2261</th>\n",
       "      <td>7453</td>\n",
       "      <td>1</td>\n",
       "    </tr>\n",
       "    <tr>\n",
       "      <th>2262</th>\n",
       "      <td>7988</td>\n",
       "      <td>1</td>\n",
       "    </tr>\n",
       "    <tr>\n",
       "      <th>2263</th>\n",
       "      <td>6096</td>\n",
       "      <td>1</td>\n",
       "    </tr>\n",
       "  </tbody>\n",
       "</table>\n",
       "<p>2264 rows × 2 columns</p>\n",
       "</div>"
      ],
      "text/plain": [
       "      Ruta_SAK  Ruta_SAK_counts\n",
       "0         1201             6021\n",
       "1         1203             5882\n",
       "2         1204             5553\n",
       "3         1202             5501\n",
       "4         1205             5336\n",
       "...        ...              ...\n",
       "2259      7734                1\n",
       "2260      8476                1\n",
       "2261      7453                1\n",
       "2262      7988                1\n",
       "2263      6096                1\n",
       "\n",
       "[2264 rows x 2 columns]"
      ]
     },
     "execution_count": 26,
     "metadata": {},
     "output_type": "execute_result"
    }
   ],
   "source": [
    "df_"
   ]
  },
  {
   "cell_type": "code",
   "execution_count": 27,
   "id": "db342e89",
   "metadata": {
    "execution": {
     "iopub.execute_input": "2022-11-25T22:37:30.628443Z",
     "iopub.status.busy": "2022-11-25T22:37:30.627391Z",
     "iopub.status.idle": "2022-11-25T22:37:31.220519Z",
     "shell.execute_reply": "2022-11-25T22:37:31.218939Z"
    },
    "id": "bI1bpL5IY7ko",
    "papermill": {
     "duration": 0.609894,
     "end_time": "2022-11-25T22:37:31.223238",
     "exception": false,
     "start_time": "2022-11-25T22:37:30.613344",
     "status": "completed"
    },
    "tags": []
   },
   "outputs": [],
   "source": [
    "\n",
    "df_main = pd.merge(df_main, df_, on='Ruta_SAK', how='inner')"
   ]
  },
  {
   "cell_type": "code",
   "execution_count": 28,
   "id": "9150667f",
   "metadata": {
    "execution": {
     "iopub.execute_input": "2022-11-25T22:37:31.250503Z",
     "iopub.status.busy": "2022-11-25T22:37:31.250036Z",
     "iopub.status.idle": "2022-11-25T22:37:31.276558Z",
     "shell.execute_reply": "2022-11-25T22:37:31.275384Z"
    },
    "papermill": {
     "duration": 0.043372,
     "end_time": "2022-11-25T22:37:31.279284",
     "exception": false,
     "start_time": "2022-11-25T22:37:31.235912",
     "status": "completed"
    },
    "tags": []
   },
   "outputs": [
    {
     "data": {
      "text/html": [
       "<div>\n",
       "<style scoped>\n",
       "    .dataframe tbody tr th:only-of-type {\n",
       "        vertical-align: middle;\n",
       "    }\n",
       "\n",
       "    .dataframe tbody tr th {\n",
       "        vertical-align: top;\n",
       "    }\n",
       "\n",
       "    .dataframe thead th {\n",
       "        text-align: right;\n",
       "    }\n",
       "</style>\n",
       "<table border=\"1\" class=\"dataframe\">\n",
       "  <thead>\n",
       "    <tr style=\"text-align: right;\">\n",
       "      <th></th>\n",
       "      <th>Semana</th>\n",
       "      <th>Agencia_ID</th>\n",
       "      <th>Canal_ID</th>\n",
       "      <th>Ruta_SAK</th>\n",
       "      <th>Cliente_ID</th>\n",
       "      <th>Producto_ID</th>\n",
       "      <th>Venta_uni_hoy</th>\n",
       "      <th>Venta_hoy</th>\n",
       "      <th>Dev_uni_proxima</th>\n",
       "      <th>Dev_proxima</th>\n",
       "      <th>...</th>\n",
       "      <th>Address</th>\n",
       "      <th>NombreCliente</th>\n",
       "      <th>Latitude</th>\n",
       "      <th>Longitude</th>\n",
       "      <th>NombreProducto</th>\n",
       "      <th>short_name</th>\n",
       "      <th>brand</th>\n",
       "      <th>weight</th>\n",
       "      <th>pieces</th>\n",
       "      <th>Ruta_SAK_counts</th>\n",
       "    </tr>\n",
       "  </thead>\n",
       "  <tbody>\n",
       "    <tr>\n",
       "      <th>0</th>\n",
       "      <td>5</td>\n",
       "      <td>1936</td>\n",
       "      <td>1</td>\n",
       "      <td>1158</td>\n",
       "      <td>1575677</td>\n",
       "      <td>2425</td>\n",
       "      <td>60</td>\n",
       "      <td>270.0</td>\n",
       "      <td>0</td>\n",
       "      <td>0.0</td>\n",
       "      <td>...</td>\n",
       "      <td>GUANAJUATO, 2300 LEON MILENIUM</td>\n",
       "      <td>Small Franchise</td>\n",
       "      <td>21.122129</td>\n",
       "      <td>-101.60347</td>\n",
       "      <td>Nito 1p 62g Central BIM 2425</td>\n",
       "      <td>Nito</td>\n",
       "      <td>BIM</td>\n",
       "      <td>62.0</td>\n",
       "      <td>1.0</td>\n",
       "      <td>2008</td>\n",
       "    </tr>\n",
       "    <tr>\n",
       "      <th>1</th>\n",
       "      <td>8</td>\n",
       "      <td>1936</td>\n",
       "      <td>1</td>\n",
       "      <td>1158</td>\n",
       "      <td>841050</td>\n",
       "      <td>2425</td>\n",
       "      <td>20</td>\n",
       "      <td>90.0</td>\n",
       "      <td>0</td>\n",
       "      <td>0.0</td>\n",
       "      <td>...</td>\n",
       "      <td>GUANAJUATO, 2300 LEON MILENIUM</td>\n",
       "      <td>Individual</td>\n",
       "      <td>21.122129</td>\n",
       "      <td>-101.60347</td>\n",
       "      <td>Nito 1p 62g Central BIM 2425</td>\n",
       "      <td>Nito</td>\n",
       "      <td>BIM</td>\n",
       "      <td>62.0</td>\n",
       "      <td>1.0</td>\n",
       "      <td>2008</td>\n",
       "    </tr>\n",
       "    <tr>\n",
       "      <th>2</th>\n",
       "      <td>6</td>\n",
       "      <td>1936</td>\n",
       "      <td>1</td>\n",
       "      <td>1158</td>\n",
       "      <td>3422113</td>\n",
       "      <td>2425</td>\n",
       "      <td>10</td>\n",
       "      <td>45.0</td>\n",
       "      <td>0</td>\n",
       "      <td>0.0</td>\n",
       "      <td>...</td>\n",
       "      <td>GUANAJUATO, 2300 LEON MILENIUM</td>\n",
       "      <td>NO IDENTIFICADO</td>\n",
       "      <td>21.122129</td>\n",
       "      <td>-101.60347</td>\n",
       "      <td>Nito 1p 62g Central BIM 2425</td>\n",
       "      <td>Nito</td>\n",
       "      <td>BIM</td>\n",
       "      <td>62.0</td>\n",
       "      <td>1.0</td>\n",
       "      <td>2008</td>\n",
       "    </tr>\n",
       "    <tr>\n",
       "      <th>3</th>\n",
       "      <td>7</td>\n",
       "      <td>1936</td>\n",
       "      <td>1</td>\n",
       "      <td>1158</td>\n",
       "      <td>1570783</td>\n",
       "      <td>2425</td>\n",
       "      <td>25</td>\n",
       "      <td>112.5</td>\n",
       "      <td>0</td>\n",
       "      <td>0.0</td>\n",
       "      <td>...</td>\n",
       "      <td>GUANAJUATO, 2300 LEON MILENIUM</td>\n",
       "      <td>Small Franchise</td>\n",
       "      <td>21.122129</td>\n",
       "      <td>-101.60347</td>\n",
       "      <td>Nito 1p 62g Central BIM 2425</td>\n",
       "      <td>Nito</td>\n",
       "      <td>BIM</td>\n",
       "      <td>62.0</td>\n",
       "      <td>1.0</td>\n",
       "      <td>2008</td>\n",
       "    </tr>\n",
       "    <tr>\n",
       "      <th>4</th>\n",
       "      <td>9</td>\n",
       "      <td>1936</td>\n",
       "      <td>1</td>\n",
       "      <td>1158</td>\n",
       "      <td>2296923</td>\n",
       "      <td>2425</td>\n",
       "      <td>23</td>\n",
       "      <td>103.5</td>\n",
       "      <td>0</td>\n",
       "      <td>0.0</td>\n",
       "      <td>...</td>\n",
       "      <td>GUANAJUATO, 2300 LEON MILENIUM</td>\n",
       "      <td>Small Franchise</td>\n",
       "      <td>21.122129</td>\n",
       "      <td>-101.60347</td>\n",
       "      <td>Nito 1p 62g Central BIM 2425</td>\n",
       "      <td>Nito</td>\n",
       "      <td>BIM</td>\n",
       "      <td>62.0</td>\n",
       "      <td>1.0</td>\n",
       "      <td>2008</td>\n",
       "    </tr>\n",
       "  </tbody>\n",
       "</table>\n",
       "<p>5 rows × 23 columns</p>\n",
       "</div>"
      ],
      "text/plain": [
       "   Semana  Agencia_ID  Canal_ID  Ruta_SAK  Cliente_ID  Producto_ID  \\\n",
       "0       5        1936         1      1158     1575677         2425   \n",
       "1       8        1936         1      1158      841050         2425   \n",
       "2       6        1936         1      1158     3422113         2425   \n",
       "3       7        1936         1      1158     1570783         2425   \n",
       "4       9        1936         1      1158     2296923         2425   \n",
       "\n",
       "   Venta_uni_hoy  Venta_hoy  Dev_uni_proxima  Dev_proxima  ...  \\\n",
       "0             60      270.0                0          0.0  ...   \n",
       "1             20       90.0                0          0.0  ...   \n",
       "2             10       45.0                0          0.0  ...   \n",
       "3             25      112.5                0          0.0  ...   \n",
       "4             23      103.5                0          0.0  ...   \n",
       "\n",
       "                          Address    NombreCliente   Latitude  Longitude  \\\n",
       "0  GUANAJUATO, 2300 LEON MILENIUM  Small Franchise  21.122129 -101.60347   \n",
       "1  GUANAJUATO, 2300 LEON MILENIUM       Individual  21.122129 -101.60347   \n",
       "2  GUANAJUATO, 2300 LEON MILENIUM  NO IDENTIFICADO  21.122129 -101.60347   \n",
       "3  GUANAJUATO, 2300 LEON MILENIUM  Small Franchise  21.122129 -101.60347   \n",
       "4  GUANAJUATO, 2300 LEON MILENIUM  Small Franchise  21.122129 -101.60347   \n",
       "\n",
       "                 NombreProducto  short_name  brand weight pieces  \\\n",
       "0  Nito 1p 62g Central BIM 2425       Nito     BIM   62.0    1.0   \n",
       "1  Nito 1p 62g Central BIM 2425       Nito     BIM   62.0    1.0   \n",
       "2  Nito 1p 62g Central BIM 2425       Nito     BIM   62.0    1.0   \n",
       "3  Nito 1p 62g Central BIM 2425       Nito     BIM   62.0    1.0   \n",
       "4  Nito 1p 62g Central BIM 2425       Nito     BIM   62.0    1.0   \n",
       "\n",
       "  Ruta_SAK_counts  \n",
       "0            2008  \n",
       "1            2008  \n",
       "2            2008  \n",
       "3            2008  \n",
       "4            2008  \n",
       "\n",
       "[5 rows x 23 columns]"
      ]
     },
     "execution_count": 28,
     "metadata": {},
     "output_type": "execute_result"
    }
   ],
   "source": [
    "df_main.head()"
   ]
  },
  {
   "cell_type": "code",
   "execution_count": 29,
   "id": "3aad18a8",
   "metadata": {
    "execution": {
     "iopub.execute_input": "2022-11-25T22:37:31.307770Z",
     "iopub.status.busy": "2022-11-25T22:37:31.306878Z",
     "iopub.status.idle": "2022-11-25T22:37:31.314341Z",
     "shell.execute_reply": "2022-11-25T22:37:31.313105Z"
    },
    "id": "2Qiap8_VaFDl",
    "outputId": "1c76b13c-ec59-4957-fb7c-ed6c194accab",
    "papermill": {
     "duration": 0.024444,
     "end_time": "2022-11-25T22:37:31.316946",
     "exception": false,
     "start_time": "2022-11-25T22:37:31.292502",
     "status": "completed"
    },
    "tags": []
   },
   "outputs": [
    {
     "data": {
      "text/plain": [
       "Index(['Semana', 'Agencia_ID', 'Canal_ID', 'Ruta_SAK', 'Cliente_ID',\n",
       "       'Producto_ID', 'Venta_uni_hoy', 'Venta_hoy', 'Dev_uni_proxima',\n",
       "       'Dev_proxima', 'Demanda_uni_equil', 'Town', 'State', 'Address',\n",
       "       'NombreCliente', 'Latitude', 'Longitude', 'NombreProducto',\n",
       "       'short_name', 'brand', 'weight', 'pieces', 'Ruta_SAK_counts'],\n",
       "      dtype='object')"
      ]
     },
     "execution_count": 29,
     "metadata": {},
     "output_type": "execute_result"
    }
   ],
   "source": [
    "df_main.columns"
   ]
  },
  {
   "cell_type": "code",
   "execution_count": 30,
   "id": "f1544d4b",
   "metadata": {
    "execution": {
     "iopub.execute_input": "2022-11-25T22:37:31.346404Z",
     "iopub.status.busy": "2022-11-25T22:37:31.345146Z",
     "iopub.status.idle": "2022-11-25T22:37:31.349431Z",
     "shell.execute_reply": "2022-11-25T22:37:31.348713Z"
    },
    "id": "_FXDhMS4ZDXH",
    "papermill": {
     "duration": 0.021052,
     "end_time": "2022-11-25T22:37:31.351377",
     "exception": false,
     "start_time": "2022-11-25T22:37:31.330325",
     "status": "completed"
    },
    "tags": []
   },
   "outputs": [],
   "source": [
    "# delete the last duplicate columns\n",
    "#df_main.drop(list(df_main)[-1], axis=1, inplace=True)"
   ]
  },
  {
   "cell_type": "code",
   "execution_count": 31,
   "id": "32103bf9",
   "metadata": {
    "execution": {
     "iopub.execute_input": "2022-11-25T22:37:31.379330Z",
     "iopub.status.busy": "2022-11-25T22:37:31.378930Z",
     "iopub.status.idle": "2022-11-25T22:37:31.900027Z",
     "shell.execute_reply": "2022-11-25T22:37:31.898752Z"
    },
    "id": "r75Nk7aWZzQS",
    "papermill": {
     "duration": 0.538464,
     "end_time": "2022-11-25T22:37:31.902905",
     "exception": false,
     "start_time": "2022-11-25T22:37:31.364441",
     "status": "completed"
    },
    "tags": []
   },
   "outputs": [],
   "source": [
    "#drop the unecessary columns for prediction\n",
    "\n",
    "dropColumns = [\"Agencia_ID\", \"Ruta_SAK\", \"Cliente_ID\", \"Producto_ID\", \"State\", \"Address\", \"NombreProducto\"]\n",
    "df_main.drop(dropColumns, axis=1, inplace=True)"
   ]
  },
  {
   "cell_type": "code",
   "execution_count": 32,
   "id": "90f7aba7",
   "metadata": {
    "execution": {
     "iopub.execute_input": "2022-11-25T22:37:31.931251Z",
     "iopub.status.busy": "2022-11-25T22:37:31.930843Z",
     "iopub.status.idle": "2022-11-25T22:37:31.937369Z",
     "shell.execute_reply": "2022-11-25T22:37:31.936292Z"
    },
    "id": "-_iGyFS7ZExl",
    "papermill": {
     "duration": 0.023686,
     "end_time": "2022-11-25T22:37:31.939781",
     "exception": false,
     "start_time": "2022-11-25T22:37:31.916095",
     "status": "completed"
    },
    "tags": []
   },
   "outputs": [],
   "source": [
    "# Rename the columns\n",
    "renameColumns = {\"Semana\":\"Week\", \n",
    "                 \"Venta_uni_hoy\":\"SalesUnitWeek\",\n",
    "                 \"Venta_hoy\": \"SalesPesosWeek\",\n",
    "                 \"Dev_proxima\": \"RetrunsPesosNextWeek\",\n",
    "                 \"Dev_uni_proxima\": \"ReturnsUnitNextWeek\",\n",
    "                 \"Demanda_uni_equil\": \"AjustedDemand\",\n",
    "                 \"NombreCliente\": \"typeClient\"\n",
    "                 }\n",
    "df_main.rename(columns=renameColumns, inplace=True)"
   ]
  },
  {
   "cell_type": "code",
   "execution_count": 33,
   "id": "a3e6c2dc",
   "metadata": {
    "execution": {
     "iopub.execute_input": "2022-11-25T22:37:31.967921Z",
     "iopub.status.busy": "2022-11-25T22:37:31.967483Z",
     "iopub.status.idle": "2022-11-25T22:37:33.532238Z",
     "shell.execute_reply": "2022-11-25T22:37:33.530912Z"
    },
    "id": "D1KM5nZnbav-",
    "papermill": {
     "duration": 1.582774,
     "end_time": "2022-11-25T22:37:33.535800",
     "exception": false,
     "start_time": "2022-11-25T22:37:31.953026",
     "status": "completed"
    },
    "tags": []
   },
   "outputs": [],
   "source": [
    "#change the target from regression problem to Binary problem\n",
    "df_main[\"AjustedDemand\"] = df_main['AjustedDemand'].apply(lambda x: 0 if x==0 or np.log10(x) <0.56 else 1)"
   ]
  },
  {
   "cell_type": "code",
   "execution_count": 34,
   "id": "13e584d7",
   "metadata": {
    "execution": {
     "iopub.execute_input": "2022-11-25T22:37:33.569097Z",
     "iopub.status.busy": "2022-11-25T22:37:33.568544Z",
     "iopub.status.idle": "2022-11-25T22:37:33.583692Z",
     "shell.execute_reply": "2022-11-25T22:37:33.582478Z"
    },
    "papermill": {
     "duration": 0.033872,
     "end_time": "2022-11-25T22:37:33.586238",
     "exception": false,
     "start_time": "2022-11-25T22:37:33.552366",
     "status": "completed"
    },
    "tags": []
   },
   "outputs": [],
   "source": [
    "#produtos que foram vendidos, mas nao retornados\n",
    "df_main[\"ReturnUnitMissing\"] = df_main[\"SalesUnitWeek\"] - df_main[\"ReturnsUnitNextWeek\"]\n",
    "df_main[\"ReturnPesosMissing\"] = df_main[\"SalesPesosWeek\"] - df_main[\"RetrunsPesosNextWeek\"]"
   ]
  },
  {
   "cell_type": "code",
   "execution_count": 35,
   "id": "2bc29bab",
   "metadata": {
    "execution": {
     "iopub.execute_input": "2022-11-25T22:37:33.614687Z",
     "iopub.status.busy": "2022-11-25T22:37:33.614220Z",
     "iopub.status.idle": "2022-11-25T22:37:34.306623Z",
     "shell.execute_reply": "2022-11-25T22:37:34.305480Z"
    },
    "id": "dRmU07tHcSSG",
    "outputId": "681e3161-69e4-42cc-b9b2-b3516f4c2061",
    "papermill": {
     "duration": 0.709497,
     "end_time": "2022-11-25T22:37:34.309042",
     "exception": false,
     "start_time": "2022-11-25T22:37:33.599545",
     "status": "completed"
    },
    "tags": []
   },
   "outputs": [
    {
     "data": {
      "text/plain": [
       "AjustedDemand           1.000000\n",
       "ReturnUnitMissing       0.266096\n",
       "SalesUnitWeek           0.262159\n",
       "SalesPesosWeek          0.172192\n",
       "ReturnPesosMissing      0.172138\n",
       "Canal_ID                0.124718\n",
       "Latitude                0.020015\n",
       "pieces                 -0.001936\n",
       "Week                   -0.005093\n",
       "RetrunsPesosNextWeek   -0.007559\n",
       "Longitude              -0.010470\n",
       "ReturnsUnitNextWeek    -0.018341\n",
       "Ruta_SAK_counts        -0.088658\n",
       "weight                 -0.106641\n",
       "Name: AjustedDemand, dtype: float64"
      ]
     },
     "execution_count": 35,
     "metadata": {},
     "output_type": "execute_result"
    }
   ],
   "source": [
    "# Corrulation between target and others columns\n",
    "corr_matrix = df_main.corr()\n",
    "corr_matrix[\"AjustedDemand\"].sort_values(ascending=False)"
   ]
  },
  {
   "cell_type": "code",
   "execution_count": 36,
   "id": "0ed9e2b3",
   "metadata": {
    "execution": {
     "iopub.execute_input": "2022-11-25T22:37:34.337827Z",
     "iopub.status.busy": "2022-11-25T22:37:34.336622Z",
     "iopub.status.idle": "2022-11-25T22:37:41.549623Z",
     "shell.execute_reply": "2022-11-25T22:37:41.548513Z"
    },
    "id": "Wos_JLcJcTZE",
    "papermill": {
     "duration": 7.230112,
     "end_time": "2022-11-25T22:37:41.552395",
     "exception": false,
     "start_time": "2022-11-25T22:37:34.322283",
     "status": "completed"
    },
    "tags": []
   },
   "outputs": [],
   "source": [
    "df_main.to_csv(\"df_clean.csv\", index=False)"
   ]
  },
  {
   "cell_type": "code",
   "execution_count": null,
   "id": "bc53a4ee",
   "metadata": {
    "papermill": {
     "duration": 0.012755,
     "end_time": "2022-11-25T22:37:41.578696",
     "exception": false,
     "start_time": "2022-11-25T22:37:41.565941",
     "status": "completed"
    },
    "tags": []
   },
   "outputs": [],
   "source": []
  }
 ],
 "metadata": {
  "kernelspec": {
   "display_name": "Python 3",
   "language": "python",
   "name": "python3"
  },
  "language_info": {
   "codemirror_mode": {
    "name": "ipython",
    "version": 3
   },
   "file_extension": ".py",
   "mimetype": "text/x-python",
   "name": "python",
   "nbconvert_exporter": "python",
   "pygments_lexer": "ipython3",
   "version": "3.7.12"
  },
  "papermill": {
   "default_parameters": {},
   "duration": 187.002255,
   "end_time": "2022-11-25T22:37:42.521320",
   "environment_variables": {},
   "exception": null,
   "input_path": "__notebook__.ipynb",
   "output_path": "__notebook__.ipynb",
   "parameters": {},
   "start_time": "2022-11-25T22:34:35.519065",
   "version": "2.3.4"
  }
 },
 "nbformat": 4,
 "nbformat_minor": 5
}
